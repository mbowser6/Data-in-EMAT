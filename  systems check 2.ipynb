{
 "cells": [
  {
   "cell_type": "markdown",
   "id": "0acd2064",
   "metadata": {},
   "source": [
    "### including an image in a markdown cell\n",
    "\n",
    "![cute puppy](https://w0.peakpx.com/wallpaper/196/630/HD-wallpaper-cute-pup-2-puppy.jpg)\n",
    "\n",
    "_i like dogs, who doesn't_\n",
    "\n",
    "__Puppies are cute__\n",
    "\n",
    "```\n",
    "x = [1]\n",
    "pd.DataFrame(x) \n",
    "```"
   ]
  },
  {
   "cell_type": "markdown",
   "id": "729409ea",
   "metadata": {},
   "source": []
  }
 ],
 "metadata": {
  "kernelspec": {
   "display_name": "Python 3 (ipykernel)",
   "language": "python",
   "name": "python3"
  },
  "language_info": {
   "codemirror_mode": {
    "name": "ipython",
    "version": 3
   },
   "file_extension": ".py",
   "mimetype": "text/x-python",
   "name": "python",
   "nbconvert_exporter": "python",
   "pygments_lexer": "ipython3",
   "version": "3.11.4"
  }
 },
 "nbformat": 4,
 "nbformat_minor": 5
}
