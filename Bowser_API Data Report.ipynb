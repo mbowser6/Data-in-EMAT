{
 "cells": [
  {
   "cell_type": "markdown",
   "id": "86cb05c9",
   "metadata": {},
   "source": [
    "Miranda Bowser\n",
    "\n",
    "API Data Report\n",
    "\n",
    "10/15/23"
   ]
  },
  {
   "cell_type": "markdown",
   "id": "97cecefb",
   "metadata": {},
   "source": [
    "In this report I will be pulling and comparing data from the streaming platform Spotify. With Spotify, you may access millions of songs and other works from artists/creators all around the world. Spotify is a digital music, podcast, and video service.\n",
    "I will be using datasets in this study to support my hypothesis, which is that Rock music has more energy and tempo than Country music when comparing the two musical genres.\n",
    "\n",
    "The Spotify endpoints I will be using for the statistical aspect of this report is \"Get Tracks\"; this allows me to pull data from any song or music album of my choice. The other endpoint I'm using is \"Get Audio Features\"; I'm able to obtain the audio information like tempo, liveliness, etc from each track or album. These endpoints help me get the information I need to prove whether or not my hypothesis is correct.\n",
    "\n",
    "The data should be reliable because a large amount of the information that is being requested isn't being pulled from users personal data. Due to the fact that I'm using albums with numerous songs for this hypothesis, the data may not be as accurate as it would be if it were just one song. A limitation when looking at this data is understanding what the audio features numbers mean."
   ]
  },
  {
   "cell_type": "code",
   "execution_count": 54,
   "id": "1f096295",
   "metadata": {},
   "outputs": [],
   "source": [
    "import requests \n",
    "import pandas as pd \n",
    "import base64\n",
    "import json\n",
    "import urllib"
   ]
  },
  {
   "cell_type": "code",
   "execution_count": 55,
   "id": "f793b68c",
   "metadata": {},
   "outputs": [],
   "source": [
    "Client_ID = pd.read_csv('Spotify_Keys_9-19-23.txt')['Client_ID'].iloc[0] "
   ]
  },
  {
   "cell_type": "code",
   "execution_count": 56,
   "id": "50cc1d4d",
   "metadata": {},
   "outputs": [],
   "source": [
    "#Client_ID"
   ]
  },
  {
   "cell_type": "code",
   "execution_count": 57,
   "id": "82f261fa",
   "metadata": {},
   "outputs": [],
   "source": [
    "Client_Secret = pd.read_csv('Spotify_Keys_9-19-23.txt')['Client_Secret'].iloc[0]"
   ]
  },
  {
   "cell_type": "code",
   "execution_count": 58,
   "id": "6f8ee73c",
   "metadata": {},
   "outputs": [],
   "source": [
    "#Client_Secret"
   ]
  },
  {
   "cell_type": "code",
   "execution_count": 59,
   "id": "8fc521d6",
   "metadata": {},
   "outputs": [],
   "source": [
    "client_cred = base64.b64encode(str(Client_ID + \":\" + Client_Secret).encode(\"ascii\"))"
   ]
  },
  {
   "cell_type": "code",
   "execution_count": 60,
   "id": "33b35087",
   "metadata": {},
   "outputs": [],
   "source": [
    "#client_cred"
   ]
  },
  {
   "cell_type": "code",
   "execution_count": 61,
   "id": "607179ea",
   "metadata": {},
   "outputs": [],
   "source": [
    "headers = {\"Authorization\": \"Basic {}\".format(client_cred.decode(\"ascii\"))}"
   ]
  },
  {
   "cell_type": "code",
   "execution_count": 62,
   "id": "c70b2c45",
   "metadata": {},
   "outputs": [],
   "source": [
    "#headers"
   ]
  },
  {
   "cell_type": "code",
   "execution_count": 63,
   "id": "1429fc05",
   "metadata": {},
   "outputs": [],
   "source": [
    "payload = {'grant_type' : 'client_credentials'}\n",
    "url = 'https://accounts.spotify.com/api/token'"
   ]
  },
  {
   "cell_type": "code",
   "execution_count": 64,
   "id": "c6ab6ad4",
   "metadata": {},
   "outputs": [],
   "source": [
    "session_key_response = requests.post(url = url, data = payload, headers = headers)"
   ]
  },
  {
   "cell_type": "code",
   "execution_count": 65,
   "id": "71e4b54c",
   "metadata": {},
   "outputs": [
    {
     "data": {
      "text/plain": [
       "200"
      ]
     },
     "execution_count": 65,
     "metadata": {},
     "output_type": "execute_result"
    }
   ],
   "source": [
    "session_key_response.status_code"
   ]
  },
  {
   "cell_type": "code",
   "execution_count": 66,
   "id": "fc5a3efb",
   "metadata": {},
   "outputs": [],
   "source": [
    "#session_key_response.json()['access_token']"
   ]
  },
  {
   "cell_type": "code",
   "execution_count": 67,
   "id": "38eef67f",
   "metadata": {},
   "outputs": [],
   "source": [
    "session_headers = {\"Authorization\": \"Bearer {}\".format(session_key_response.json()['access_token'])}"
   ]
  },
  {
   "cell_type": "code",
   "execution_count": 68,
   "id": "df3fe835",
   "metadata": {},
   "outputs": [],
   "source": [
    "#session_headers"
   ]
  },
  {
   "cell_type": "markdown",
   "id": "14de9bb5",
   "metadata": {},
   "source": [
    "This section we begin to look at the Rock album data that was collected from Spotify."
   ]
  },
  {
   "cell_type": "code",
   "execution_count": 69,
   "id": "1c2c42ca",
   "metadata": {},
   "outputs": [],
   "source": [
    "rock_album = '3MSQF2ZGSVOTxTMfs0TeB6'"
   ]
  },
  {
   "cell_type": "code",
   "execution_count": 70,
   "id": "8dcd8092",
   "metadata": {},
   "outputs": [],
   "source": [
    "album_url = 'https://api.spotify.com/v1/albums/{}/tracks'.format(rock_album)"
   ]
  },
  {
   "cell_type": "code",
   "execution_count": 71,
   "id": "e76743e7",
   "metadata": {},
   "outputs": [],
   "source": [
    "response = requests.get(url = album_url, headers = session_headers)"
   ]
  },
  {
   "cell_type": "code",
   "execution_count": 72,
   "id": "e9064f09",
   "metadata": {},
   "outputs": [
    {
     "data": {
      "text/plain": [
       "[{'external_urls': {'spotify': 'https://open.spotify.com/artist/0C0XlULifJtAgn6ZNCW2eu'},\n",
       "  'href': 'https://api.spotify.com/v1/artists/0C0XlULifJtAgn6ZNCW2eu',\n",
       "  'id': '0C0XlULifJtAgn6ZNCW2eu',\n",
       "  'name': 'The Killers',\n",
       "  'type': 'artist',\n",
       "  'uri': 'spotify:artist:0C0XlULifJtAgn6ZNCW2eu'}]"
      ]
     },
     "execution_count": 72,
     "metadata": {},
     "output_type": "execute_result"
    }
   ],
   "source": [
    "data = json.loads(response.text)\n",
    "data['items'][0]['artists']"
   ]
  },
  {
   "cell_type": "code",
   "execution_count": 73,
   "id": "5aafd5f3",
   "metadata": {},
   "outputs": [
    {
     "data": {
      "text/plain": [
       "dict_keys(['href', 'items', 'limit', 'next', 'offset', 'previous', 'total'])"
      ]
     },
     "execution_count": 73,
     "metadata": {},
     "output_type": "execute_result"
    }
   ],
   "source": [
    "data.keys()"
   ]
  },
  {
   "cell_type": "code",
   "execution_count": 74,
   "id": "f044f195",
   "metadata": {},
   "outputs": [
    {
     "data": {
      "text/plain": [
       "'The Killers'"
      ]
     },
     "execution_count": 74,
     "metadata": {},
     "output_type": "execute_result"
    }
   ],
   "source": [
    "data['items'][0]['artists'][0]['name']"
   ]
  },
  {
   "cell_type": "code",
   "execution_count": 75,
   "id": "d6338ae2",
   "metadata": {},
   "outputs": [],
   "source": [
    "#[x['artists'] for x in data['items']]"
   ]
  },
  {
   "cell_type": "markdown",
   "id": "1c7d2fc7",
   "metadata": {},
   "source": [
    "This table provides all the information related to each song on the album."
   ]
  },
  {
   "cell_type": "code",
   "execution_count": 76,
   "id": "557c48bc",
   "metadata": {},
   "outputs": [
    {
     "data": {
      "text/html": [
       "<div>\n",
       "<style scoped>\n",
       "    .dataframe tbody tr th:only-of-type {\n",
       "        vertical-align: middle;\n",
       "    }\n",
       "\n",
       "    .dataframe tbody tr th {\n",
       "        vertical-align: top;\n",
       "    }\n",
       "\n",
       "    .dataframe thead th {\n",
       "        text-align: right;\n",
       "    }\n",
       "</style>\n",
       "<table border=\"1\" class=\"dataframe\">\n",
       "  <thead>\n",
       "    <tr style=\"text-align: right;\">\n",
       "      <th></th>\n",
       "      <th>artists</th>\n",
       "      <th>available_markets</th>\n",
       "      <th>disc_number</th>\n",
       "      <th>duration_ms</th>\n",
       "      <th>explicit</th>\n",
       "      <th>external_urls</th>\n",
       "      <th>href</th>\n",
       "      <th>id</th>\n",
       "      <th>is_local</th>\n",
       "      <th>name</th>\n",
       "      <th>preview_url</th>\n",
       "      <th>track_number</th>\n",
       "      <th>type</th>\n",
       "      <th>uri</th>\n",
       "    </tr>\n",
       "  </thead>\n",
       "  <tbody>\n",
       "    <tr>\n",
       "      <th>0</th>\n",
       "      <td>[{'external_urls': {'spotify': 'https://open.s...</td>\n",
       "      <td>[AE, AL, AR, AT, AU, BA, BE, BG, BH, BO, BR, C...</td>\n",
       "      <td>1</td>\n",
       "      <td>223973</td>\n",
       "      <td>False</td>\n",
       "      <td>{'spotify': 'https://open.spotify.com/track/3W...</td>\n",
       "      <td>https://api.spotify.com/v1/tracks/3Wls1Xq5KY2g...</td>\n",
       "      <td>3Wls1Xq5KY2gxJ2rdp3C7Q</td>\n",
       "      <td>False</td>\n",
       "      <td>Mr. Brightside</td>\n",
       "      <td>None</td>\n",
       "      <td>1</td>\n",
       "      <td>track</td>\n",
       "      <td>spotify:track:3Wls1Xq5KY2gxJ2rdp3C7Q</td>\n",
       "    </tr>\n",
       "    <tr>\n",
       "      <th>1</th>\n",
       "      <td>[{'external_urls': {'spotify': 'https://open.s...</td>\n",
       "      <td>[AE, AL, AR, AT, AU, BA, BE, BG, BH, BO, BR, C...</td>\n",
       "      <td>1</td>\n",
       "      <td>166040</td>\n",
       "      <td>False</td>\n",
       "      <td>{'spotify': 'https://open.spotify.com/track/7d...</td>\n",
       "      <td>https://api.spotify.com/v1/tracks/7dc0dKLr4Ev9...</td>\n",
       "      <td>7dc0dKLr4Ev99q2mFsgCOn</td>\n",
       "      <td>False</td>\n",
       "      <td>The Middle</td>\n",
       "      <td>None</td>\n",
       "      <td>2</td>\n",
       "      <td>track</td>\n",
       "      <td>spotify:track:7dc0dKLr4Ev99q2mFsgCOn</td>\n",
       "    </tr>\n",
       "    <tr>\n",
       "      <th>2</th>\n",
       "      <td>[{'external_urls': {'spotify': 'https://open.s...</td>\n",
       "      <td>[AE, AL, AR, AT, AU, BA, BE, BG, BH, BO, BR, C...</td>\n",
       "      <td>1</td>\n",
       "      <td>252853</td>\n",
       "      <td>False</td>\n",
       "      <td>{'spotify': 'https://open.spotify.com/track/7F...</td>\n",
       "      <td>https://api.spotify.com/v1/tracks/7FuOmwBUBWf4...</td>\n",
       "      <td>7FuOmwBUBWf4P7PldYPBUK</td>\n",
       "      <td>False</td>\n",
       "      <td>Dog Days Are Over</td>\n",
       "      <td>None</td>\n",
       "      <td>3</td>\n",
       "      <td>track</td>\n",
       "      <td>spotify:track:7FuOmwBUBWf4P7PldYPBUK</td>\n",
       "    </tr>\n",
       "    <tr>\n",
       "      <th>3</th>\n",
       "      <td>[{'external_urls': {'spotify': 'https://open.s...</td>\n",
       "      <td>[AE, AL, AR, AT, AU, BA, BE, BG, BH, BO, BR, C...</td>\n",
       "      <td>1</td>\n",
       "      <td>160133</td>\n",
       "      <td>False</td>\n",
       "      <td>{'spotify': 'https://open.spotify.com/track/7q...</td>\n",
       "      <td>https://api.spotify.com/v1/tracks/7q4ywgChSFmD...</td>\n",
       "      <td>7q4ywgChSFmDRmUNGcLuGM</td>\n",
       "      <td>False</td>\n",
       "      <td>Have You Ever Seen The Rain</td>\n",
       "      <td>None</td>\n",
       "      <td>4</td>\n",
       "      <td>track</td>\n",
       "      <td>spotify:track:7q4ywgChSFmDRmUNGcLuGM</td>\n",
       "    </tr>\n",
       "    <tr>\n",
       "      <th>4</th>\n",
       "      <td>[{'external_urls': {'spotify': 'https://open.s...</td>\n",
       "      <td>[AE, AL, AR, AT, AU, BA, BE, BG, BH, BO, BR, C...</td>\n",
       "      <td>1</td>\n",
       "      <td>281380</td>\n",
       "      <td>False</td>\n",
       "      <td>{'spotify': 'https://open.spotify.com/track/0t...</td>\n",
       "      <td>https://api.spotify.com/v1/tracks/0tJBuspXJr5l...</td>\n",
       "      <td>0tJBuspXJr5l75LTeBXefP</td>\n",
       "      <td>False</td>\n",
       "      <td>TV</td>\n",
       "      <td>None</td>\n",
       "      <td>5</td>\n",
       "      <td>track</td>\n",
       "      <td>spotify:track:0tJBuspXJr5l75LTeBXefP</td>\n",
       "    </tr>\n",
       "  </tbody>\n",
       "</table>\n",
       "</div>"
      ],
      "text/plain": [
       "                                             artists  \\\n",
       "0  [{'external_urls': {'spotify': 'https://open.s...   \n",
       "1  [{'external_urls': {'spotify': 'https://open.s...   \n",
       "2  [{'external_urls': {'spotify': 'https://open.s...   \n",
       "3  [{'external_urls': {'spotify': 'https://open.s...   \n",
       "4  [{'external_urls': {'spotify': 'https://open.s...   \n",
       "\n",
       "                                   available_markets  disc_number  \\\n",
       "0  [AE, AL, AR, AT, AU, BA, BE, BG, BH, BO, BR, C...            1   \n",
       "1  [AE, AL, AR, AT, AU, BA, BE, BG, BH, BO, BR, C...            1   \n",
       "2  [AE, AL, AR, AT, AU, BA, BE, BG, BH, BO, BR, C...            1   \n",
       "3  [AE, AL, AR, AT, AU, BA, BE, BG, BH, BO, BR, C...            1   \n",
       "4  [AE, AL, AR, AT, AU, BA, BE, BG, BH, BO, BR, C...            1   \n",
       "\n",
       "   duration_ms  explicit                                      external_urls  \\\n",
       "0       223973     False  {'spotify': 'https://open.spotify.com/track/3W...   \n",
       "1       166040     False  {'spotify': 'https://open.spotify.com/track/7d...   \n",
       "2       252853     False  {'spotify': 'https://open.spotify.com/track/7F...   \n",
       "3       160133     False  {'spotify': 'https://open.spotify.com/track/7q...   \n",
       "4       281380     False  {'spotify': 'https://open.spotify.com/track/0t...   \n",
       "\n",
       "                                                href                      id  \\\n",
       "0  https://api.spotify.com/v1/tracks/3Wls1Xq5KY2g...  3Wls1Xq5KY2gxJ2rdp3C7Q   \n",
       "1  https://api.spotify.com/v1/tracks/7dc0dKLr4Ev9...  7dc0dKLr4Ev99q2mFsgCOn   \n",
       "2  https://api.spotify.com/v1/tracks/7FuOmwBUBWf4...  7FuOmwBUBWf4P7PldYPBUK   \n",
       "3  https://api.spotify.com/v1/tracks/7q4ywgChSFmD...  7q4ywgChSFmDRmUNGcLuGM   \n",
       "4  https://api.spotify.com/v1/tracks/0tJBuspXJr5l...  0tJBuspXJr5l75LTeBXefP   \n",
       "\n",
       "   is_local                         name preview_url  track_number   type  \\\n",
       "0     False               Mr. Brightside        None             1  track   \n",
       "1     False                   The Middle        None             2  track   \n",
       "2     False            Dog Days Are Over        None             3  track   \n",
       "3     False  Have You Ever Seen The Rain        None             4  track   \n",
       "4     False                           TV        None             5  track   \n",
       "\n",
       "                                    uri  \n",
       "0  spotify:track:3Wls1Xq5KY2gxJ2rdp3C7Q  \n",
       "1  spotify:track:7dc0dKLr4Ev99q2mFsgCOn  \n",
       "2  spotify:track:7FuOmwBUBWf4P7PldYPBUK  \n",
       "3  spotify:track:7q4ywgChSFmDRmUNGcLuGM  \n",
       "4  spotify:track:0tJBuspXJr5l75LTeBXefP  "
      ]
     },
     "execution_count": 76,
     "metadata": {},
     "output_type": "execute_result"
    }
   ],
   "source": [
    "search_df = pd.DataFrame(data['items'])\n",
    "search_df.head()"
   ]
  },
  {
   "cell_type": "code",
   "execution_count": 77,
   "id": "a689efc9",
   "metadata": {},
   "outputs": [
    {
     "data": {
      "text/plain": [
       "'3Wls1Xq5KY2gxJ2rdp3C7Q,7dc0dKLr4Ev99q2mFsgCOn,7FuOmwBUBWf4P7PldYPBUK,7q4ywgChSFmDRmUNGcLuGM,0tJBuspXJr5l75LTeBXefP,6cuD6NUmUnmyqkhtyUjNkw,4JIV89y5lEFrykZ2OaG28S,6t54r9C9navpIIXo5Uhwi4,7xXl4kqZIqq3nQgivROzNt,4GL6jsHfCryJxXMhM61qup,7ivaqUDsF2efEF4EQBmHeg,2rIdUxkTd7WYRrzrfXMObg,1o2vTBNXSkjzyXszWHFbC5,3myBeSdy8L1CLVJONffua7,4GifNz2MY3jFIAlr8niPsJ,3tAlrlpyf97u1mBCKNN3qv,0jVlAMcxr8T49g2A8GRVJD,4MuS9mOzC76PmGJ4dYB35k,4OjW7NdwiYtvOpiGE1inYO,7dRtgzjnJvqtBJ5do4Y3Tu'"
      ]
     },
     "execution_count": 77,
     "metadata": {},
     "output_type": "execute_result"
    }
   ],
   "source": [
    "','.join(list(search_df['id']))"
   ]
  },
  {
   "cell_type": "code",
   "execution_count": 78,
   "id": "56450611",
   "metadata": {},
   "outputs": [
    {
     "data": {
      "text/plain": [
       "'https://api.spotify.com/v1/audio-features?ids=3Wls1Xq5KY2gxJ2rdp3C7Q,7dc0dKLr4Ev99q2mFsgCOn,7FuOmwBUBWf4P7PldYPBUK,7q4ywgChSFmDRmUNGcLuGM,0tJBuspXJr5l75LTeBXefP,6cuD6NUmUnmyqkhtyUjNkw,4JIV89y5lEFrykZ2OaG28S,6t54r9C9navpIIXo5Uhwi4,7xXl4kqZIqq3nQgivROzNt,4GL6jsHfCryJxXMhM61qup,7ivaqUDsF2efEF4EQBmHeg,2rIdUxkTd7WYRrzrfXMObg,1o2vTBNXSkjzyXszWHFbC5,3myBeSdy8L1CLVJONffua7,4GifNz2MY3jFIAlr8niPsJ,3tAlrlpyf97u1mBCKNN3qv,0jVlAMcxr8T49g2A8GRVJD,4MuS9mOzC76PmGJ4dYB35k,4OjW7NdwiYtvOpiGE1inYO,7dRtgzjnJvqtBJ5do4Y3Tu'"
      ]
     },
     "execution_count": 78,
     "metadata": {},
     "output_type": "execute_result"
    }
   ],
   "source": [
    "audio_features_url = 'https://api.spotify.com/v1/audio-features?ids={}'.format(','.join(list(search_df['id'])))\n",
    "audio_features_url"
   ]
  },
  {
   "cell_type": "code",
   "execution_count": 79,
   "id": "e1d889a9",
   "metadata": {},
   "outputs": [],
   "source": [
    "features_response = requests.get(url = audio_features_url, headers = session_headers)"
   ]
  },
  {
   "cell_type": "code",
   "execution_count": 80,
   "id": "3efa824a",
   "metadata": {},
   "outputs": [],
   "source": [
    "features = features_response.json()"
   ]
  },
  {
   "cell_type": "code",
   "execution_count": 81,
   "id": "bf030000",
   "metadata": {},
   "outputs": [
    {
     "data": {
      "text/plain": [
       "dict_keys(['audio_features'])"
      ]
     },
     "execution_count": 81,
     "metadata": {},
     "output_type": "execute_result"
    }
   ],
   "source": [
    "features.keys()"
   ]
  },
  {
   "cell_type": "code",
   "execution_count": 82,
   "id": "a1fa95da",
   "metadata": {},
   "outputs": [
    {
     "data": {
      "text/plain": [
       "{'danceability': 0.344,\n",
       " 'energy': 0.931,\n",
       " 'key': 1,\n",
       " 'loudness': -3.759,\n",
       " 'mode': 1,\n",
       " 'speechiness': 0.0783,\n",
       " 'acousticness': 0.00104,\n",
       " 'instrumentalness': 0,\n",
       " 'liveness': 0.0903,\n",
       " 'valence': 0.251,\n",
       " 'tempo': 148.104,\n",
       " 'type': 'audio_features',\n",
       " 'id': '3Wls1Xq5KY2gxJ2rdp3C7Q',\n",
       " 'uri': 'spotify:track:3Wls1Xq5KY2gxJ2rdp3C7Q',\n",
       " 'track_href': 'https://api.spotify.com/v1/tracks/3Wls1Xq5KY2gxJ2rdp3C7Q',\n",
       " 'analysis_url': 'https://api.spotify.com/v1/audio-analysis/3Wls1Xq5KY2gxJ2rdp3C7Q',\n",
       " 'duration_ms': 223973,\n",
       " 'time_signature': 4}"
      ]
     },
     "execution_count": 82,
     "metadata": {},
     "output_type": "execute_result"
    }
   ],
   "source": [
    "features['audio_features'][0]"
   ]
  },
  {
   "cell_type": "markdown",
   "id": "258a1cdd",
   "metadata": {},
   "source": [
    "This table shows the audio feature numbers for the first 5 songs on the Rock album."
   ]
  },
  {
   "cell_type": "code",
   "execution_count": 83,
   "id": "a6c44e33",
   "metadata": {},
   "outputs": [
    {
     "data": {
      "text/html": [
       "<div>\n",
       "<style scoped>\n",
       "    .dataframe tbody tr th:only-of-type {\n",
       "        vertical-align: middle;\n",
       "    }\n",
       "\n",
       "    .dataframe tbody tr th {\n",
       "        vertical-align: top;\n",
       "    }\n",
       "\n",
       "    .dataframe thead th {\n",
       "        text-align: right;\n",
       "    }\n",
       "</style>\n",
       "<table border=\"1\" class=\"dataframe\">\n",
       "  <thead>\n",
       "    <tr style=\"text-align: right;\">\n",
       "      <th></th>\n",
       "      <th>danceability</th>\n",
       "      <th>energy</th>\n",
       "      <th>key</th>\n",
       "      <th>loudness</th>\n",
       "      <th>mode</th>\n",
       "      <th>speechiness</th>\n",
       "      <th>acousticness</th>\n",
       "      <th>instrumentalness</th>\n",
       "      <th>liveness</th>\n",
       "      <th>valence</th>\n",
       "      <th>tempo</th>\n",
       "      <th>type</th>\n",
       "      <th>id</th>\n",
       "      <th>uri</th>\n",
       "      <th>track_href</th>\n",
       "      <th>analysis_url</th>\n",
       "      <th>duration_ms</th>\n",
       "      <th>time_signature</th>\n",
       "    </tr>\n",
       "  </thead>\n",
       "  <tbody>\n",
       "    <tr>\n",
       "      <th>0</th>\n",
       "      <td>0.344</td>\n",
       "      <td>0.931</td>\n",
       "      <td>1</td>\n",
       "      <td>-3.759</td>\n",
       "      <td>1</td>\n",
       "      <td>0.0783</td>\n",
       "      <td>0.00104</td>\n",
       "      <td>0.000000</td>\n",
       "      <td>0.0903</td>\n",
       "      <td>0.251</td>\n",
       "      <td>148.104</td>\n",
       "      <td>audio_features</td>\n",
       "      <td>3Wls1Xq5KY2gxJ2rdp3C7Q</td>\n",
       "      <td>spotify:track:3Wls1Xq5KY2gxJ2rdp3C7Q</td>\n",
       "      <td>https://api.spotify.com/v1/tracks/3Wls1Xq5KY2g...</td>\n",
       "      <td>https://api.spotify.com/v1/audio-analysis/3Wls...</td>\n",
       "      <td>223973</td>\n",
       "      <td>4</td>\n",
       "    </tr>\n",
       "    <tr>\n",
       "      <th>1</th>\n",
       "      <td>0.644</td>\n",
       "      <td>0.848</td>\n",
       "      <td>2</td>\n",
       "      <td>-5.385</td>\n",
       "      <td>1</td>\n",
       "      <td>0.0529</td>\n",
       "      <td>0.03580</td>\n",
       "      <td>0.000000</td>\n",
       "      <td>0.0676</td>\n",
       "      <td>0.928</td>\n",
       "      <td>162.151</td>\n",
       "      <td>audio_features</td>\n",
       "      <td>7dc0dKLr4Ev99q2mFsgCOn</td>\n",
       "      <td>spotify:track:7dc0dKLr4Ev99q2mFsgCOn</td>\n",
       "      <td>https://api.spotify.com/v1/tracks/7dc0dKLr4Ev9...</td>\n",
       "      <td>https://api.spotify.com/v1/audio-analysis/7dc0...</td>\n",
       "      <td>166040</td>\n",
       "      <td>4</td>\n",
       "    </tr>\n",
       "    <tr>\n",
       "      <th>2</th>\n",
       "      <td>0.499</td>\n",
       "      <td>0.795</td>\n",
       "      <td>7</td>\n",
       "      <td>-5.285</td>\n",
       "      <td>1</td>\n",
       "      <td>0.0787</td>\n",
       "      <td>0.04380</td>\n",
       "      <td>0.002400</td>\n",
       "      <td>0.1200</td>\n",
       "      <td>0.357</td>\n",
       "      <td>149.966</td>\n",
       "      <td>audio_features</td>\n",
       "      <td>7FuOmwBUBWf4P7PldYPBUK</td>\n",
       "      <td>spotify:track:7FuOmwBUBWf4P7PldYPBUK</td>\n",
       "      <td>https://api.spotify.com/v1/tracks/7FuOmwBUBWf4...</td>\n",
       "      <td>https://api.spotify.com/v1/audio-analysis/7FuO...</td>\n",
       "      <td>252853</td>\n",
       "      <td>4</td>\n",
       "    </tr>\n",
       "    <tr>\n",
       "      <th>3</th>\n",
       "      <td>0.741</td>\n",
       "      <td>0.697</td>\n",
       "      <td>0</td>\n",
       "      <td>-7.030</td>\n",
       "      <td>1</td>\n",
       "      <td>0.0277</td>\n",
       "      <td>0.06650</td>\n",
       "      <td>0.000023</td>\n",
       "      <td>0.1330</td>\n",
       "      <td>0.774</td>\n",
       "      <td>116.109</td>\n",
       "      <td>audio_features</td>\n",
       "      <td>7q4ywgChSFmDRmUNGcLuGM</td>\n",
       "      <td>spotify:track:7q4ywgChSFmDRmUNGcLuGM</td>\n",
       "      <td>https://api.spotify.com/v1/tracks/7q4ywgChSFmD...</td>\n",
       "      <td>https://api.spotify.com/v1/audio-analysis/7q4y...</td>\n",
       "      <td>160133</td>\n",
       "      <td>4</td>\n",
       "    </tr>\n",
       "    <tr>\n",
       "      <th>4</th>\n",
       "      <td>0.412</td>\n",
       "      <td>0.236</td>\n",
       "      <td>4</td>\n",
       "      <td>-15.159</td>\n",
       "      <td>0</td>\n",
       "      <td>0.0379</td>\n",
       "      <td>0.83000</td>\n",
       "      <td>0.006530</td>\n",
       "      <td>0.1470</td>\n",
       "      <td>0.119</td>\n",
       "      <td>140.214</td>\n",
       "      <td>audio_features</td>\n",
       "      <td>0tJBuspXJr5l75LTeBXefP</td>\n",
       "      <td>spotify:track:0tJBuspXJr5l75LTeBXefP</td>\n",
       "      <td>https://api.spotify.com/v1/tracks/0tJBuspXJr5l...</td>\n",
       "      <td>https://api.spotify.com/v1/audio-analysis/0tJB...</td>\n",
       "      <td>281381</td>\n",
       "      <td>4</td>\n",
       "    </tr>\n",
       "  </tbody>\n",
       "</table>\n",
       "</div>"
      ],
      "text/plain": [
       "   danceability  energy  key  loudness  mode  speechiness  acousticness  \\\n",
       "0         0.344   0.931    1    -3.759     1       0.0783       0.00104   \n",
       "1         0.644   0.848    2    -5.385     1       0.0529       0.03580   \n",
       "2         0.499   0.795    7    -5.285     1       0.0787       0.04380   \n",
       "3         0.741   0.697    0    -7.030     1       0.0277       0.06650   \n",
       "4         0.412   0.236    4   -15.159     0       0.0379       0.83000   \n",
       "\n",
       "   instrumentalness  liveness  valence    tempo            type  \\\n",
       "0          0.000000    0.0903    0.251  148.104  audio_features   \n",
       "1          0.000000    0.0676    0.928  162.151  audio_features   \n",
       "2          0.002400    0.1200    0.357  149.966  audio_features   \n",
       "3          0.000023    0.1330    0.774  116.109  audio_features   \n",
       "4          0.006530    0.1470    0.119  140.214  audio_features   \n",
       "\n",
       "                       id                                   uri  \\\n",
       "0  3Wls1Xq5KY2gxJ2rdp3C7Q  spotify:track:3Wls1Xq5KY2gxJ2rdp3C7Q   \n",
       "1  7dc0dKLr4Ev99q2mFsgCOn  spotify:track:7dc0dKLr4Ev99q2mFsgCOn   \n",
       "2  7FuOmwBUBWf4P7PldYPBUK  spotify:track:7FuOmwBUBWf4P7PldYPBUK   \n",
       "3  7q4ywgChSFmDRmUNGcLuGM  spotify:track:7q4ywgChSFmDRmUNGcLuGM   \n",
       "4  0tJBuspXJr5l75LTeBXefP  spotify:track:0tJBuspXJr5l75LTeBXefP   \n",
       "\n",
       "                                          track_href  \\\n",
       "0  https://api.spotify.com/v1/tracks/3Wls1Xq5KY2g...   \n",
       "1  https://api.spotify.com/v1/tracks/7dc0dKLr4Ev9...   \n",
       "2  https://api.spotify.com/v1/tracks/7FuOmwBUBWf4...   \n",
       "3  https://api.spotify.com/v1/tracks/7q4ywgChSFmD...   \n",
       "4  https://api.spotify.com/v1/tracks/0tJBuspXJr5l...   \n",
       "\n",
       "                                        analysis_url  duration_ms  \\\n",
       "0  https://api.spotify.com/v1/audio-analysis/3Wls...       223973   \n",
       "1  https://api.spotify.com/v1/audio-analysis/7dc0...       166040   \n",
       "2  https://api.spotify.com/v1/audio-analysis/7FuO...       252853   \n",
       "3  https://api.spotify.com/v1/audio-analysis/7q4y...       160133   \n",
       "4  https://api.spotify.com/v1/audio-analysis/0tJB...       281381   \n",
       "\n",
       "   time_signature  \n",
       "0               4  \n",
       "1               4  \n",
       "2               4  \n",
       "3               4  \n",
       "4               4  "
      ]
     },
     "execution_count": 83,
     "metadata": {},
     "output_type": "execute_result"
    }
   ],
   "source": [
    "features_df = pd.DataFrame(features['audio_features'])\n",
    "features_df.head()"
   ]
  },
  {
   "cell_type": "code",
   "execution_count": 84,
   "id": "c742b912",
   "metadata": {},
   "outputs": [
    {
     "data": {
      "text/html": [
       "<div>\n",
       "<style scoped>\n",
       "    .dataframe tbody tr th:only-of-type {\n",
       "        vertical-align: middle;\n",
       "    }\n",
       "\n",
       "    .dataframe tbody tr th {\n",
       "        vertical-align: top;\n",
       "    }\n",
       "\n",
       "    .dataframe thead th {\n",
       "        text-align: right;\n",
       "    }\n",
       "</style>\n",
       "<table border=\"1\" class=\"dataframe\">\n",
       "  <thead>\n",
       "    <tr style=\"text-align: right;\">\n",
       "      <th></th>\n",
       "      <th>energy</th>\n",
       "      <th>tempo</th>\n",
       "    </tr>\n",
       "  </thead>\n",
       "  <tbody>\n",
       "    <tr>\n",
       "      <th>0</th>\n",
       "      <td>0.931</td>\n",
       "      <td>148.104</td>\n",
       "    </tr>\n",
       "    <tr>\n",
       "      <th>1</th>\n",
       "      <td>0.848</td>\n",
       "      <td>162.151</td>\n",
       "    </tr>\n",
       "    <tr>\n",
       "      <th>2</th>\n",
       "      <td>0.795</td>\n",
       "      <td>149.966</td>\n",
       "    </tr>\n",
       "    <tr>\n",
       "      <th>3</th>\n",
       "      <td>0.697</td>\n",
       "      <td>116.109</td>\n",
       "    </tr>\n",
       "    <tr>\n",
       "      <th>4</th>\n",
       "      <td>0.236</td>\n",
       "      <td>140.214</td>\n",
       "    </tr>\n",
       "  </tbody>\n",
       "</table>\n",
       "</div>"
      ],
      "text/plain": [
       "   energy    tempo\n",
       "0   0.931  148.104\n",
       "1   0.848  162.151\n",
       "2   0.795  149.966\n",
       "3   0.697  116.109\n",
       "4   0.236  140.214"
      ]
     },
     "execution_count": 84,
     "metadata": {},
     "output_type": "execute_result"
    }
   ],
   "source": [
    "joined_df = pd.merge(search_df, features_df, how = 'inner', on = 'id')\n",
    "joined_df[['energy', 'tempo']].head()"
   ]
  },
  {
   "cell_type": "markdown",
   "id": "422b042e",
   "metadata": {},
   "source": [
    "\n",
    "The rest of section is looking at the Country album data imported from Spotify"
   ]
  },
  {
   "cell_type": "code",
   "execution_count": 85,
   "id": "13b4e88f",
   "metadata": {},
   "outputs": [],
   "source": [
    "country_album = '6wPzN4YxQglSYQQY2wILA0'"
   ]
  },
  {
   "cell_type": "code",
   "execution_count": 86,
   "id": "acbc1eb2",
   "metadata": {},
   "outputs": [],
   "source": [
    "country_url = 'https://api.spotify.com/v1/albums/{}/tracks'.format(country_album)"
   ]
  },
  {
   "cell_type": "code",
   "execution_count": 87,
   "id": "aedb47a7",
   "metadata": {},
   "outputs": [],
   "source": [
    "country_response = requests.get(url = country_url, headers = session_headers)"
   ]
  },
  {
   "cell_type": "code",
   "execution_count": 88,
   "id": "d95c525c",
   "metadata": {},
   "outputs": [
    {
     "data": {
      "text/plain": [
       "200"
      ]
     },
     "execution_count": 88,
     "metadata": {},
     "output_type": "execute_result"
    }
   ],
   "source": [
    "response.status_code"
   ]
  },
  {
   "cell_type": "code",
   "execution_count": 89,
   "id": "d16b1281",
   "metadata": {},
   "outputs": [
    {
     "data": {
      "text/plain": [
       "[{'external_urls': {'spotify': 'https://open.spotify.com/artist/40ZNYROS4zLfyyBSs2PGe2'},\n",
       "  'href': 'https://api.spotify.com/v1/artists/40ZNYROS4zLfyyBSs2PGe2',\n",
       "  'id': '40ZNYROS4zLfyyBSs2PGe2',\n",
       "  'name': 'Zach Bryan',\n",
       "  'type': 'artist',\n",
       "  'uri': 'spotify:artist:40ZNYROS4zLfyyBSs2PGe2'},\n",
       " {'external_urls': {'spotify': 'https://open.spotify.com/artist/70kkdajctXSbqSMJbQO424'},\n",
       "  'href': 'https://api.spotify.com/v1/artists/70kkdajctXSbqSMJbQO424',\n",
       "  'id': '70kkdajctXSbqSMJbQO424',\n",
       "  'name': 'Kacey Musgraves',\n",
       "  'type': 'artist',\n",
       "  'uri': 'spotify:artist:70kkdajctXSbqSMJbQO424'}]"
      ]
     },
     "execution_count": 89,
     "metadata": {},
     "output_type": "execute_result"
    }
   ],
   "source": [
    "country_data = json.loads(country_response.text)\n",
    "country_data['items'][0]['artists']"
   ]
  },
  {
   "cell_type": "code",
   "execution_count": 90,
   "id": "30cad789",
   "metadata": {},
   "outputs": [
    {
     "data": {
      "text/plain": [
       "dict_keys(['href', 'items', 'limit', 'next', 'offset', 'previous', 'total'])"
      ]
     },
     "execution_count": 90,
     "metadata": {},
     "output_type": "execute_result"
    }
   ],
   "source": [
    "country_data.keys()"
   ]
  },
  {
   "cell_type": "code",
   "execution_count": 91,
   "id": "ac3f34b4",
   "metadata": {},
   "outputs": [
    {
     "data": {
      "text/plain": [
       "'Zach Bryan'"
      ]
     },
     "execution_count": 91,
     "metadata": {},
     "output_type": "execute_result"
    }
   ],
   "source": [
    "country_data['items'][0]['artists'][0]['name']"
   ]
  },
  {
   "cell_type": "markdown",
   "id": "f4f34fd6",
   "metadata": {},
   "source": [
    "This table provides all the information related to each song on the album."
   ]
  },
  {
   "cell_type": "code",
   "execution_count": 92,
   "id": "d4e10081",
   "metadata": {},
   "outputs": [
    {
     "data": {
      "text/html": [
       "<div>\n",
       "<style scoped>\n",
       "    .dataframe tbody tr th:only-of-type {\n",
       "        vertical-align: middle;\n",
       "    }\n",
       "\n",
       "    .dataframe tbody tr th {\n",
       "        vertical-align: top;\n",
       "    }\n",
       "\n",
       "    .dataframe thead th {\n",
       "        text-align: right;\n",
       "    }\n",
       "</style>\n",
       "<table border=\"1\" class=\"dataframe\">\n",
       "  <thead>\n",
       "    <tr style=\"text-align: right;\">\n",
       "      <th></th>\n",
       "      <th>artists</th>\n",
       "      <th>available_markets</th>\n",
       "      <th>disc_number</th>\n",
       "      <th>duration_ms</th>\n",
       "      <th>explicit</th>\n",
       "      <th>external_urls</th>\n",
       "      <th>href</th>\n",
       "      <th>id</th>\n",
       "      <th>is_local</th>\n",
       "      <th>name</th>\n",
       "      <th>preview_url</th>\n",
       "      <th>track_number</th>\n",
       "      <th>type</th>\n",
       "      <th>uri</th>\n",
       "    </tr>\n",
       "  </thead>\n",
       "  <tbody>\n",
       "    <tr>\n",
       "      <th>0</th>\n",
       "      <td>[{'external_urls': {'spotify': 'https://open.s...</td>\n",
       "      <td>[AR, AU, AT, BE, BO, BR, BG, CA, CL, CO, CR, C...</td>\n",
       "      <td>1</td>\n",
       "      <td>227195</td>\n",
       "      <td>False</td>\n",
       "      <td>{'spotify': 'https://open.spotify.com/track/1g...</td>\n",
       "      <td>https://api.spotify.com/v1/tracks/1gCb81O5KBhQ...</td>\n",
       "      <td>1gCb81O5KBhQ0T98qVqnpA</td>\n",
       "      <td>False</td>\n",
       "      <td>I Remember Everything</td>\n",
       "      <td>https://p.scdn.co/mp3-preview/22b240f7ef2eff38...</td>\n",
       "      <td>1</td>\n",
       "      <td>track</td>\n",
       "      <td>spotify:track:1gCb81O5KBhQ0T98qVqnpA</td>\n",
       "    </tr>\n",
       "    <tr>\n",
       "      <th>1</th>\n",
       "      <td>[{'external_urls': {'spotify': 'https://open.s...</td>\n",
       "      <td>[AR, AU, AT, BE, BO, BR, BG, CA, CL, CO, CR, C...</td>\n",
       "      <td>1</td>\n",
       "      <td>218260</td>\n",
       "      <td>False</td>\n",
       "      <td>{'spotify': 'https://open.spotify.com/track/4r...</td>\n",
       "      <td>https://api.spotify.com/v1/tracks/4rTJmEi1WIcz...</td>\n",
       "      <td>4rTJmEi1WIczjtQbEw03wc</td>\n",
       "      <td>False</td>\n",
       "      <td>Pretty Little Poison</td>\n",
       "      <td>https://p.scdn.co/mp3-preview/edec90019e2f14e4...</td>\n",
       "      <td>2</td>\n",
       "      <td>track</td>\n",
       "      <td>spotify:track:4rTJmEi1WIczjtQbEw03wc</td>\n",
       "    </tr>\n",
       "    <tr>\n",
       "      <th>2</th>\n",
       "      <td>[{'external_urls': {'spotify': 'https://open.s...</td>\n",
       "      <td>[AR, AU, AT, BE, BO, BR, BG, CA, CL, CO, CR, C...</td>\n",
       "      <td>1</td>\n",
       "      <td>178723</td>\n",
       "      <td>False</td>\n",
       "      <td>{'spotify': 'https://open.spotify.com/track/03...</td>\n",
       "      <td>https://api.spotify.com/v1/tracks/03fVTjHPgUoi...</td>\n",
       "      <td>03fVTjHPgUoiKui75fg6aP</td>\n",
       "      <td>False</td>\n",
       "      <td>Religiously</td>\n",
       "      <td>https://p.scdn.co/mp3-preview/ff84c6f74e198ce3...</td>\n",
       "      <td>3</td>\n",
       "      <td>track</td>\n",
       "      <td>spotify:track:03fVTjHPgUoiKui75fg6aP</td>\n",
       "    </tr>\n",
       "    <tr>\n",
       "      <th>3</th>\n",
       "      <td>[{'external_urls': {'spotify': 'https://open.s...</td>\n",
       "      <td>[AR, AU, AT, BE, BO, BR, BG, CA, CL, CO, CR, C...</td>\n",
       "      <td>1</td>\n",
       "      <td>211413</td>\n",
       "      <td>False</td>\n",
       "      <td>{'spotify': 'https://open.spotify.com/track/2w...</td>\n",
       "      <td>https://api.spotify.com/v1/tracks/2w2KX7p0MuiO...</td>\n",
       "      <td>2w2KX7p0MuiO9CPJ44OS7v</td>\n",
       "      <td>False</td>\n",
       "      <td>The Painter</td>\n",
       "      <td>https://p.scdn.co/mp3-preview/1b9bc13efc82762c...</td>\n",
       "      <td>4</td>\n",
       "      <td>track</td>\n",
       "      <td>spotify:track:2w2KX7p0MuiO9CPJ44OS7v</td>\n",
       "    </tr>\n",
       "    <tr>\n",
       "      <th>4</th>\n",
       "      <td>[{'external_urls': {'spotify': 'https://open.s...</td>\n",
       "      <td>[AR, AU, AT, BE, BO, BR, BG, CA, CL, CO, CR, C...</td>\n",
       "      <td>1</td>\n",
       "      <td>162733</td>\n",
       "      <td>False</td>\n",
       "      <td>{'spotify': 'https://open.spotify.com/track/2P...</td>\n",
       "      <td>https://api.spotify.com/v1/tracks/2PRrjWU4At6F...</td>\n",
       "      <td>2PRrjWU4At6F37rMkyxNtJ</td>\n",
       "      <td>False</td>\n",
       "      <td>Glory Days</td>\n",
       "      <td>https://p.scdn.co/mp3-preview/de00787e3c1a0459...</td>\n",
       "      <td>5</td>\n",
       "      <td>track</td>\n",
       "      <td>spotify:track:2PRrjWU4At6F37rMkyxNtJ</td>\n",
       "    </tr>\n",
       "  </tbody>\n",
       "</table>\n",
       "</div>"
      ],
      "text/plain": [
       "                                             artists  \\\n",
       "0  [{'external_urls': {'spotify': 'https://open.s...   \n",
       "1  [{'external_urls': {'spotify': 'https://open.s...   \n",
       "2  [{'external_urls': {'spotify': 'https://open.s...   \n",
       "3  [{'external_urls': {'spotify': 'https://open.s...   \n",
       "4  [{'external_urls': {'spotify': 'https://open.s...   \n",
       "\n",
       "                                   available_markets  disc_number  \\\n",
       "0  [AR, AU, AT, BE, BO, BR, BG, CA, CL, CO, CR, C...            1   \n",
       "1  [AR, AU, AT, BE, BO, BR, BG, CA, CL, CO, CR, C...            1   \n",
       "2  [AR, AU, AT, BE, BO, BR, BG, CA, CL, CO, CR, C...            1   \n",
       "3  [AR, AU, AT, BE, BO, BR, BG, CA, CL, CO, CR, C...            1   \n",
       "4  [AR, AU, AT, BE, BO, BR, BG, CA, CL, CO, CR, C...            1   \n",
       "\n",
       "   duration_ms  explicit                                      external_urls  \\\n",
       "0       227195     False  {'spotify': 'https://open.spotify.com/track/1g...   \n",
       "1       218260     False  {'spotify': 'https://open.spotify.com/track/4r...   \n",
       "2       178723     False  {'spotify': 'https://open.spotify.com/track/03...   \n",
       "3       211413     False  {'spotify': 'https://open.spotify.com/track/2w...   \n",
       "4       162733     False  {'spotify': 'https://open.spotify.com/track/2P...   \n",
       "\n",
       "                                                href                      id  \\\n",
       "0  https://api.spotify.com/v1/tracks/1gCb81O5KBhQ...  1gCb81O5KBhQ0T98qVqnpA   \n",
       "1  https://api.spotify.com/v1/tracks/4rTJmEi1WIcz...  4rTJmEi1WIczjtQbEw03wc   \n",
       "2  https://api.spotify.com/v1/tracks/03fVTjHPgUoi...  03fVTjHPgUoiKui75fg6aP   \n",
       "3  https://api.spotify.com/v1/tracks/2w2KX7p0MuiO...  2w2KX7p0MuiO9CPJ44OS7v   \n",
       "4  https://api.spotify.com/v1/tracks/2PRrjWU4At6F...  2PRrjWU4At6F37rMkyxNtJ   \n",
       "\n",
       "   is_local                   name  \\\n",
       "0     False  I Remember Everything   \n",
       "1     False   Pretty Little Poison   \n",
       "2     False            Religiously   \n",
       "3     False            The Painter   \n",
       "4     False             Glory Days   \n",
       "\n",
       "                                         preview_url  track_number   type  \\\n",
       "0  https://p.scdn.co/mp3-preview/22b240f7ef2eff38...             1  track   \n",
       "1  https://p.scdn.co/mp3-preview/edec90019e2f14e4...             2  track   \n",
       "2  https://p.scdn.co/mp3-preview/ff84c6f74e198ce3...             3  track   \n",
       "3  https://p.scdn.co/mp3-preview/1b9bc13efc82762c...             4  track   \n",
       "4  https://p.scdn.co/mp3-preview/de00787e3c1a0459...             5  track   \n",
       "\n",
       "                                    uri  \n",
       "0  spotify:track:1gCb81O5KBhQ0T98qVqnpA  \n",
       "1  spotify:track:4rTJmEi1WIczjtQbEw03wc  \n",
       "2  spotify:track:03fVTjHPgUoiKui75fg6aP  \n",
       "3  spotify:track:2w2KX7p0MuiO9CPJ44OS7v  \n",
       "4  spotify:track:2PRrjWU4At6F37rMkyxNtJ  "
      ]
     },
     "execution_count": 92,
     "metadata": {},
     "output_type": "execute_result"
    }
   ],
   "source": [
    "country_df = pd.DataFrame(country_data['items'])\n",
    "country_df.head()"
   ]
  },
  {
   "cell_type": "code",
   "execution_count": 93,
   "id": "d53b0533",
   "metadata": {},
   "outputs": [
    {
     "data": {
      "text/plain": [
       "'1gCb81O5KBhQ0T98qVqnpA,4rTJmEi1WIczjtQbEw03wc,03fVTjHPgUoiKui75fg6aP,2w2KX7p0MuiO9CPJ44OS7v,2PRrjWU4At6F37rMkyxNtJ,6dJmVGl0ho1snJT3k8Ylun,7d1k9xN4xk2ngo7HwQaW2e,29sj6Hmx9DmfUgtbF3g7c3,2CXNb059eeVlwjCm7uEzt0,5lSR9yEm2030BGpNUiJPu1,2hYvHnRoz2BfYoFbuYm1QN,0JjS7yT8dtV7GFJko7tiSB,3Xyn8rteuYaDTh0psN27lo,30s0EgAr6u4aX14T2VrYsP,4I6ILLqh8QqfJUncuFhnst,6BmcRAzsSlxvYtL7D2iQGc,59pifzB6z0VCt9r9b4kPTQ,74raw3zbPVbu080MiHx78E,53rjezkYsq4qlzJLtKeBx1,5iQ3Taps1AvrZaCX0hOgM8'"
      ]
     },
     "execution_count": 93,
     "metadata": {},
     "output_type": "execute_result"
    }
   ],
   "source": [
    "','.join(list(country_df['id']))"
   ]
  },
  {
   "cell_type": "code",
   "execution_count": 94,
   "id": "106ec417",
   "metadata": {},
   "outputs": [
    {
     "data": {
      "text/plain": [
       "'https://api.spotify.com/v1/audio-features?ids=1gCb81O5KBhQ0T98qVqnpA,4rTJmEi1WIczjtQbEw03wc,03fVTjHPgUoiKui75fg6aP,2w2KX7p0MuiO9CPJ44OS7v,2PRrjWU4At6F37rMkyxNtJ,6dJmVGl0ho1snJT3k8Ylun,7d1k9xN4xk2ngo7HwQaW2e,29sj6Hmx9DmfUgtbF3g7c3,2CXNb059eeVlwjCm7uEzt0,5lSR9yEm2030BGpNUiJPu1,2hYvHnRoz2BfYoFbuYm1QN,0JjS7yT8dtV7GFJko7tiSB,3Xyn8rteuYaDTh0psN27lo,30s0EgAr6u4aX14T2VrYsP,4I6ILLqh8QqfJUncuFhnst,6BmcRAzsSlxvYtL7D2iQGc,59pifzB6z0VCt9r9b4kPTQ,74raw3zbPVbu080MiHx78E,53rjezkYsq4qlzJLtKeBx1,5iQ3Taps1AvrZaCX0hOgM8'"
      ]
     },
     "execution_count": 94,
     "metadata": {},
     "output_type": "execute_result"
    }
   ],
   "source": [
    "audio_url = 'https://api.spotify.com/v1/audio-features?ids={}'.format(','.join(list(country_df['id'])))\n",
    "audio_url"
   ]
  },
  {
   "cell_type": "code",
   "execution_count": 95,
   "id": "f0c21e99",
   "metadata": {},
   "outputs": [],
   "source": [
    "features_response = requests.get(url = audio_url, headers = session_headers)"
   ]
  },
  {
   "cell_type": "code",
   "execution_count": 96,
   "id": "6a1c013b",
   "metadata": {},
   "outputs": [],
   "source": [
    "country_features = features_response.json()"
   ]
  },
  {
   "cell_type": "code",
   "execution_count": 97,
   "id": "26675300",
   "metadata": {},
   "outputs": [
    {
     "data": {
      "text/plain": [
       "dict_keys(['audio_features'])"
      ]
     },
     "execution_count": 97,
     "metadata": {},
     "output_type": "execute_result"
    }
   ],
   "source": [
    "country_features.keys()"
   ]
  },
  {
   "cell_type": "code",
   "execution_count": 98,
   "id": "3a86bd80",
   "metadata": {},
   "outputs": [
    {
     "data": {
      "text/plain": [
       "{'danceability': 0.429,\n",
       " 'energy': 0.453,\n",
       " 'key': 0,\n",
       " 'loudness': -7.746,\n",
       " 'mode': 1,\n",
       " 'speechiness': 0.0459,\n",
       " 'acousticness': 0.554,\n",
       " 'instrumentalness': 2e-06,\n",
       " 'liveness': 0.102,\n",
       " 'valence': 0.155,\n",
       " 'tempo': 77.639,\n",
       " 'type': 'audio_features',\n",
       " 'id': '1gCb81O5KBhQ0T98qVqnpA',\n",
       " 'uri': 'spotify:track:1gCb81O5KBhQ0T98qVqnpA',\n",
       " 'track_href': 'https://api.spotify.com/v1/tracks/1gCb81O5KBhQ0T98qVqnpA',\n",
       " 'analysis_url': 'https://api.spotify.com/v1/audio-analysis/1gCb81O5KBhQ0T98qVqnpA',\n",
       " 'duration_ms': 227196,\n",
       " 'time_signature': 4}"
      ]
     },
     "execution_count": 98,
     "metadata": {},
     "output_type": "execute_result"
    }
   ],
   "source": [
    "country_features['audio_features'][0]"
   ]
  },
  {
   "cell_type": "markdown",
   "id": "86340010",
   "metadata": {},
   "source": [
    "This table also shows the audio feature numbers for the first 5 songs on the Country album."
   ]
  },
  {
   "cell_type": "code",
   "execution_count": 99,
   "id": "45095206",
   "metadata": {},
   "outputs": [
    {
     "data": {
      "text/html": [
       "<div>\n",
       "<style scoped>\n",
       "    .dataframe tbody tr th:only-of-type {\n",
       "        vertical-align: middle;\n",
       "    }\n",
       "\n",
       "    .dataframe tbody tr th {\n",
       "        vertical-align: top;\n",
       "    }\n",
       "\n",
       "    .dataframe thead th {\n",
       "        text-align: right;\n",
       "    }\n",
       "</style>\n",
       "<table border=\"1\" class=\"dataframe\">\n",
       "  <thead>\n",
       "    <tr style=\"text-align: right;\">\n",
       "      <th></th>\n",
       "      <th>danceability</th>\n",
       "      <th>energy</th>\n",
       "      <th>key</th>\n",
       "      <th>loudness</th>\n",
       "      <th>mode</th>\n",
       "      <th>speechiness</th>\n",
       "      <th>acousticness</th>\n",
       "      <th>instrumentalness</th>\n",
       "      <th>liveness</th>\n",
       "      <th>valence</th>\n",
       "      <th>tempo</th>\n",
       "      <th>type</th>\n",
       "      <th>id</th>\n",
       "      <th>uri</th>\n",
       "      <th>track_href</th>\n",
       "      <th>analysis_url</th>\n",
       "      <th>duration_ms</th>\n",
       "      <th>time_signature</th>\n",
       "    </tr>\n",
       "  </thead>\n",
       "  <tbody>\n",
       "    <tr>\n",
       "      <th>0</th>\n",
       "      <td>0.429</td>\n",
       "      <td>0.453</td>\n",
       "      <td>0</td>\n",
       "      <td>-7.746</td>\n",
       "      <td>1</td>\n",
       "      <td>0.0459</td>\n",
       "      <td>0.55400</td>\n",
       "      <td>0.000002</td>\n",
       "      <td>0.102</td>\n",
       "      <td>0.155</td>\n",
       "      <td>77.639</td>\n",
       "      <td>audio_features</td>\n",
       "      <td>1gCb81O5KBhQ0T98qVqnpA</td>\n",
       "      <td>spotify:track:1gCb81O5KBhQ0T98qVqnpA</td>\n",
       "      <td>https://api.spotify.com/v1/tracks/1gCb81O5KBhQ...</td>\n",
       "      <td>https://api.spotify.com/v1/audio-analysis/1gCb...</td>\n",
       "      <td>227196</td>\n",
       "      <td>4</td>\n",
       "    </tr>\n",
       "    <tr>\n",
       "      <th>1</th>\n",
       "      <td>0.494</td>\n",
       "      <td>0.567</td>\n",
       "      <td>1</td>\n",
       "      <td>-4.156</td>\n",
       "      <td>1</td>\n",
       "      <td>0.0334</td>\n",
       "      <td>0.02350</td>\n",
       "      <td>0.000002</td>\n",
       "      <td>0.146</td>\n",
       "      <td>0.220</td>\n",
       "      <td>112.011</td>\n",
       "      <td>audio_features</td>\n",
       "      <td>4rTJmEi1WIczjtQbEw03wc</td>\n",
       "      <td>spotify:track:4rTJmEi1WIczjtQbEw03wc</td>\n",
       "      <td>https://api.spotify.com/v1/tracks/4rTJmEi1WIcz...</td>\n",
       "      <td>https://api.spotify.com/v1/audio-analysis/4rTJ...</td>\n",
       "      <td>218260</td>\n",
       "      <td>3</td>\n",
       "    </tr>\n",
       "    <tr>\n",
       "      <th>2</th>\n",
       "      <td>0.570</td>\n",
       "      <td>0.670</td>\n",
       "      <td>1</td>\n",
       "      <td>-6.519</td>\n",
       "      <td>1</td>\n",
       "      <td>0.0274</td>\n",
       "      <td>0.42600</td>\n",
       "      <td>0.000000</td>\n",
       "      <td>0.108</td>\n",
       "      <td>0.593</td>\n",
       "      <td>140.924</td>\n",
       "      <td>audio_features</td>\n",
       "      <td>03fVTjHPgUoiKui75fg6aP</td>\n",
       "      <td>spotify:track:03fVTjHPgUoiKui75fg6aP</td>\n",
       "      <td>https://api.spotify.com/v1/tracks/03fVTjHPgUoi...</td>\n",
       "      <td>https://api.spotify.com/v1/audio-analysis/03fV...</td>\n",
       "      <td>178723</td>\n",
       "      <td>4</td>\n",
       "    </tr>\n",
       "    <tr>\n",
       "      <th>3</th>\n",
       "      <td>0.512</td>\n",
       "      <td>0.709</td>\n",
       "      <td>2</td>\n",
       "      <td>-5.766</td>\n",
       "      <td>1</td>\n",
       "      <td>0.0329</td>\n",
       "      <td>0.04150</td>\n",
       "      <td>0.000004</td>\n",
       "      <td>0.107</td>\n",
       "      <td>0.261</td>\n",
       "      <td>97.981</td>\n",
       "      <td>audio_features</td>\n",
       "      <td>2w2KX7p0MuiO9CPJ44OS7v</td>\n",
       "      <td>spotify:track:2w2KX7p0MuiO9CPJ44OS7v</td>\n",
       "      <td>https://api.spotify.com/v1/tracks/2w2KX7p0MuiO...</td>\n",
       "      <td>https://api.spotify.com/v1/audio-analysis/2w2K...</td>\n",
       "      <td>211413</td>\n",
       "      <td>4</td>\n",
       "    </tr>\n",
       "    <tr>\n",
       "      <th>4</th>\n",
       "      <td>0.647</td>\n",
       "      <td>0.776</td>\n",
       "      <td>7</td>\n",
       "      <td>-5.221</td>\n",
       "      <td>1</td>\n",
       "      <td>0.0514</td>\n",
       "      <td>0.00686</td>\n",
       "      <td>0.000000</td>\n",
       "      <td>0.119</td>\n",
       "      <td>0.268</td>\n",
       "      <td>103.919</td>\n",
       "      <td>audio_features</td>\n",
       "      <td>2PRrjWU4At6F37rMkyxNtJ</td>\n",
       "      <td>spotify:track:2PRrjWU4At6F37rMkyxNtJ</td>\n",
       "      <td>https://api.spotify.com/v1/tracks/2PRrjWU4At6F...</td>\n",
       "      <td>https://api.spotify.com/v1/audio-analysis/2PRr...</td>\n",
       "      <td>162733</td>\n",
       "      <td>4</td>\n",
       "    </tr>\n",
       "  </tbody>\n",
       "</table>\n",
       "</div>"
      ],
      "text/plain": [
       "   danceability  energy  key  loudness  mode  speechiness  acousticness  \\\n",
       "0         0.429   0.453    0    -7.746     1       0.0459       0.55400   \n",
       "1         0.494   0.567    1    -4.156     1       0.0334       0.02350   \n",
       "2         0.570   0.670    1    -6.519     1       0.0274       0.42600   \n",
       "3         0.512   0.709    2    -5.766     1       0.0329       0.04150   \n",
       "4         0.647   0.776    7    -5.221     1       0.0514       0.00686   \n",
       "\n",
       "   instrumentalness  liveness  valence    tempo            type  \\\n",
       "0          0.000002     0.102    0.155   77.639  audio_features   \n",
       "1          0.000002     0.146    0.220  112.011  audio_features   \n",
       "2          0.000000     0.108    0.593  140.924  audio_features   \n",
       "3          0.000004     0.107    0.261   97.981  audio_features   \n",
       "4          0.000000     0.119    0.268  103.919  audio_features   \n",
       "\n",
       "                       id                                   uri  \\\n",
       "0  1gCb81O5KBhQ0T98qVqnpA  spotify:track:1gCb81O5KBhQ0T98qVqnpA   \n",
       "1  4rTJmEi1WIczjtQbEw03wc  spotify:track:4rTJmEi1WIczjtQbEw03wc   \n",
       "2  03fVTjHPgUoiKui75fg6aP  spotify:track:03fVTjHPgUoiKui75fg6aP   \n",
       "3  2w2KX7p0MuiO9CPJ44OS7v  spotify:track:2w2KX7p0MuiO9CPJ44OS7v   \n",
       "4  2PRrjWU4At6F37rMkyxNtJ  spotify:track:2PRrjWU4At6F37rMkyxNtJ   \n",
       "\n",
       "                                          track_href  \\\n",
       "0  https://api.spotify.com/v1/tracks/1gCb81O5KBhQ...   \n",
       "1  https://api.spotify.com/v1/tracks/4rTJmEi1WIcz...   \n",
       "2  https://api.spotify.com/v1/tracks/03fVTjHPgUoi...   \n",
       "3  https://api.spotify.com/v1/tracks/2w2KX7p0MuiO...   \n",
       "4  https://api.spotify.com/v1/tracks/2PRrjWU4At6F...   \n",
       "\n",
       "                                        analysis_url  duration_ms  \\\n",
       "0  https://api.spotify.com/v1/audio-analysis/1gCb...       227196   \n",
       "1  https://api.spotify.com/v1/audio-analysis/4rTJ...       218260   \n",
       "2  https://api.spotify.com/v1/audio-analysis/03fV...       178723   \n",
       "3  https://api.spotify.com/v1/audio-analysis/2w2K...       211413   \n",
       "4  https://api.spotify.com/v1/audio-analysis/2PRr...       162733   \n",
       "\n",
       "   time_signature  \n",
       "0               4  \n",
       "1               3  \n",
       "2               4  \n",
       "3               4  \n",
       "4               4  "
      ]
     },
     "execution_count": 99,
     "metadata": {},
     "output_type": "execute_result"
    }
   ],
   "source": [
    "country_features_df = pd.DataFrame(country_features['audio_features'])\n",
    "country_features_df.head()"
   ]
  },
  {
   "cell_type": "code",
   "execution_count": 100,
   "id": "37582c24",
   "metadata": {},
   "outputs": [
    {
     "data": {
      "text/html": [
       "<div>\n",
       "<style scoped>\n",
       "    .dataframe tbody tr th:only-of-type {\n",
       "        vertical-align: middle;\n",
       "    }\n",
       "\n",
       "    .dataframe tbody tr th {\n",
       "        vertical-align: top;\n",
       "    }\n",
       "\n",
       "    .dataframe thead th {\n",
       "        text-align: right;\n",
       "    }\n",
       "</style>\n",
       "<table border=\"1\" class=\"dataframe\">\n",
       "  <thead>\n",
       "    <tr style=\"text-align: right;\">\n",
       "      <th></th>\n",
       "      <th>energy</th>\n",
       "      <th>tempo</th>\n",
       "    </tr>\n",
       "  </thead>\n",
       "  <tbody>\n",
       "    <tr>\n",
       "      <th>0</th>\n",
       "      <td>0.453</td>\n",
       "      <td>77.639</td>\n",
       "    </tr>\n",
       "    <tr>\n",
       "      <th>1</th>\n",
       "      <td>0.567</td>\n",
       "      <td>112.011</td>\n",
       "    </tr>\n",
       "    <tr>\n",
       "      <th>2</th>\n",
       "      <td>0.670</td>\n",
       "      <td>140.924</td>\n",
       "    </tr>\n",
       "    <tr>\n",
       "      <th>3</th>\n",
       "      <td>0.709</td>\n",
       "      <td>97.981</td>\n",
       "    </tr>\n",
       "    <tr>\n",
       "      <th>4</th>\n",
       "      <td>0.776</td>\n",
       "      <td>103.919</td>\n",
       "    </tr>\n",
       "  </tbody>\n",
       "</table>\n",
       "</div>"
      ],
      "text/plain": [
       "   energy    tempo\n",
       "0   0.453   77.639\n",
       "1   0.567  112.011\n",
       "2   0.670  140.924\n",
       "3   0.709   97.981\n",
       "4   0.776  103.919"
      ]
     },
     "execution_count": 100,
     "metadata": {},
     "output_type": "execute_result"
    }
   ],
   "source": [
    "joined_df = pd.merge(country_df, country_features_df, how = 'inner', on = 'id')\n",
    "joined_df[['energy', 'tempo']].head()"
   ]
  },
  {
   "cell_type": "markdown",
   "id": "f5e6cea0",
   "metadata": {},
   "source": [
    "After collecting the data, I can confirm that my hypothesis was correct. Rock music has higher energy and tempo than Country music. For my next steps, I would probably do more research on audio features to get a better understand of what each feature means compared to the numbers they produce. Another potential next step would be looking at what causes certain genres to have higher or lower audio features."
   ]
  }
 ],
 "metadata": {
  "kernelspec": {
   "display_name": "Python 3 (ipykernel)",
   "language": "python",
   "name": "python3"
  },
  "language_info": {
   "codemirror_mode": {
    "name": "ipython",
    "version": 3
   },
   "file_extension": ".py",
   "mimetype": "text/x-python",
   "name": "python",
   "nbconvert_exporter": "python",
   "pygments_lexer": "ipython3",
   "version": "3.11.4"
  }
 },
 "nbformat": 4,
 "nbformat_minor": 5
}
