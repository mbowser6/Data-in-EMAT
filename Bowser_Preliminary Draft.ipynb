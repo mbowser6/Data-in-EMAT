{
 "cells": [
  {
   "cell_type": "markdown",
   "id": "460fbd99",
   "metadata": {},
   "source": [
    "Miranda Bowser\n",
    "\n",
    "12.7.23\n",
    "\n",
    "Dr. Silva\n",
    "\n",
    "Preliminary Draft"
   ]
  },
  {
   "cell_type": "markdown",
   "id": "1a9d2328",
   "metadata": {},
   "source": [
    "For my  I will be making histograms, scatterplots and possibly bar graphs to best represent the data I have pulled for this project. I believe these graphs will be the best for me to use to test my hypothesis. I'm mainly looking for spots where either high or low death numbers occur and see how it compares to the viewer numbers."
   ]
  },
  {
   "cell_type": "code",
   "execution_count": 2,
   "id": "c87deb30",
   "metadata": {},
   "outputs": [
    {
     "name": "stdout",
     "output_type": "stream",
     "text": [
      "Intel MKL WARNING: Support of Intel(R) Streaming SIMD Extensions 4.2 (Intel(R) SSE4.2) enabled only processors has been deprecated. Intel oneAPI Math Kernel Library 2025.0 will require Intel(R) Advanced Vector Extensions (Intel(R) AVX) instructions.\n",
      "Intel MKL WARNING: Support of Intel(R) Streaming SIMD Extensions 4.2 (Intel(R) SSE4.2) enabled only processors has been deprecated. Intel oneAPI Math Kernel Library 2025.0 will require Intel(R) Advanced Vector Extensions (Intel(R) AVX) instructions.\n"
     ]
    }
   ],
   "source": [
    "import pandas as pd \n",
    "import base64\n",
    "import json\n",
    "import urllib\n",
    "import numpy as np\n",
    "from scipy import stats\n",
    "from matplotlib import pyplot as plt"
   ]
  },
  {
   "cell_type": "code",
   "execution_count": 3,
   "id": "32a5848f",
   "metadata": {},
   "outputs": [],
   "source": [
    "GOT = pd.read_html('https://en.wikipedia.org/wiki/List_of_Game_of_Thrones_episodes')\n",
    "#GOT"
   ]
  },
  {
   "cell_type": "code",
   "execution_count": 4,
   "id": "4ff6f59d",
   "metadata": {},
   "outputs": [
    {
     "data": {
      "text/html": [
       "<div>\n",
       "<style scoped>\n",
       "    .dataframe tbody tr th:only-of-type {\n",
       "        vertical-align: middle;\n",
       "    }\n",
       "\n",
       "    .dataframe tbody tr th {\n",
       "        vertical-align: top;\n",
       "    }\n",
       "\n",
       "    .dataframe thead th {\n",
       "        text-align: right;\n",
       "    }\n",
       "</style>\n",
       "<table border=\"1\" class=\"dataframe\">\n",
       "  <thead>\n",
       "    <tr style=\"text-align: right;\">\n",
       "      <th></th>\n",
       "      <th>No. overall</th>\n",
       "      <th>No. in season</th>\n",
       "      <th>Title</th>\n",
       "      <th>Directed by</th>\n",
       "      <th>Written by</th>\n",
       "      <th>Original air date [20]</th>\n",
       "      <th>U.S. viewers (millions)</th>\n",
       "    </tr>\n",
       "  </thead>\n",
       "  <tbody>\n",
       "    <tr>\n",
       "      <th>0</th>\n",
       "      <td>1</td>\n",
       "      <td>1</td>\n",
       "      <td>\"Winter Is Coming\"</td>\n",
       "      <td>Tim Van Patten</td>\n",
       "      <td>David Benioff &amp; D. B. Weiss</td>\n",
       "      <td>April 17, 2011</td>\n",
       "      <td>2.22[21]</td>\n",
       "    </tr>\n",
       "    <tr>\n",
       "      <th>1</th>\n",
       "      <td>2</td>\n",
       "      <td>2</td>\n",
       "      <td>\"The Kingsroad\"</td>\n",
       "      <td>Tim Van Patten</td>\n",
       "      <td>David Benioff &amp; D. B. Weiss</td>\n",
       "      <td>April 24, 2011</td>\n",
       "      <td>2.20[22]</td>\n",
       "    </tr>\n",
       "    <tr>\n",
       "      <th>2</th>\n",
       "      <td>3</td>\n",
       "      <td>3</td>\n",
       "      <td>\"Lord Snow\"</td>\n",
       "      <td>Brian Kirk</td>\n",
       "      <td>David Benioff &amp; D. B. Weiss</td>\n",
       "      <td>May 1, 2011</td>\n",
       "      <td>2.44[23]</td>\n",
       "    </tr>\n",
       "    <tr>\n",
       "      <th>3</th>\n",
       "      <td>4</td>\n",
       "      <td>4</td>\n",
       "      <td>\"Cripples, Bastards, and Broken Things\"</td>\n",
       "      <td>Brian Kirk</td>\n",
       "      <td>Bryan Cogman</td>\n",
       "      <td>May 8, 2011</td>\n",
       "      <td>2.45[24]</td>\n",
       "    </tr>\n",
       "    <tr>\n",
       "      <th>4</th>\n",
       "      <td>5</td>\n",
       "      <td>5</td>\n",
       "      <td>\"The Wolf and the Lion\"</td>\n",
       "      <td>Brian Kirk</td>\n",
       "      <td>David Benioff &amp; D. B. Weiss</td>\n",
       "      <td>May 15, 2011</td>\n",
       "      <td>2.58[25]</td>\n",
       "    </tr>\n",
       "    <tr>\n",
       "      <th>5</th>\n",
       "      <td>6</td>\n",
       "      <td>6</td>\n",
       "      <td>\"A Golden Crown\"</td>\n",
       "      <td>Daniel Minahan</td>\n",
       "      <td>Story by : David Benioff &amp; D. B. Weiss Telepla...</td>\n",
       "      <td>May 22, 2011</td>\n",
       "      <td>2.44[26]</td>\n",
       "    </tr>\n",
       "    <tr>\n",
       "      <th>6</th>\n",
       "      <td>7</td>\n",
       "      <td>7</td>\n",
       "      <td>\"You Win or You Die\"</td>\n",
       "      <td>Daniel Minahan</td>\n",
       "      <td>David Benioff &amp; D. B. Weiss</td>\n",
       "      <td>May 29, 2011</td>\n",
       "      <td>2.40[27]</td>\n",
       "    </tr>\n",
       "    <tr>\n",
       "      <th>7</th>\n",
       "      <td>8</td>\n",
       "      <td>8</td>\n",
       "      <td>\"The Pointy End\"</td>\n",
       "      <td>Daniel Minahan</td>\n",
       "      <td>George R. R. Martin</td>\n",
       "      <td>June 5, 2011</td>\n",
       "      <td>2.72[28]</td>\n",
       "    </tr>\n",
       "    <tr>\n",
       "      <th>8</th>\n",
       "      <td>9</td>\n",
       "      <td>9</td>\n",
       "      <td>\"Baelor\"</td>\n",
       "      <td>Alan Taylor</td>\n",
       "      <td>David Benioff &amp; D. B. Weiss</td>\n",
       "      <td>June 12, 2011</td>\n",
       "      <td>2.66[29]</td>\n",
       "    </tr>\n",
       "    <tr>\n",
       "      <th>9</th>\n",
       "      <td>10</td>\n",
       "      <td>10</td>\n",
       "      <td>\"Fire and Blood\"</td>\n",
       "      <td>Alan Taylor</td>\n",
       "      <td>David Benioff &amp; D. B. Weiss</td>\n",
       "      <td>June 19, 2011</td>\n",
       "      <td>3.04[30]</td>\n",
       "    </tr>\n",
       "  </tbody>\n",
       "</table>\n",
       "</div>"
      ],
      "text/plain": [
       "   No. overall  No. in season                                    Title  \\\n",
       "0            1              1                       \"Winter Is Coming\"   \n",
       "1            2              2                          \"The Kingsroad\"   \n",
       "2            3              3                              \"Lord Snow\"   \n",
       "3            4              4  \"Cripples, Bastards, and Broken Things\"   \n",
       "4            5              5                  \"The Wolf and the Lion\"   \n",
       "5            6              6                         \"A Golden Crown\"   \n",
       "6            7              7                     \"You Win or You Die\"   \n",
       "7            8              8                         \"The Pointy End\"   \n",
       "8            9              9                                 \"Baelor\"   \n",
       "9           10             10                         \"Fire and Blood\"   \n",
       "\n",
       "      Directed by                                         Written by  \\\n",
       "0  Tim Van Patten                        David Benioff & D. B. Weiss   \n",
       "1  Tim Van Patten                        David Benioff & D. B. Weiss   \n",
       "2      Brian Kirk                        David Benioff & D. B. Weiss   \n",
       "3      Brian Kirk                                       Bryan Cogman   \n",
       "4      Brian Kirk                        David Benioff & D. B. Weiss   \n",
       "5  Daniel Minahan  Story by : David Benioff & D. B. Weiss Telepla...   \n",
       "6  Daniel Minahan                        David Benioff & D. B. Weiss   \n",
       "7  Daniel Minahan                                George R. R. Martin   \n",
       "8     Alan Taylor                        David Benioff & D. B. Weiss   \n",
       "9     Alan Taylor                        David Benioff & D. B. Weiss   \n",
       "\n",
       "  Original air date [20] U.S. viewers (millions)  \n",
       "0         April 17, 2011                2.22[21]  \n",
       "1         April 24, 2011                2.20[22]  \n",
       "2            May 1, 2011                2.44[23]  \n",
       "3            May 8, 2011                2.45[24]  \n",
       "4           May 15, 2011                2.58[25]  \n",
       "5           May 22, 2011                2.44[26]  \n",
       "6           May 29, 2011                2.40[27]  \n",
       "7           June 5, 2011                2.72[28]  \n",
       "8          June 12, 2011                2.66[29]  \n",
       "9          June 19, 2011                3.04[30]  "
      ]
     },
     "execution_count": 4,
     "metadata": {},
     "output_type": "execute_result"
    }
   ],
   "source": [
    "GOT[1]"
   ]
  },
  {
   "cell_type": "code",
   "execution_count": 22,
   "id": "1198b121",
   "metadata": {
    "scrolled": true
   },
   "outputs": [
    {
     "data": {
      "text/html": [
       "<div>\n",
       "<style scoped>\n",
       "    .dataframe tbody tr th:only-of-type {\n",
       "        vertical-align: middle;\n",
       "    }\n",
       "\n",
       "    .dataframe tbody tr th {\n",
       "        vertical-align: top;\n",
       "    }\n",
       "\n",
       "    .dataframe thead th {\n",
       "        text-align: right;\n",
       "    }\n",
       "</style>\n",
       "<table border=\"1\" class=\"dataframe\">\n",
       "  <thead>\n",
       "    <tr style=\"text-align: right;\">\n",
       "      <th></th>\n",
       "      <th>No. overall</th>\n",
       "      <th>No. in season</th>\n",
       "      <th>Title</th>\n",
       "      <th>Directed by</th>\n",
       "      <th>Written by</th>\n",
       "      <th>Original air date [20]</th>\n",
       "      <th>U.S. viewers (millions)</th>\n",
       "    </tr>\n",
       "  </thead>\n",
       "  <tbody>\n",
       "    <tr>\n",
       "      <th>0</th>\n",
       "      <td>68</td>\n",
       "      <td>1</td>\n",
       "      <td>\"Winterfell\"</td>\n",
       "      <td>David Nutter</td>\n",
       "      <td>Dave Hill</td>\n",
       "      <td>April 14, 2019</td>\n",
       "      <td>11.76[88]</td>\n",
       "    </tr>\n",
       "    <tr>\n",
       "      <th>1</th>\n",
       "      <td>69</td>\n",
       "      <td>2</td>\n",
       "      <td>\"A Knight of the Seven Kingdoms\"</td>\n",
       "      <td>David Nutter</td>\n",
       "      <td>Bryan Cogman</td>\n",
       "      <td>April 21, 2019</td>\n",
       "      <td>10.29[89]</td>\n",
       "    </tr>\n",
       "    <tr>\n",
       "      <th>2</th>\n",
       "      <td>70</td>\n",
       "      <td>3</td>\n",
       "      <td>\"The Long Night\"</td>\n",
       "      <td>Miguel Sapochnik</td>\n",
       "      <td>David Benioff &amp; D. B. Weiss</td>\n",
       "      <td>April 28, 2019</td>\n",
       "      <td>12.02[90]</td>\n",
       "    </tr>\n",
       "    <tr>\n",
       "      <th>3</th>\n",
       "      <td>71</td>\n",
       "      <td>4</td>\n",
       "      <td>\"The Last of the Starks\"</td>\n",
       "      <td>David Nutter</td>\n",
       "      <td>David Benioff &amp; D. B. Weiss</td>\n",
       "      <td>May 5, 2019</td>\n",
       "      <td>11.80[91]</td>\n",
       "    </tr>\n",
       "    <tr>\n",
       "      <th>4</th>\n",
       "      <td>72</td>\n",
       "      <td>5</td>\n",
       "      <td>\"The Bells\"</td>\n",
       "      <td>Miguel Sapochnik</td>\n",
       "      <td>David Benioff &amp; D. B. Weiss</td>\n",
       "      <td>May 12, 2019</td>\n",
       "      <td>12.48[92]</td>\n",
       "    </tr>\n",
       "    <tr>\n",
       "      <th>5</th>\n",
       "      <td>73</td>\n",
       "      <td>6</td>\n",
       "      <td>\"The Iron Throne\"</td>\n",
       "      <td>David Benioff &amp; D. B. Weiss</td>\n",
       "      <td>David Benioff &amp; D. B. Weiss</td>\n",
       "      <td>May 19, 2019</td>\n",
       "      <td>13.61[93]</td>\n",
       "    </tr>\n",
       "  </tbody>\n",
       "</table>\n",
       "</div>"
      ],
      "text/plain": [
       "   No. overall  No. in season                             Title  \\\n",
       "0           68              1                      \"Winterfell\"   \n",
       "1           69              2  \"A Knight of the Seven Kingdoms\"   \n",
       "2           70              3                  \"The Long Night\"   \n",
       "3           71              4          \"The Last of the Starks\"   \n",
       "4           72              5                       \"The Bells\"   \n",
       "5           73              6                 \"The Iron Throne\"   \n",
       "\n",
       "                   Directed by                   Written by  \\\n",
       "0                 David Nutter                    Dave Hill   \n",
       "1                 David Nutter                 Bryan Cogman   \n",
       "2             Miguel Sapochnik  David Benioff & D. B. Weiss   \n",
       "3                 David Nutter  David Benioff & D. B. Weiss   \n",
       "4             Miguel Sapochnik  David Benioff & D. B. Weiss   \n",
       "5  David Benioff & D. B. Weiss  David Benioff & D. B. Weiss   \n",
       "\n",
       "  Original air date [20] U.S. viewers (millions)  \n",
       "0         April 14, 2019               11.76[88]  \n",
       "1         April 21, 2019               10.29[89]  \n",
       "2         April 28, 2019               12.02[90]  \n",
       "3            May 5, 2019               11.80[91]  \n",
       "4           May 12, 2019               12.48[92]  \n",
       "5           May 19, 2019               13.61[93]  "
      ]
     },
     "execution_count": 22,
     "metadata": {},
     "output_type": "execute_result"
    }
   ],
   "source": [
    "GOT[8]"
   ]
  },
  {
   "cell_type": "code",
   "execution_count": 5,
   "id": "a2932bf2",
   "metadata": {},
   "outputs": [
    {
     "data": {
      "text/html": [
       "<div>\n",
       "<style scoped>\n",
       "    .dataframe tbody tr th:only-of-type {\n",
       "        vertical-align: middle;\n",
       "    }\n",
       "\n",
       "    .dataframe tbody tr th {\n",
       "        vertical-align: top;\n",
       "    }\n",
       "\n",
       "    .dataframe thead th {\n",
       "        text-align: right;\n",
       "    }\n",
       "</style>\n",
       "<table border=\"1\" class=\"dataframe\">\n",
       "  <thead>\n",
       "    <tr style=\"text-align: right;\">\n",
       "      <th></th>\n",
       "      <th>No. in season</th>\n",
       "    </tr>\n",
       "  </thead>\n",
       "  <tbody>\n",
       "    <tr>\n",
       "      <th>0</th>\n",
       "      <td>1</td>\n",
       "    </tr>\n",
       "    <tr>\n",
       "      <th>1</th>\n",
       "      <td>2</td>\n",
       "    </tr>\n",
       "    <tr>\n",
       "      <th>2</th>\n",
       "      <td>3</td>\n",
       "    </tr>\n",
       "    <tr>\n",
       "      <th>3</th>\n",
       "      <td>4</td>\n",
       "    </tr>\n",
       "    <tr>\n",
       "      <th>4</th>\n",
       "      <td>5</td>\n",
       "    </tr>\n",
       "    <tr>\n",
       "      <th>5</th>\n",
       "      <td>6</td>\n",
       "    </tr>\n",
       "  </tbody>\n",
       "</table>\n",
       "</div>"
      ],
      "text/plain": [
       "   No. in season\n",
       "0              1\n",
       "1              2\n",
       "2              3\n",
       "3              4\n",
       "4              5\n",
       "5              6"
      ]
     },
     "execution_count": 5,
     "metadata": {},
     "output_type": "execute_result"
    }
   ],
   "source": [
    "GOT_Season1 = pd.DataFrame(GOT[1]['No. in season'][0:6])\n",
    "GOT_Season1"
   ]
  },
  {
   "cell_type": "code",
   "execution_count": 7,
   "id": "c1192a5e",
   "metadata": {},
   "outputs": [
    {
     "data": {
      "text/html": [
       "<div>\n",
       "<style scoped>\n",
       "    .dataframe tbody tr th:only-of-type {\n",
       "        vertical-align: middle;\n",
       "    }\n",
       "\n",
       "    .dataframe tbody tr th {\n",
       "        vertical-align: top;\n",
       "    }\n",
       "\n",
       "    .dataframe thead th {\n",
       "        text-align: right;\n",
       "    }\n",
       "</style>\n",
       "<table border=\"1\" class=\"dataframe\">\n",
       "  <thead>\n",
       "    <tr style=\"text-align: right;\">\n",
       "      <th></th>\n",
       "      <th>No. in season</th>\n",
       "    </tr>\n",
       "  </thead>\n",
       "  <tbody>\n",
       "    <tr>\n",
       "      <th>0</th>\n",
       "      <td>1</td>\n",
       "    </tr>\n",
       "    <tr>\n",
       "      <th>1</th>\n",
       "      <td>2</td>\n",
       "    </tr>\n",
       "    <tr>\n",
       "      <th>2</th>\n",
       "      <td>3</td>\n",
       "    </tr>\n",
       "    <tr>\n",
       "      <th>3</th>\n",
       "      <td>4</td>\n",
       "    </tr>\n",
       "    <tr>\n",
       "      <th>4</th>\n",
       "      <td>5</td>\n",
       "    </tr>\n",
       "    <tr>\n",
       "      <th>5</th>\n",
       "      <td>6</td>\n",
       "    </tr>\n",
       "  </tbody>\n",
       "</table>\n",
       "</div>"
      ],
      "text/plain": [
       "   No. in season\n",
       "0              1\n",
       "1              2\n",
       "2              3\n",
       "3              4\n",
       "4              5\n",
       "5              6"
      ]
     },
     "execution_count": 7,
     "metadata": {},
     "output_type": "execute_result"
    }
   ],
   "source": [
    "GOT_Season8 = pd.DataFrame(GOT[8]['No. in season'])\n",
    "GOT_Season8"
   ]
  },
  {
   "cell_type": "code",
   "execution_count": 8,
   "id": "ad6f2d2b",
   "metadata": {},
   "outputs": [
    {
     "data": {
      "text/html": [
       "<div>\n",
       "<style scoped>\n",
       "    .dataframe tbody tr th:only-of-type {\n",
       "        vertical-align: middle;\n",
       "    }\n",
       "\n",
       "    .dataframe tbody tr th {\n",
       "        vertical-align: top;\n",
       "    }\n",
       "\n",
       "    .dataframe thead th {\n",
       "        text-align: right;\n",
       "    }\n",
       "</style>\n",
       "<table border=\"1\" class=\"dataframe\">\n",
       "  <thead>\n",
       "    <tr style=\"text-align: right;\">\n",
       "      <th></th>\n",
       "      <th>Characteristic</th>\n",
       "      <th>Number of deaths</th>\n",
       "    </tr>\n",
       "  </thead>\n",
       "  <tbody>\n",
       "    <tr>\n",
       "      <th>0</th>\n",
       "      <td>Season 1</td>\n",
       "      <td>59</td>\n",
       "    </tr>\n",
       "    <tr>\n",
       "      <th>1</th>\n",
       "      <td>Season 2</td>\n",
       "      <td>130</td>\n",
       "    </tr>\n",
       "    <tr>\n",
       "      <th>2</th>\n",
       "      <td>Season 3</td>\n",
       "      <td>87</td>\n",
       "    </tr>\n",
       "    <tr>\n",
       "      <th>3</th>\n",
       "      <td>Season 4</td>\n",
       "      <td>182</td>\n",
       "    </tr>\n",
       "    <tr>\n",
       "      <th>4</th>\n",
       "      <td>Season 5</td>\n",
       "      <td>246</td>\n",
       "    </tr>\n",
       "    <tr>\n",
       "      <th>5</th>\n",
       "      <td>Season 6</td>\n",
       "      <td>540</td>\n",
       "    </tr>\n",
       "    <tr>\n",
       "      <th>6</th>\n",
       "      <td>Season 7</td>\n",
       "      <td>1096</td>\n",
       "    </tr>\n",
       "    <tr>\n",
       "      <th>7</th>\n",
       "      <td>Season 8</td>\n",
       "      <td>3523</td>\n",
       "    </tr>\n",
       "  </tbody>\n",
       "</table>\n",
       "</div>"
      ],
      "text/plain": [
       "  Characteristic  Number of deaths\n",
       "0       Season 1                59\n",
       "1       Season 2               130\n",
       "2       Season 3                87\n",
       "3       Season 4               182\n",
       "4       Season 5               246\n",
       "5       Season 6               540\n",
       "6       Season 7              1096\n",
       "7       Season 8              3523"
      ]
     },
     "execution_count": 8,
     "metadata": {},
     "output_type": "execute_result"
    }
   ],
   "source": [
    "GOT_Deaths = pd.read_html('https://www.statista.com/statistics/420077/game-of-thrones-deadliest-seasons/')\n",
    "GOT_Deaths[0]"
   ]
  },
  {
   "cell_type": "code",
   "execution_count": 73,
   "id": "368e679a",
   "metadata": {},
   "outputs": [],
   "source": [
    "#GOT_Deaths[0]['Number of deaths'][0]"
   ]
  },
  {
   "cell_type": "code",
   "execution_count": 72,
   "id": "6b2ff779",
   "metadata": {},
   "outputs": [],
   "source": [
    "#GOT_Deaths[0]['Number of deaths'][7]"
   ]
  },
  {
   "cell_type": "markdown",
   "id": "326747d4",
   "metadata": {},
   "source": [
    "This histogram shows the number of views each episode got in season 1. It's a large graph due to the fact that the number of views were pretty consistent throughout the first season."
   ]
  },
  {
   "cell_type": "code",
   "execution_count": 11,
   "id": "f4024545",
   "metadata": {},
   "outputs": [
    {
     "data": {
      "image/png": "[encoded data removed]",
      "text/plain": [
       "<Figure size 2000x500 with 1 Axes>"
      ]
     },
     "metadata": {},
     "output_type": "display_data"
    }
   ],
   "source": [
    "fig1, ax1 = plt.subplots(figsize = (20,5))\n",
    "ax1.hist(GOT[1]['U.S. viewers (millions)'])\n",
    "\n",
    "plt.show()"
   ]
  },
  {
   "cell_type": "markdown",
   "id": "fa5eeab6",
   "metadata": {},
   "source": [
    "This also shows the number of views each episode got but in final season. Season 8 definitely jumped in the number of people watching the show compared to season 1."
   ]
  },
  {
   "cell_type": "code",
   "execution_count": 12,
   "id": "821ee223",
   "metadata": {},
   "outputs": [
    {
     "data": {
      "text/plain": [
       "(array([1., 0., 1., 0., 1., 0., 1., 0., 1., 1.]),\n",
       " array([0. , 0.5, 1. , 1.5, 2. , 2.5, 3. , 3.5, 4. , 4.5, 5. ]),\n",
       " <BarContainer object of 10 artists>)"
      ]
     },
     "execution_count": 12,
     "metadata": {},
     "output_type": "execute_result"
    },
    {
     "data": {
      "image/png": "[encoded data removed]",
      "text/plain": [
       "<Figure size 1500x500 with 1 Axes>"
      ]
     },
     "metadata": {},
     "output_type": "display_data"
    }
   ],
   "source": [
    "fig2, ax2 = plt.subplots(figsize = (15,5))\n",
    "ax2.hist(GOT[8]['U.S. viewers (millions)'])"
   ]
  },
  {
   "cell_type": "markdown",
   "id": "3a554701",
   "metadata": {},
   "source": [
    "I used this graph to show the data for the number of deaths that occurred in each season. "
   ]
  },
  {
   "cell_type": "code",
   "execution_count": 13,
   "id": "317c4c7f",
   "metadata": {},
   "outputs": [
    {
     "data": {
      "text/plain": [
       "(array([5., 1., 1., 0., 0., 0., 0., 0., 0., 1.]),\n",
       " array([  59. ,  405.4,  751.8, 1098.2, 1444.6, 1791. , 2137.4, 2483.8,\n",
       "        2830.2, 3176.6, 3523. ]),\n",
       " <BarContainer object of 10 artists>)"
      ]
     },
     "execution_count": 13,
     "metadata": {},
     "output_type": "execute_result"
    },
    {
     "data": {
      "image/png": "[encoded data removed]",
      "text/plain": [
       "<Figure size 640x480 with 1 Axes>"
      ]
     },
     "metadata": {},
     "output_type": "display_data"
    }
   ],
   "source": [
    "fig3, ax3 = plt.subplots()\n",
    "ax3.hist(GOT_Deaths[0]['Number of deaths'])"
   ]
  },
  {
   "cell_type": "markdown",
   "id": "2b0fdf88",
   "metadata": {},
   "source": [
    "I'm mainly looking at the difference between the first and last season. So this graph shows the number of deaths that occurred only in season 1."
   ]
  },
  {
   "cell_type": "code",
   "execution_count": 71,
   "id": "1dfb0ee7",
   "metadata": {},
   "outputs": [],
   "source": [
    "#fig3, ax3 = plt.subplots()\n",
    "#ax3.hist(GOT_Deaths[0]['Number of deaths'][0])"
   ]
  },
  {
   "cell_type": "markdown",
   "id": "f7816d00",
   "metadata": {},
   "source": [
    "and this graph shows the number of death and only occurred in season 8."
   ]
  },
  {
   "cell_type": "code",
   "execution_count": 70,
   "id": "92375831",
   "metadata": {},
   "outputs": [],
   "source": [
    "#fig3, ax3 = plt.subplots()\n",
    "#ax3.hist(GOT_Deaths[0]['Number of deaths'][7])"
   ]
  },
  {
   "cell_type": "markdown",
   "id": "078a08ae",
   "metadata": {},
   "source": [
    "I'm also planning on using a scatterplot to look at similiarites or differences between the number of deaths that occurred in the first and last season and compare it to how many views each season got. Hopefully this will tell me if the number of deaths that occurr in a season affect the viewer statistics.\n",
    "\n"
   ]
  },
  {
   "cell_type": "code",
   "execution_count": 69,
   "id": "8cae45af",
   "metadata": {},
   "outputs": [
    {
     "ename": "TypeError",
     "evalue": "list indices must be integers or slices, not str",
     "output_type": "error",
     "traceback": [
      "\u001b[0;31m---------------------------------------------------------------------------\u001b[0m",
      "\u001b[0;31mTypeError\u001b[0m                                 Traceback (most recent call last)",
      "Cell \u001b[0;32mIn[69], line 3\u001b[0m\n\u001b[1;32m      1\u001b[0m fig4, ax4 \u001b[38;5;241m=\u001b[39m plt\u001b[38;5;241m.\u001b[39msubplots()\n\u001b[1;32m      2\u001b[0m ax4\u001b[38;5;241m.\u001b[39mscatter(x \u001b[38;5;241m=\u001b[39m GOT_Season1[\u001b[38;5;124m'\u001b[39m\u001b[38;5;124mNo. in season\u001b[39m\u001b[38;5;124m'\u001b[39m],\n\u001b[0;32m----> 3\u001b[0m             y \u001b[38;5;241m=\u001b[39m GOT_Deaths[\u001b[38;5;124m'\u001b[39m\u001b[38;5;124mNumber of deaths\u001b[39m\u001b[38;5;124m'\u001b[39m])\n\u001b[1;32m      5\u001b[0m ax4\u001b[38;5;241m.\u001b[39mscatter(x \u001b[38;5;241m=\u001b[39m GOT_Season8[\u001b[38;5;124m'\u001b[39m\u001b[38;5;124mNo. in season\u001b[39m\u001b[38;5;124m'\u001b[39m],\n\u001b[1;32m      6\u001b[0m             y \u001b[38;5;241m=\u001b[39m GOT_Deaths[\u001b[38;5;124m'\u001b[39m\u001b[38;5;124mNumber of deaths\u001b[39m\u001b[38;5;124m'\u001b[39m])\n\u001b[1;32m      7\u001b[0m plt\u001b[38;5;241m.\u001b[39mshow()\n",
      "\u001b[0;31mTypeError\u001b[0m: list indices must be integers or slices, not str"
     ]
    },
    {
     "data": {
      "image/png": "[encoded data removed]",
      "text/plain": [
       "<Figure size 640x480 with 1 Axes>"
      ]
     },
     "metadata": {},
     "output_type": "display_data"
    }
   ],
   "source": [
    "fig4, ax4 = plt.subplots()\n",
    "ax4.scatter(x = GOT_Season1['No. in season'],\n",
    "            y = GOT_Deaths['Number of deaths'])\n",
    "\n",
    "ax4.scatter(x = GOT_Season8['No. in season'],\n",
    "            y = GOT_Deaths['Number of deaths'])\n",
    "\n",
    "plt.show()"
   ]
  },
  {
   "cell_type": "code",
   "execution_count": 64,
   "id": "e20bb100",
   "metadata": {},
   "outputs": [
    {
     "data": {
      "text/plain": [
       "Characteristic\n",
       "Season 1    1\n",
       "Season 2    1\n",
       "Season 3    1\n",
       "Season 4    1\n",
       "Season 5    1\n",
       "Season 6    1\n",
       "Season 7    1\n",
       "Season 8    1\n",
       "Name: Number of deaths, dtype: int64"
      ]
     },
     "execution_count": 64,
     "metadata": {},
     "output_type": "execute_result"
    }
   ],
   "source": [
    "GOT_Bar = GOT_Deaths[0].groupby('Characteristic').count()['Number of deaths']\n",
    "GOT_Bar"
   ]
  },
  {
   "cell_type": "code",
   "execution_count": 59,
   "id": "075c1bb3",
   "metadata": {},
   "outputs": [
    {
     "data": {
      "text/plain": [
       "array([1, 1, 1, 1, 1, 1, 1, 1])"
      ]
     },
     "execution_count": 59,
     "metadata": {},
     "output_type": "execute_result"
    }
   ],
   "source": [
    "GOT_Bar.values"
   ]
  },
  {
   "cell_type": "code",
   "execution_count": 60,
   "id": "bc654852",
   "metadata": {},
   "outputs": [
    {
     "data": {
      "text/plain": [
       "Index(['Season 1', 'Season 2', 'Season 3', 'Season 4', 'Season 5', 'Season 6',\n",
       "       'Season 7', 'Season 8'],\n",
       "      dtype='object', name='Characteristic')"
      ]
     },
     "execution_count": 60,
     "metadata": {},
     "output_type": "execute_result"
    }
   ],
   "source": [
    "GOT_Bar.index"
   ]
  },
  {
   "cell_type": "code",
   "execution_count": 56,
   "id": "f1cc352b",
   "metadata": {},
   "outputs": [
    {
     "data": {
      "text/plain": [
       "Characteristic\n",
       "Season 1    1\n",
       "Season 2    1\n",
       "Season 3    1\n",
       "Season 4    1\n",
       "Season 5    1\n",
       "Season 6    1\n",
       "Season 7    1\n",
       "Season 8    1\n",
       "Name: Number of deaths, dtype: int64"
      ]
     },
     "execution_count": 56,
     "metadata": {},
     "output_type": "execute_result"
    }
   ],
   "source": [
    "GOT_Bar.sort_values()"
   ]
  },
  {
   "cell_type": "code",
   "execution_count": 58,
   "id": "831644f9",
   "metadata": {},
   "outputs": [
    {
     "data": {
      "image/png": "[encoded data removed]",
      "text/plain": [
       "<Figure size 640x480 with 1 Axes>"
      ]
     },
     "metadata": {},
     "output_type": "display_data"
    }
   ],
   "source": [
    "fig5, ax5 = plt.subplots()\n",
    "ax5.bar(x = [1,2,3,4,5,6,7,8], height = GOT_Bar.sort_values(ascending = False).values)\n",
    "\n",
    "plt.show()"
   ]
  },
  {
   "cell_type": "code",
   "execution_count": null,
   "id": "0e6d4986",
   "metadata": {},
   "outputs": [],
   "source": []
  }
 ],
 "metadata": {
  "kernelspec": {
   "display_name": "Python 3 (ipykernel)",
   "language": "python",
   "name": "python3"
  },
  "language_info": {
   "codemirror_mode": {
    "name": "ipython",
    "version": 3
   },
   "file_extension": ".py",
   "mimetype": "text/x-python",
   "name": "python",
   "nbconvert_exporter": "python",
   "pygments_lexer": "ipython3",
   "version": "3.11.4"
  }
 },
 "nbformat": 4,
 "nbformat_minor": 5
}
