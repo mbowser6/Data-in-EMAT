{
 "cells": [
  {
   "cell_type": "markdown",
   "id": "460fbd99",
   "metadata": {},
   "source": [
    "### Final Report\n",
    "Miranda Bowser\n",
    "\n",
    "12.10.23\n",
    "\n",
    "Dr. Silva"
   ]
  },
  {
   "cell_type": "markdown",
   "id": "1a9d2328",
   "metadata": {},
   "source": [
    "Have you ever been invested in a TV show and then had your favorite character or characters unexpectedly pass away? When this occurs, you become agitated and feel the want to quit viewing the show entirely. I have had countless experiences like this, particularly with \"The Game of Thrones,\" one of my favorite television series. My question then arose as to whether I could obtain data for a statistical comparison that examines whether audience ratings are impacted by mortality rates in specific shows. \n",
    "\n",
    "Examining the first and last seasons of \"The Game of Thrones\" will be the main focus of this project. Our primary focus will be on the ratio of deaths to total viewers for these two seasons. Wikipedia provided the information relating to the number of views each season received. The information displaying the number of deaths came from the Statista website. These are two trustworthy sources that provided me with the data I required to test my theory."
   ]
  },
  {
   "cell_type": "code",
   "execution_count": 1,
   "id": "c87deb30",
   "metadata": {},
   "outputs": [
    {
     "name": "stdout",
     "output_type": "stream",
     "text": [
      "Intel MKL WARNING: Support of Intel(R) Streaming SIMD Extensions 4.2 (Intel(R) SSE4.2) enabled only processors has been deprecated. Intel oneAPI Math Kernel Library 2025.0 will require Intel(R) Advanced Vector Extensions (Intel(R) AVX) instructions.\n",
      "Intel MKL WARNING: Support of Intel(R) Streaming SIMD Extensions 4.2 (Intel(R) SSE4.2) enabled only processors has been deprecated. Intel oneAPI Math Kernel Library 2025.0 will require Intel(R) Advanced Vector Extensions (Intel(R) AVX) instructions.\n"
     ]
    }
   ],
   "source": [
    "import pandas as pd \n",
    "import base64\n",
    "import json\n",
    "import urllib\n",
    "import numpy as np\n",
    "from scipy import stats\n",
    "from matplotlib import pyplot as plt"
   ]
  },
  {
   "cell_type": "code",
   "execution_count": 2,
   "id": "32a5848f",
   "metadata": {},
   "outputs": [],
   "source": [
    "GOT = pd.read_html('https://en.wikipedia.org/wiki/List_of_Game_of_Thrones_episodes')\n",
    "#GOT"
   ]
  },
  {
   "cell_type": "markdown",
   "id": "3c503cfd",
   "metadata": {},
   "source": [
    "### Game of Thrones Season 1 Data Table.\n",
    "You can see that a lot of useful information about the show is shown in these first two charts. This initial chart solely pertains to season 1. This chart provides you with information on topics like the episode title, the director of that particular episode, the number of episodes in a season, and the total number of episodes in the series. The U.S. viewers (millions) column is the most crucial piece of data that we will be examining.\n"
   ]
  },
  {
   "cell_type": "code",
   "execution_count": 3,
   "id": "4ff6f59d",
   "metadata": {},
   "outputs": [
    {
     "data": {
      "text/html": [
       "<div>\n",
       "<style scoped>\n",
       "    .dataframe tbody tr th:only-of-type {\n",
       "        vertical-align: middle;\n",
       "    }\n",
       "\n",
       "    .dataframe tbody tr th {\n",
       "        vertical-align: top;\n",
       "    }\n",
       "\n",
       "    .dataframe thead th {\n",
       "        text-align: right;\n",
       "    }\n",
       "</style>\n",
       "<table border=\"1\" class=\"dataframe\">\n",
       "  <thead>\n",
       "    <tr style=\"text-align: right;\">\n",
       "      <th></th>\n",
       "      <th>No. overall</th>\n",
       "      <th>No. in season</th>\n",
       "      <th>Title</th>\n",
       "      <th>Directed by</th>\n",
       "      <th>Written by</th>\n",
       "      <th>Original air date [20]</th>\n",
       "      <th>U.S. viewers (millions)</th>\n",
       "    </tr>\n",
       "  </thead>\n",
       "  <tbody>\n",
       "    <tr>\n",
       "      <th>0</th>\n",
       "      <td>1</td>\n",
       "      <td>1</td>\n",
       "      <td>\"Winter Is Coming\"</td>\n",
       "      <td>Tim Van Patten</td>\n",
       "      <td>David Benioff &amp; D. B. Weiss</td>\n",
       "      <td>April 17, 2011</td>\n",
       "      <td>2.22[21]</td>\n",
       "    </tr>\n",
       "    <tr>\n",
       "      <th>1</th>\n",
       "      <td>2</td>\n",
       "      <td>2</td>\n",
       "      <td>\"The Kingsroad\"</td>\n",
       "      <td>Tim Van Patten</td>\n",
       "      <td>David Benioff &amp; D. B. Weiss</td>\n",
       "      <td>April 24, 2011</td>\n",
       "      <td>2.20[22]</td>\n",
       "    </tr>\n",
       "    <tr>\n",
       "      <th>2</th>\n",
       "      <td>3</td>\n",
       "      <td>3</td>\n",
       "      <td>\"Lord Snow\"</td>\n",
       "      <td>Brian Kirk</td>\n",
       "      <td>David Benioff &amp; D. B. Weiss</td>\n",
       "      <td>May 1, 2011</td>\n",
       "      <td>2.44[23]</td>\n",
       "    </tr>\n",
       "    <tr>\n",
       "      <th>3</th>\n",
       "      <td>4</td>\n",
       "      <td>4</td>\n",
       "      <td>\"Cripples, Bastards, and Broken Things\"</td>\n",
       "      <td>Brian Kirk</td>\n",
       "      <td>Bryan Cogman</td>\n",
       "      <td>May 8, 2011</td>\n",
       "      <td>2.45[24]</td>\n",
       "    </tr>\n",
       "    <tr>\n",
       "      <th>4</th>\n",
       "      <td>5</td>\n",
       "      <td>5</td>\n",
       "      <td>\"The Wolf and the Lion\"</td>\n",
       "      <td>Brian Kirk</td>\n",
       "      <td>David Benioff &amp; D. B. Weiss</td>\n",
       "      <td>May 15, 2011</td>\n",
       "      <td>2.58[25]</td>\n",
       "    </tr>\n",
       "    <tr>\n",
       "      <th>5</th>\n",
       "      <td>6</td>\n",
       "      <td>6</td>\n",
       "      <td>\"A Golden Crown\"</td>\n",
       "      <td>Daniel Minahan</td>\n",
       "      <td>Story by : David Benioff &amp; D. B. Weiss Telepla...</td>\n",
       "      <td>May 22, 2011</td>\n",
       "      <td>2.44[26]</td>\n",
       "    </tr>\n",
       "    <tr>\n",
       "      <th>6</th>\n",
       "      <td>7</td>\n",
       "      <td>7</td>\n",
       "      <td>\"You Win or You Die\"</td>\n",
       "      <td>Daniel Minahan</td>\n",
       "      <td>David Benioff &amp; D. B. Weiss</td>\n",
       "      <td>May 29, 2011</td>\n",
       "      <td>2.40[27]</td>\n",
       "    </tr>\n",
       "    <tr>\n",
       "      <th>7</th>\n",
       "      <td>8</td>\n",
       "      <td>8</td>\n",
       "      <td>\"The Pointy End\"</td>\n",
       "      <td>Daniel Minahan</td>\n",
       "      <td>George R. R. Martin</td>\n",
       "      <td>June 5, 2011</td>\n",
       "      <td>2.72[28]</td>\n",
       "    </tr>\n",
       "    <tr>\n",
       "      <th>8</th>\n",
       "      <td>9</td>\n",
       "      <td>9</td>\n",
       "      <td>\"Baelor\"</td>\n",
       "      <td>Alan Taylor</td>\n",
       "      <td>David Benioff &amp; D. B. Weiss</td>\n",
       "      <td>June 12, 2011</td>\n",
       "      <td>2.66[29]</td>\n",
       "    </tr>\n",
       "    <tr>\n",
       "      <th>9</th>\n",
       "      <td>10</td>\n",
       "      <td>10</td>\n",
       "      <td>\"Fire and Blood\"</td>\n",
       "      <td>Alan Taylor</td>\n",
       "      <td>David Benioff &amp; D. B. Weiss</td>\n",
       "      <td>June 19, 2011</td>\n",
       "      <td>3.04[30]</td>\n",
       "    </tr>\n",
       "  </tbody>\n",
       "</table>\n",
       "</div>"
      ],
      "text/plain": [
       "   No. overall  No. in season                                    Title  \\\n",
       "0            1              1                       \"Winter Is Coming\"   \n",
       "1            2              2                          \"The Kingsroad\"   \n",
       "2            3              3                              \"Lord Snow\"   \n",
       "3            4              4  \"Cripples, Bastards, and Broken Things\"   \n",
       "4            5              5                  \"The Wolf and the Lion\"   \n",
       "5            6              6                         \"A Golden Crown\"   \n",
       "6            7              7                     \"You Win or You Die\"   \n",
       "7            8              8                         \"The Pointy End\"   \n",
       "8            9              9                                 \"Baelor\"   \n",
       "9           10             10                         \"Fire and Blood\"   \n",
       "\n",
       "      Directed by                                         Written by  \\\n",
       "0  Tim Van Patten                        David Benioff & D. B. Weiss   \n",
       "1  Tim Van Patten                        David Benioff & D. B. Weiss   \n",
       "2      Brian Kirk                        David Benioff & D. B. Weiss   \n",
       "3      Brian Kirk                                       Bryan Cogman   \n",
       "4      Brian Kirk                        David Benioff & D. B. Weiss   \n",
       "5  Daniel Minahan  Story by : David Benioff & D. B. Weiss Telepla...   \n",
       "6  Daniel Minahan                        David Benioff & D. B. Weiss   \n",
       "7  Daniel Minahan                                George R. R. Martin   \n",
       "8     Alan Taylor                        David Benioff & D. B. Weiss   \n",
       "9     Alan Taylor                        David Benioff & D. B. Weiss   \n",
       "\n",
       "  Original air date [20] U.S. viewers (millions)  \n",
       "0         April 17, 2011                2.22[21]  \n",
       "1         April 24, 2011                2.20[22]  \n",
       "2            May 1, 2011                2.44[23]  \n",
       "3            May 8, 2011                2.45[24]  \n",
       "4           May 15, 2011                2.58[25]  \n",
       "5           May 22, 2011                2.44[26]  \n",
       "6           May 29, 2011                2.40[27]  \n",
       "7           June 5, 2011                2.72[28]  \n",
       "8          June 12, 2011                2.66[29]  \n",
       "9          June 19, 2011                3.04[30]  "
      ]
     },
     "execution_count": 3,
     "metadata": {},
     "output_type": "execute_result"
    }
   ],
   "source": [
    "GOT[1]"
   ]
  },
  {
   "cell_type": "markdown",
   "id": "f03a24c6",
   "metadata": {},
   "source": [
    "### Game of Thrones Season 8  Data Table.\n",
    "The exact same data is shown in the visual directly below but for season 8. This is beneficial since it enables the data to be examined independently, allowing for the drawing of more insightful conclusions."
   ]
  },
  {
   "cell_type": "code",
   "execution_count": 4,
   "id": "1198b121",
   "metadata": {
    "scrolled": true
   },
   "outputs": [
    {
     "data": {
      "text/html": [
       "<div>\n",
       "<style scoped>\n",
       "    .dataframe tbody tr th:only-of-type {\n",
       "        vertical-align: middle;\n",
       "    }\n",
       "\n",
       "    .dataframe tbody tr th {\n",
       "        vertical-align: top;\n",
       "    }\n",
       "\n",
       "    .dataframe thead th {\n",
       "        text-align: right;\n",
       "    }\n",
       "</style>\n",
       "<table border=\"1\" class=\"dataframe\">\n",
       "  <thead>\n",
       "    <tr style=\"text-align: right;\">\n",
       "      <th></th>\n",
       "      <th>No. overall</th>\n",
       "      <th>No. in season</th>\n",
       "      <th>Title</th>\n",
       "      <th>Directed by</th>\n",
       "      <th>Written by</th>\n",
       "      <th>Original air date [20]</th>\n",
       "      <th>U.S. viewers (millions)</th>\n",
       "    </tr>\n",
       "  </thead>\n",
       "  <tbody>\n",
       "    <tr>\n",
       "      <th>0</th>\n",
       "      <td>68</td>\n",
       "      <td>1</td>\n",
       "      <td>\"Winterfell\"</td>\n",
       "      <td>David Nutter</td>\n",
       "      <td>Dave Hill</td>\n",
       "      <td>April 14, 2019</td>\n",
       "      <td>11.76[88]</td>\n",
       "    </tr>\n",
       "    <tr>\n",
       "      <th>1</th>\n",
       "      <td>69</td>\n",
       "      <td>2</td>\n",
       "      <td>\"A Knight of the Seven Kingdoms\"</td>\n",
       "      <td>David Nutter</td>\n",
       "      <td>Bryan Cogman</td>\n",
       "      <td>April 21, 2019</td>\n",
       "      <td>10.29[89]</td>\n",
       "    </tr>\n",
       "    <tr>\n",
       "      <th>2</th>\n",
       "      <td>70</td>\n",
       "      <td>3</td>\n",
       "      <td>\"The Long Night\"</td>\n",
       "      <td>Miguel Sapochnik</td>\n",
       "      <td>David Benioff &amp; D. B. Weiss</td>\n",
       "      <td>April 28, 2019</td>\n",
       "      <td>12.02[90]</td>\n",
       "    </tr>\n",
       "    <tr>\n",
       "      <th>3</th>\n",
       "      <td>71</td>\n",
       "      <td>4</td>\n",
       "      <td>\"The Last of the Starks\"</td>\n",
       "      <td>David Nutter</td>\n",
       "      <td>David Benioff &amp; D. B. Weiss</td>\n",
       "      <td>May 5, 2019</td>\n",
       "      <td>11.80[91]</td>\n",
       "    </tr>\n",
       "    <tr>\n",
       "      <th>4</th>\n",
       "      <td>72</td>\n",
       "      <td>5</td>\n",
       "      <td>\"The Bells\"</td>\n",
       "      <td>Miguel Sapochnik</td>\n",
       "      <td>David Benioff &amp; D. B. Weiss</td>\n",
       "      <td>May 12, 2019</td>\n",
       "      <td>12.48[92]</td>\n",
       "    </tr>\n",
       "    <tr>\n",
       "      <th>5</th>\n",
       "      <td>73</td>\n",
       "      <td>6</td>\n",
       "      <td>\"The Iron Throne\"</td>\n",
       "      <td>David Benioff &amp; D. B. Weiss</td>\n",
       "      <td>David Benioff &amp; D. B. Weiss</td>\n",
       "      <td>May 19, 2019</td>\n",
       "      <td>13.61[93]</td>\n",
       "    </tr>\n",
       "  </tbody>\n",
       "</table>\n",
       "</div>"
      ],
      "text/plain": [
       "   No. overall  No. in season                             Title  \\\n",
       "0           68              1                      \"Winterfell\"   \n",
       "1           69              2  \"A Knight of the Seven Kingdoms\"   \n",
       "2           70              3                  \"The Long Night\"   \n",
       "3           71              4          \"The Last of the Starks\"   \n",
       "4           72              5                       \"The Bells\"   \n",
       "5           73              6                 \"The Iron Throne\"   \n",
       "\n",
       "                   Directed by                   Written by  \\\n",
       "0                 David Nutter                    Dave Hill   \n",
       "1                 David Nutter                 Bryan Cogman   \n",
       "2             Miguel Sapochnik  David Benioff & D. B. Weiss   \n",
       "3                 David Nutter  David Benioff & D. B. Weiss   \n",
       "4             Miguel Sapochnik  David Benioff & D. B. Weiss   \n",
       "5  David Benioff & D. B. Weiss  David Benioff & D. B. Weiss   \n",
       "\n",
       "  Original air date [20] U.S. viewers (millions)  \n",
       "0         April 14, 2019               11.76[88]  \n",
       "1         April 21, 2019               10.29[89]  \n",
       "2         April 28, 2019               12.02[90]  \n",
       "3            May 5, 2019               11.80[91]  \n",
       "4           May 12, 2019               12.48[92]  \n",
       "5           May 19, 2019               13.61[93]  "
      ]
     },
     "execution_count": 4,
     "metadata": {},
     "output_type": "execute_result"
    }
   ],
   "source": [
    "GOT[8]"
   ]
  },
  {
   "cell_type": "markdown",
   "id": "d8bac741",
   "metadata": {},
   "source": [
    "### Game of Thrones Number of Death Data Table.\n",
    "Another important piece of data is this chart, which shows us the number of deaths from the very first season to the very last season. This enables us to observe the shifts that have taken place throughout the course of the series or which seasons were particularly graphic. For me to be able to compare the data and make visuals, this chart is essential."
   ]
  },
  {
   "cell_type": "code",
   "execution_count": 5,
   "id": "ad6f2d2b",
   "metadata": {},
   "outputs": [
    {
     "data": {
      "text/html": [
       "<div>\n",
       "<style scoped>\n",
       "    .dataframe tbody tr th:only-of-type {\n",
       "        vertical-align: middle;\n",
       "    }\n",
       "\n",
       "    .dataframe tbody tr th {\n",
       "        vertical-align: top;\n",
       "    }\n",
       "\n",
       "    .dataframe thead th {\n",
       "        text-align: right;\n",
       "    }\n",
       "</style>\n",
       "<table border=\"1\" class=\"dataframe\">\n",
       "  <thead>\n",
       "    <tr style=\"text-align: right;\">\n",
       "      <th></th>\n",
       "      <th>Characteristic</th>\n",
       "      <th>Number of deaths</th>\n",
       "    </tr>\n",
       "  </thead>\n",
       "  <tbody>\n",
       "    <tr>\n",
       "      <th>0</th>\n",
       "      <td>Season 1</td>\n",
       "      <td>59</td>\n",
       "    </tr>\n",
       "    <tr>\n",
       "      <th>1</th>\n",
       "      <td>Season 2</td>\n",
       "      <td>130</td>\n",
       "    </tr>\n",
       "    <tr>\n",
       "      <th>2</th>\n",
       "      <td>Season 3</td>\n",
       "      <td>87</td>\n",
       "    </tr>\n",
       "    <tr>\n",
       "      <th>3</th>\n",
       "      <td>Season 4</td>\n",
       "      <td>182</td>\n",
       "    </tr>\n",
       "    <tr>\n",
       "      <th>4</th>\n",
       "      <td>Season 5</td>\n",
       "      <td>246</td>\n",
       "    </tr>\n",
       "    <tr>\n",
       "      <th>5</th>\n",
       "      <td>Season 6</td>\n",
       "      <td>540</td>\n",
       "    </tr>\n",
       "    <tr>\n",
       "      <th>6</th>\n",
       "      <td>Season 7</td>\n",
       "      <td>1096</td>\n",
       "    </tr>\n",
       "    <tr>\n",
       "      <th>7</th>\n",
       "      <td>Season 8</td>\n",
       "      <td>3523</td>\n",
       "    </tr>\n",
       "  </tbody>\n",
       "</table>\n",
       "</div>"
      ],
      "text/plain": [
       "  Characteristic  Number of deaths\n",
       "0       Season 1                59\n",
       "1       Season 2               130\n",
       "2       Season 3                87\n",
       "3       Season 4               182\n",
       "4       Season 5               246\n",
       "5       Season 6               540\n",
       "6       Season 7              1096\n",
       "7       Season 8              3523"
      ]
     },
     "execution_count": 5,
     "metadata": {},
     "output_type": "execute_result"
    }
   ],
   "source": [
    "GOT_Deaths = pd.read_html('https://www.statista.com/statistics/420077/game-of-thrones-deadliest-seasons/')\n",
    "GOT_Deaths[0]"
   ]
  },
  {
   "cell_type": "code",
   "execution_count": 6,
   "id": "9f6fe07a",
   "metadata": {},
   "outputs": [],
   "source": [
    "for i in GOT[1:9]:\n",
    "    i['U.S. viewers (millions)'] = [float(x[0:-4]) for x in i['U.S. viewers (millions)']]"
   ]
  },
  {
   "cell_type": "markdown",
   "id": "326747d4",
   "metadata": {},
   "source": [
    "### Season 1  Number of Viewer Statistic Chart.\n",
    "I only included the most crucial data—the quantity of viewers in the United States, for example—in the first graphic to make it easier to comprehend. Additionally, remember that views are recording as millions. The show did reasonably well after being televised, considering these are the first season's numbers. Across the board, the viewership statistics remain consistent. The views during the season varied from 2.2 million, which was their lowest, to 3 million, which was their highest. "
   ]
  },
  {
   "cell_type": "code",
   "execution_count": 7,
   "id": "f4024545",
   "metadata": {},
   "outputs": [
    {
     "data": {
      "image/png": "[encoded data removed]",
      "text/plain": [
       "<Figure size 640x480 with 1 Axes>"
      ]
     },
     "metadata": {},
     "output_type": "display_data"
    }
   ],
   "source": [
    "fig1, ax1 = plt.subplots()\n",
    "ax1.hist(GOT[1]['U.S. viewers (millions)'])\n",
    "\n",
    "plt.show()"
   ]
  },
  {
   "cell_type": "markdown",
   "id": "fa5eeab6",
   "metadata": {},
   "source": [
    "### Season 8 Number of Viewer Statistic Chart.\n",
    "The following chart displays the quantity of views each episode received throughout the season's finale. Compared to season 1, the number of viewers increased significantly in season 8. After the first season of the show was released, the ratings skyrocketed due to its increased popularity. Viewership for this season was quite constant, ranging from 12 to 12.5 million. They had about 10.5 million viewers for their least popular episode. After that, the final episode had approximately 13.5 million views, marking the highest viewing total for the entire series. "
   ]
  },
  {
   "cell_type": "code",
   "execution_count": 8,
   "id": "821ee223",
   "metadata": {},
   "outputs": [
    {
     "data": {
      "text/plain": [
       "(array([1., 0., 0., 0., 2., 1., 1., 0., 0., 1.]),\n",
       " array([10.29 , 10.622, 10.954, 11.286, 11.618, 11.95 , 12.282, 12.614,\n",
       "        12.946, 13.278, 13.61 ]),\n",
       " <BarContainer object of 10 artists>)"
      ]
     },
     "execution_count": 8,
     "metadata": {},
     "output_type": "execute_result"
    },
    {
     "data": {
      "image/png": "[encoded data removed]",
      "text/plain": [
       "<Figure size 640x480 with 1 Axes>"
      ]
     },
     "metadata": {},
     "output_type": "display_data"
    }
   ],
   "source": [
    "fig2, ax2 = plt.subplots()\n",
    "ax2.hist(GOT[8]['U.S. viewers (millions)'])"
   ]
  },
  {
   "cell_type": "markdown",
   "id": "774d9ed9",
   "metadata": {},
   "source": [
    "### Number of Deaths Statistic Chart.\n",
    "Last but not least, this figure illustrates the data regarding the total number of deaths over the course of eight seasons. Understanding the number of deaths in each season on this graphic is more challenging. I'm able to infer that there weren't many deaths over earlier seasons—between zero and four hundred. The death rates then started to rise as we moved into the middle and later seasons. A thousand or more deaths were reported in certain seasons. The final season is represented by the last column, with a total of about 3,500 deaths happened over the course of six episodes. "
   ]
  },
  {
   "cell_type": "code",
   "execution_count": 9,
   "id": "38a12cf9",
   "metadata": {},
   "outputs": [
    {
     "data": {
      "text/plain": [
       "(array([5., 1., 1., 0., 0., 0., 0., 0., 0., 1.]),\n",
       " array([  59. ,  405.4,  751.8, 1098.2, 1444.6, 1791. , 2137.4, 2483.8,\n",
       "        2830.2, 3176.6, 3523. ]),\n",
       " <BarContainer object of 10 artists>)"
      ]
     },
     "execution_count": 9,
     "metadata": {},
     "output_type": "execute_result"
    },
    {
     "data": {
      "image/png": "[encoded data removed]",
      "text/plain": [
       "<Figure size 640x480 with 1 Axes>"
      ]
     },
     "metadata": {},
     "output_type": "display_data"
    }
   ],
   "source": [
    "fig3, ax3 = plt.subplots()\n",
    "ax3.hist(GOT_Deaths[0]['Number of deaths'])"
   ]
  },
  {
   "cell_type": "code",
   "execution_count": 10,
   "id": "e20bb100",
   "metadata": {},
   "outputs": [],
   "source": [
    "GOT_Bar = GOT_Deaths[0].groupby('Characteristic').sum()['Number of deaths']\n",
    "#GOT_Bar"
   ]
  },
  {
   "cell_type": "code",
   "execution_count": 11,
   "id": "075c1bb3",
   "metadata": {},
   "outputs": [],
   "source": [
    "#GOT_Bar.values"
   ]
  },
  {
   "cell_type": "code",
   "execution_count": 12,
   "id": "bc654852",
   "metadata": {},
   "outputs": [],
   "source": [
    "#GOT_Bar.index"
   ]
  },
  {
   "cell_type": "code",
   "execution_count": 13,
   "id": "f1cc352b",
   "metadata": {},
   "outputs": [],
   "source": [
    "#GOT_Bar.sort_values()"
   ]
  },
  {
   "cell_type": "code",
   "execution_count": 14,
   "id": "5f04a5f2",
   "metadata": {},
   "outputs": [],
   "source": [
    "GOT_Bar1 = GOT[1].groupby('No. in season').sum()['U.S. viewers (millions)']\n",
    "#GOT_Bar1"
   ]
  },
  {
   "cell_type": "code",
   "execution_count": 15,
   "id": "959b21c2",
   "metadata": {},
   "outputs": [],
   "source": [
    "#GOT_Bar1.values"
   ]
  },
  {
   "cell_type": "code",
   "execution_count": 16,
   "id": "1b940feb",
   "metadata": {},
   "outputs": [],
   "source": [
    "#GOT_Bar1.index"
   ]
  },
  {
   "cell_type": "code",
   "execution_count": 17,
   "id": "736f5fc5",
   "metadata": {},
   "outputs": [],
   "source": [
    "#GOT_Bar1.sort_values()"
   ]
  },
  {
   "cell_type": "code",
   "execution_count": 18,
   "id": "ddee0650",
   "metadata": {},
   "outputs": [],
   "source": [
    "GOT_Bar2 = GOT[8].groupby('No. in season').sum()['U.S. viewers (millions)']\n",
    "#GOT_Bar2"
   ]
  },
  {
   "cell_type": "code",
   "execution_count": 19,
   "id": "a38132d7",
   "metadata": {},
   "outputs": [],
   "source": [
    "#GOT_Bar2.values"
   ]
  },
  {
   "cell_type": "code",
   "execution_count": 20,
   "id": "ff786ef7",
   "metadata": {},
   "outputs": [],
   "source": [
    "#GOT_Bar2.index"
   ]
  },
  {
   "cell_type": "code",
   "execution_count": 21,
   "id": "31c41e0f",
   "metadata": {
    "scrolled": true
   },
   "outputs": [],
   "source": [
    "#GOT_Bar2.sort_values()"
   ]
  },
  {
   "cell_type": "markdown",
   "id": "10387252",
   "metadata": {},
   "source": [
    "### Comparing the Number of Views vs the Number of Deaths.\n",
    "I'll be comparing all three charts side by side for my final graph. Every graph has additional information and is labeled according to its specific meaning. For example, the graph on the left shows how many views each episode received throughout the first season. The data for every episode in season eight is displayed in the middle graph. A more accurate visual representation of the number of deaths that happened in each season can be seen in the last graph on the right. Drawing comparisons and contrasts between the data is much easier when all of these images are viewed simultaneously."
   ]
  },
  {
   "cell_type": "code",
   "execution_count": 22,
   "id": "9452a5ed",
   "metadata": {
    "scrolled": true
   },
   "outputs": [
    {
     "data": {
      "image/png": "[encoded data removed]",
      "text/plain": [
       "<Figure size 1800x500 with 3 Axes>"
      ]
     },
     "metadata": {},
     "output_type": "display_data"
    }
   ],
   "source": [
    "fig6, ax6 = plt.subplots(1,3, figsize = (18,5))\n",
    "ax6[0].bar(x = [1,2,3,4,5,6,7,8,9,10], height = GOT_Bar1.sort_values(ascending = True).values)\n",
    "ax6[1].bar(x = [1,2,3,4,5,6], height = GOT_Bar2.sort_values(ascending = True).values)\n",
    "ax6[2].bar(x = [1,2,3,4,5,6,7,8], height = GOT_Bar.sort_values(ascending = True).values)\n",
    "\n",
    "ax6[0].set_xlabel('Episode Number')\n",
    "ax6[0].set_ylabel('U.S. viewers (millions)')\n",
    "ax6[0].set_title('Number of Views Season 1 has per Episode')\n",
    "\n",
    "ax6[1].set_xlabel('Episode Number')\n",
    "ax6[1].set_ylabel('U.S. viewers (millions)')\n",
    "ax6[1].set_title('Number of Views season 8 has per Episode')\n",
    "\n",
    "ax6[2].set_xlabel('Number of Seasons')\n",
    "ax6[2].set_ylabel('Number of Deaths')\n",
    "ax6[2].set_title('Number of Deaths that occurred\\n in the 8 seasons of Game of Thrones ')\n",
    "\n",
    "\n",
    "plt.show()"
   ]
  },
  {
   "cell_type": "markdown",
   "id": "5ace624d",
   "metadata": {},
   "source": [
    "Upon conducting a thorough analysis and examination of all the data I have gathered, I can confirm that the quantity of fatalities that occur within a season has no bearing on the total number of views in the \"Game of Thrones\" series. According to the data, season 1 had the lowest death rate of all the seasons. While season 1's viewership was consistent. This makes sense because, since it was the first season of the show, they didn't want to give away any major plot points right away. It's also reasonable that the first season had the lowest mortality rates since that's when you get to know everyone and their reasons for being on the show. Looking at the last season now, it had both the most views and the greatest fatality rates. As a result, as the show gained popularity, many more significant events happened in which a significant number of individuals were killed off, probably to simulate the show's finale. That being said, there is some leeway for interpretation because the data doesn't clearly indicate the exact times of particular or favorite characters' deaths. More precisely, it merely tracks all the deaths that happen\n",
    "\n",
    "For additional research into this theory, I would gather information about the most well-liked characters and check to see whether any of them pass away during the series. I would then determine which season and which episode those characters died in, and I would visualize each episode using more graphs as opposed to the entire season. Then, using the previous two graphs above as a guide, I could compare those death character episode graphs to the number of views that particular season and episode received."
   ]
  }
 ],
 "metadata": {
  "kernelspec": {
   "display_name": "Python 3 (ipykernel)",
   "language": "python",
   "name": "python3"
  },
  "language_info": {
   "codemirror_mode": {
    "name": "ipython",
    "version": 3
   },
   "file_extension": ".py",
   "mimetype": "text/x-python",
   "name": "python",
   "nbconvert_exporter": "python",
   "pygments_lexer": "ipython3",
   "version": "3.11.4"
  }
 },
 "nbformat": 4,
 "nbformat_minor": 5
}
