{
 "cells": [
  {
   "cell_type": "markdown",
   "id": "21c4b3d7",
   "metadata": {},
   "source": [
    "# Header 1"
   ]
  },
  {
   "cell_type": "markdown",
   "id": "b7fdd4d4",
   "metadata": {},
   "source": [
    "header 2"
   ]
  },
  {
   "cell_type": "markdown",
   "id": "a7927246",
   "metadata": {},
   "source": [
    "I hope to enhance my technical skills and learn new things."
   ]
  }
 ],
 "metadata": {
  "kernelspec": {
   "display_name": "Python 3 (ipykernel)",
   "language": "python",
   "name": "python3"
  },
  "language_info": {
   "codemirror_mode": {
    "name": "ipython",
    "version": 3
   },
   "file_extension": ".py",
   "mimetype": "text/x-python",
   "name": "python",
   "nbconvert_exporter": "python",
   "pygments_lexer": "ipython3",
   "version": "3.11.4"
  }
 },
 "nbformat": 4,
 "nbformat_minor": 5
}
