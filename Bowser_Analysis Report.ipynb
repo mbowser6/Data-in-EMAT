{
 "cells": [
  {
   "cell_type": "markdown",
   "id": "bd4e6991",
   "metadata": {},
   "source": [
    "Miranda Bowser\n",
    "\n",
    "11/21/23\n",
    "\n",
    "Dr. Silva\n",
    "\n",
    "Analysis Report"
   ]
  },
  {
   "cell_type": "markdown",
   "id": "ca41a036",
   "metadata": {},
   "source": [
    "In this assignment I will be pulling and comparing data from the streaming platform Spotify. With Spotify, you can enjoy and access millions of songs and other works from artists/creators all around the world. Spotify is a digital music, podcast, and video service. \n",
    "In order to complete this report, I decided to pull two of my favorite Spotify albums. The first one is by Drake called \"Certified Lover Boy.\" It's more rap and hip-hop; definitely the type of music I listen to when I'm hanging with friends or throwing a party. The second album I'm using is called \"Footprints I Found\" by David Kushner. He isn't a well known artist but he makes great music. Kushner makes chill, mellow pop music. I listen to him more on a day to day basis. I decided to use these two albums for this analysis out of curiosity as to what similarities I could find with the two albums being from completely different genres."
   ]
  },
  {
   "cell_type": "code",
   "execution_count": 1,
   "id": "5499f855",
   "metadata": {},
   "outputs": [
    {
     "name": "stdout",
     "output_type": "stream",
     "text": [
      "Intel MKL WARNING: Support of Intel(R) Streaming SIMD Extensions 4.2 (Intel(R) SSE4.2) enabled only processors has been deprecated. Intel oneAPI Math Kernel Library 2025.0 will require Intel(R) Advanced Vector Extensions (Intel(R) AVX) instructions.\n",
      "Intel MKL WARNING: Support of Intel(R) Streaming SIMD Extensions 4.2 (Intel(R) SSE4.2) enabled only processors has been deprecated. Intel oneAPI Math Kernel Library 2025.0 will require Intel(R) Advanced Vector Extensions (Intel(R) AVX) instructions.\n"
     ]
    }
   ],
   "source": [
    "import requests \n",
    "import pandas as pd \n",
    "import base64\n",
    "import json\n",
    "import urllib\n",
    "import numpy as np\n",
    "from scipy import stats\n",
    "from matplotlib import pyplot as plt"
   ]
  },
  {
   "cell_type": "code",
   "execution_count": 2,
   "id": "51b852eb",
   "metadata": {},
   "outputs": [],
   "source": [
    "Client_ID = pd.read_csv('Spotify_Keys_9-19-23.txt')['Client_ID'].iloc[0] "
   ]
  },
  {
   "cell_type": "code",
   "execution_count": 3,
   "id": "a5e18ab2",
   "metadata": {},
   "outputs": [],
   "source": [
    "#Client_ID"
   ]
  },
  {
   "cell_type": "code",
   "execution_count": 4,
   "id": "23443f9e",
   "metadata": {},
   "outputs": [],
   "source": [
    "Client_Secret = pd.read_csv('Spotify_Keys_9-19-23.txt')['Client_Secret'].iloc[0]"
   ]
  },
  {
   "cell_type": "code",
   "execution_count": 5,
   "id": "eb6cab1e",
   "metadata": {},
   "outputs": [],
   "source": [
    "#Client_Secret"
   ]
  },
  {
   "cell_type": "code",
   "execution_count": 6,
   "id": "fb4a4baf",
   "metadata": {},
   "outputs": [],
   "source": [
    "client_cred = base64.b64encode(str(Client_ID + \":\" + Client_Secret).encode(\"ascii\"))"
   ]
  },
  {
   "cell_type": "code",
   "execution_count": 7,
   "id": "98448a54",
   "metadata": {},
   "outputs": [],
   "source": [
    "#client_cred"
   ]
  },
  {
   "cell_type": "code",
   "execution_count": 8,
   "id": "34ff5baf",
   "metadata": {},
   "outputs": [],
   "source": [
    "headers = {\"Authorization\": \"Basic {}\".format(client_cred.decode(\"ascii\"))}"
   ]
  },
  {
   "cell_type": "code",
   "execution_count": 9,
   "id": "55fd8b42",
   "metadata": {},
   "outputs": [],
   "source": [
    "#headers"
   ]
  },
  {
   "cell_type": "code",
   "execution_count": 10,
   "id": "1d59923d",
   "metadata": {},
   "outputs": [],
   "source": [
    "payload = {'grant_type' : 'client_credentials'}\n",
    "url = 'https://accounts.spotify.com/api/token'"
   ]
  },
  {
   "cell_type": "code",
   "execution_count": 11,
   "id": "f58f6348",
   "metadata": {},
   "outputs": [],
   "source": [
    "session_key_response = requests.post(url = url, data = payload, headers = headers)"
   ]
  },
  {
   "cell_type": "code",
   "execution_count": 12,
   "id": "de1b8ba8",
   "metadata": {},
   "outputs": [
    {
     "data": {
      "text/plain": [
       "200"
      ]
     },
     "execution_count": 12,
     "metadata": {},
     "output_type": "execute_result"
    }
   ],
   "source": [
    "session_key_response.status_code"
   ]
  },
  {
   "cell_type": "code",
   "execution_count": 13,
   "id": "b47b40f1",
   "metadata": {},
   "outputs": [],
   "source": [
    "#session_key_response.json()['access_token']"
   ]
  },
  {
   "cell_type": "code",
   "execution_count": 14,
   "id": "a37f34f8",
   "metadata": {},
   "outputs": [],
   "source": [
    "session_headers = {\"Authorization\": \"Bearer {}\".format(session_key_response.json()['access_token'])}"
   ]
  },
  {
   "cell_type": "code",
   "execution_count": 15,
   "id": "ebb77119",
   "metadata": {},
   "outputs": [],
   "source": [
    "#session_headers"
   ]
  },
  {
   "cell_type": "markdown",
   "id": "f0bc8ccc",
   "metadata": {},
   "source": [
    "This is where I pulled all of the data for Drakes album to use for this report."
   ]
  },
  {
   "cell_type": "code",
   "execution_count": 16,
   "id": "29eee647",
   "metadata": {},
   "outputs": [],
   "source": [
    "Drake_album = '3SpBlxme9WbeQdI9kx7KAV'"
   ]
  },
  {
   "cell_type": "code",
   "execution_count": 17,
   "id": "086d9c41",
   "metadata": {},
   "outputs": [],
   "source": [
    "album_url = 'https://api.spotify.com/v1/albums/{}/tracks'.format(Drake_album)"
   ]
  },
  {
   "cell_type": "code",
   "execution_count": 18,
   "id": "69acb47e",
   "metadata": {},
   "outputs": [],
   "source": [
    "response = requests.get(url = album_url, headers = session_headers)"
   ]
  },
  {
   "cell_type": "code",
   "execution_count": 19,
   "id": "7a0128a5",
   "metadata": {},
   "outputs": [
    {
     "data": {
      "text/plain": [
       "[{'external_urls': {'spotify': 'https://open.spotify.com/artist/3TVXtAsR1Inumwj472S9r4'},\n",
       "  'href': 'https://api.spotify.com/v1/artists/3TVXtAsR1Inumwj472S9r4',\n",
       "  'id': '3TVXtAsR1Inumwj472S9r4',\n",
       "  'name': 'Drake',\n",
       "  'type': 'artist',\n",
       "  'uri': 'spotify:artist:3TVXtAsR1Inumwj472S9r4'}]"
      ]
     },
     "execution_count": 19,
     "metadata": {},
     "output_type": "execute_result"
    }
   ],
   "source": [
    "data = json.loads(response.text)\n",
    "data['items'][0]['artists']"
   ]
  },
  {
   "cell_type": "code",
   "execution_count": 20,
   "id": "1f789637",
   "metadata": {},
   "outputs": [
    {
     "data": {
      "text/html": [
       "<div>\n",
       "<style scoped>\n",
       "    .dataframe tbody tr th:only-of-type {\n",
       "        vertical-align: middle;\n",
       "    }\n",
       "\n",
       "    .dataframe tbody tr th {\n",
       "        vertical-align: top;\n",
       "    }\n",
       "\n",
       "    .dataframe thead th {\n",
       "        text-align: right;\n",
       "    }\n",
       "</style>\n",
       "<table border=\"1\" class=\"dataframe\">\n",
       "  <thead>\n",
       "    <tr style=\"text-align: right;\">\n",
       "      <th></th>\n",
       "      <th>artists</th>\n",
       "      <th>available_markets</th>\n",
       "      <th>disc_number</th>\n",
       "      <th>duration_ms</th>\n",
       "      <th>explicit</th>\n",
       "      <th>external_urls</th>\n",
       "      <th>href</th>\n",
       "      <th>id</th>\n",
       "      <th>is_local</th>\n",
       "      <th>name</th>\n",
       "      <th>preview_url</th>\n",
       "      <th>track_number</th>\n",
       "      <th>type</th>\n",
       "      <th>uri</th>\n",
       "    </tr>\n",
       "  </thead>\n",
       "  <tbody>\n",
       "    <tr>\n",
       "      <th>0</th>\n",
       "      <td>[{'external_urls': {'spotify': 'https://open.s...</td>\n",
       "      <td>[AR, AU, AT, BE, BO, BR, BG, CA, CL, CO, CR, C...</td>\n",
       "      <td>1</td>\n",
       "      <td>336511</td>\n",
       "      <td>True</td>\n",
       "      <td>{'spotify': 'https://open.spotify.com/track/2H...</td>\n",
       "      <td>https://api.spotify.com/v1/tracks/2HSmyk2qMN8W...</td>\n",
       "      <td>2HSmyk2qMN8WQjuGhaQgCk</td>\n",
       "      <td>False</td>\n",
       "      <td>Champagne Poetry</td>\n",
       "      <td>None</td>\n",
       "      <td>1</td>\n",
       "      <td>track</td>\n",
       "      <td>spotify:track:2HSmyk2qMN8WQjuGhaQgCk</td>\n",
       "    </tr>\n",
       "    <tr>\n",
       "      <th>1</th>\n",
       "      <td>[{'external_urls': {'spotify': 'https://open.s...</td>\n",
       "      <td>[AR, AU, AT, BE, BO, BR, BG, CA, CL, CO, CR, C...</td>\n",
       "      <td>1</td>\n",
       "      <td>178623</td>\n",
       "      <td>True</td>\n",
       "      <td>{'spotify': 'https://open.spotify.com/track/6j...</td>\n",
       "      <td>https://api.spotify.com/v1/tracks/6jy9yJfgCsMH...</td>\n",
       "      <td>6jy9yJfgCsMHdu2Oz4BGKX</td>\n",
       "      <td>False</td>\n",
       "      <td>Papi’s Home</td>\n",
       "      <td>None</td>\n",
       "      <td>2</td>\n",
       "      <td>track</td>\n",
       "      <td>spotify:track:6jy9yJfgCsMHdu2Oz4BGKX</td>\n",
       "    </tr>\n",
       "    <tr>\n",
       "      <th>2</th>\n",
       "      <td>[{'external_urls': {'spotify': 'https://open.s...</td>\n",
       "      <td>[AR, AU, AT, BE, BO, BR, BG, CA, CL, CO, CR, C...</td>\n",
       "      <td>1</td>\n",
       "      <td>221979</td>\n",
       "      <td>True</td>\n",
       "      <td>{'spotify': 'https://open.spotify.com/track/37...</td>\n",
       "      <td>https://api.spotify.com/v1/tracks/37Nqx7iavZpo...</td>\n",
       "      <td>37Nqx7iavZpotJSDXZWbJ3</td>\n",
       "      <td>False</td>\n",
       "      <td>Girls Want Girls (with Lil Baby)</td>\n",
       "      <td>None</td>\n",
       "      <td>3</td>\n",
       "      <td>track</td>\n",
       "      <td>spotify:track:37Nqx7iavZpotJSDXZWbJ3</td>\n",
       "    </tr>\n",
       "    <tr>\n",
       "      <th>3</th>\n",
       "      <td>[{'external_urls': {'spotify': 'https://open.s...</td>\n",
       "      <td>[AR, AU, AT, BE, BO, BR, BG, CA, CL, CO, CR, C...</td>\n",
       "      <td>1</td>\n",
       "      <td>296568</td>\n",
       "      <td>True</td>\n",
       "      <td>{'spotify': 'https://open.spotify.com/track/61...</td>\n",
       "      <td>https://api.spotify.com/v1/tracks/61S79KIVA4I9...</td>\n",
       "      <td>61S79KIVA4I9FXbnsylEHT</td>\n",
       "      <td>False</td>\n",
       "      <td>In The Bible (with Lil Durk &amp; Giveon)</td>\n",
       "      <td>None</td>\n",
       "      <td>4</td>\n",
       "      <td>track</td>\n",
       "      <td>spotify:track:61S79KIVA4I9FXbnsylEHT</td>\n",
       "    </tr>\n",
       "    <tr>\n",
       "      <th>4</th>\n",
       "      <td>[{'external_urls': {'spotify': 'https://open.s...</td>\n",
       "      <td>[AR, AU, AT, BE, BO, BR, BG, CA, CL, CO, CR, C...</td>\n",
       "      <td>1</td>\n",
       "      <td>228461</td>\n",
       "      <td>True</td>\n",
       "      <td>{'spotify': 'https://open.spotify.com/track/4V...</td>\n",
       "      <td>https://api.spotify.com/v1/tracks/4VCbgIdr8pte...</td>\n",
       "      <td>4VCbgIdr8ptegWeJpqLVHH</td>\n",
       "      <td>False</td>\n",
       "      <td>Love All (with JAY-Z)</td>\n",
       "      <td>None</td>\n",
       "      <td>5</td>\n",
       "      <td>track</td>\n",
       "      <td>spotify:track:4VCbgIdr8ptegWeJpqLVHH</td>\n",
       "    </tr>\n",
       "  </tbody>\n",
       "</table>\n",
       "</div>"
      ],
      "text/plain": [
       "                                             artists  \\\n",
       "0  [{'external_urls': {'spotify': 'https://open.s...   \n",
       "1  [{'external_urls': {'spotify': 'https://open.s...   \n",
       "2  [{'external_urls': {'spotify': 'https://open.s...   \n",
       "3  [{'external_urls': {'spotify': 'https://open.s...   \n",
       "4  [{'external_urls': {'spotify': 'https://open.s...   \n",
       "\n",
       "                                   available_markets  disc_number  \\\n",
       "0  [AR, AU, AT, BE, BO, BR, BG, CA, CL, CO, CR, C...            1   \n",
       "1  [AR, AU, AT, BE, BO, BR, BG, CA, CL, CO, CR, C...            1   \n",
       "2  [AR, AU, AT, BE, BO, BR, BG, CA, CL, CO, CR, C...            1   \n",
       "3  [AR, AU, AT, BE, BO, BR, BG, CA, CL, CO, CR, C...            1   \n",
       "4  [AR, AU, AT, BE, BO, BR, BG, CA, CL, CO, CR, C...            1   \n",
       "\n",
       "   duration_ms  explicit                                      external_urls  \\\n",
       "0       336511      True  {'spotify': 'https://open.spotify.com/track/2H...   \n",
       "1       178623      True  {'spotify': 'https://open.spotify.com/track/6j...   \n",
       "2       221979      True  {'spotify': 'https://open.spotify.com/track/37...   \n",
       "3       296568      True  {'spotify': 'https://open.spotify.com/track/61...   \n",
       "4       228461      True  {'spotify': 'https://open.spotify.com/track/4V...   \n",
       "\n",
       "                                                href                      id  \\\n",
       "0  https://api.spotify.com/v1/tracks/2HSmyk2qMN8W...  2HSmyk2qMN8WQjuGhaQgCk   \n",
       "1  https://api.spotify.com/v1/tracks/6jy9yJfgCsMH...  6jy9yJfgCsMHdu2Oz4BGKX   \n",
       "2  https://api.spotify.com/v1/tracks/37Nqx7iavZpo...  37Nqx7iavZpotJSDXZWbJ3   \n",
       "3  https://api.spotify.com/v1/tracks/61S79KIVA4I9...  61S79KIVA4I9FXbnsylEHT   \n",
       "4  https://api.spotify.com/v1/tracks/4VCbgIdr8pte...  4VCbgIdr8ptegWeJpqLVHH   \n",
       "\n",
       "   is_local                                   name preview_url  track_number  \\\n",
       "0     False                       Champagne Poetry        None             1   \n",
       "1     False                            Papi’s Home        None             2   \n",
       "2     False       Girls Want Girls (with Lil Baby)        None             3   \n",
       "3     False  In The Bible (with Lil Durk & Giveon)        None             4   \n",
       "4     False                  Love All (with JAY-Z)        None             5   \n",
       "\n",
       "    type                                   uri  \n",
       "0  track  spotify:track:2HSmyk2qMN8WQjuGhaQgCk  \n",
       "1  track  spotify:track:6jy9yJfgCsMHdu2Oz4BGKX  \n",
       "2  track  spotify:track:37Nqx7iavZpotJSDXZWbJ3  \n",
       "3  track  spotify:track:61S79KIVA4I9FXbnsylEHT  \n",
       "4  track  spotify:track:4VCbgIdr8ptegWeJpqLVHH  "
      ]
     },
     "execution_count": 20,
     "metadata": {},
     "output_type": "execute_result"
    }
   ],
   "source": [
    "search_df = pd.DataFrame(data['items'])\n",
    "search_df.head()"
   ]
  },
  {
   "cell_type": "code",
   "execution_count": 21,
   "id": "a7575300",
   "metadata": {},
   "outputs": [
    {
     "data": {
      "text/plain": [
       "'2HSmyk2qMN8WQjuGhaQgCk,6jy9yJfgCsMHdu2Oz4BGKX,37Nqx7iavZpotJSDXZWbJ3,61S79KIVA4I9FXbnsylEHT,4VCbgIdr8ptegWeJpqLVHH,40iJIUlhi6renaREYGeIDS,0k1WUmIRnG3xU6fvvDVfRG,4s7QLoImIwmPi9L6dq1nVW,34D6FJysnQioVingDKufuf,11pEKMLmavDu8fxOB5QjbQ,1PDP7mLiAMwhfmgIwzhOm2,2tUL6dZf1mywCj5WvCPZw6,2BcMwX1MPV6ZHP4tUT9uq6,42m3eP1JJhtzffal9B136J,2Q3jFbyE61mCjS3SkW4toJ,08XWh5c0BMyD1nKVxxl91z,5ScbulRnixQ2XAdvrPMFjz,50ceCGZ3oD3U5caQV5bP6f,7F9cT6hIRhnFCYP6GKS0tf,3RkNXZvOSMMElmmXztDc94'"
      ]
     },
     "execution_count": 21,
     "metadata": {},
     "output_type": "execute_result"
    }
   ],
   "source": [
    "','.join(list(search_df['id']))"
   ]
  },
  {
   "cell_type": "code",
   "execution_count": 22,
   "id": "4756c55f",
   "metadata": {},
   "outputs": [
    {
     "data": {
      "text/plain": [
       "'https://api.spotify.com/v1/audio-features?ids=2HSmyk2qMN8WQjuGhaQgCk,6jy9yJfgCsMHdu2Oz4BGKX,37Nqx7iavZpotJSDXZWbJ3,61S79KIVA4I9FXbnsylEHT,4VCbgIdr8ptegWeJpqLVHH,40iJIUlhi6renaREYGeIDS,0k1WUmIRnG3xU6fvvDVfRG,4s7QLoImIwmPi9L6dq1nVW,34D6FJysnQioVingDKufuf,11pEKMLmavDu8fxOB5QjbQ,1PDP7mLiAMwhfmgIwzhOm2,2tUL6dZf1mywCj5WvCPZw6,2BcMwX1MPV6ZHP4tUT9uq6,42m3eP1JJhtzffal9B136J,2Q3jFbyE61mCjS3SkW4toJ,08XWh5c0BMyD1nKVxxl91z,5ScbulRnixQ2XAdvrPMFjz,50ceCGZ3oD3U5caQV5bP6f,7F9cT6hIRhnFCYP6GKS0tf,3RkNXZvOSMMElmmXztDc94'"
      ]
     },
     "execution_count": 22,
     "metadata": {},
     "output_type": "execute_result"
    }
   ],
   "source": [
    "audio_features_url = 'https://api.spotify.com/v1/audio-features?ids={}'.format(','.join(list(search_df['id'])))\n",
    "audio_features_url"
   ]
  },
  {
   "cell_type": "code",
   "execution_count": 23,
   "id": "a90ec5e8",
   "metadata": {},
   "outputs": [],
   "source": [
    "features_response = requests.get(url = audio_features_url, headers = session_headers)"
   ]
  },
  {
   "cell_type": "code",
   "execution_count": 24,
   "id": "e3e5e6d2",
   "metadata": {},
   "outputs": [
    {
     "data": {
      "text/plain": [
       "200"
      ]
     },
     "execution_count": 24,
     "metadata": {},
     "output_type": "execute_result"
    }
   ],
   "source": [
    "features_response.status_code"
   ]
  },
  {
   "cell_type": "code",
   "execution_count": 25,
   "id": "9301930e",
   "metadata": {},
   "outputs": [],
   "source": [
    "features = features_response.json()"
   ]
  },
  {
   "cell_type": "code",
   "execution_count": 26,
   "id": "a458ed4a",
   "metadata": {},
   "outputs": [
    {
     "data": {
      "text/plain": [
       "dict_keys(['audio_features'])"
      ]
     },
     "execution_count": 26,
     "metadata": {},
     "output_type": "execute_result"
    }
   ],
   "source": [
    "features.keys()"
   ]
  },
  {
   "cell_type": "code",
   "execution_count": 27,
   "id": "ec927ac8",
   "metadata": {},
   "outputs": [
    {
     "data": {
      "text/plain": [
       "{'danceability': 0.423,\n",
       " 'energy': 0.667,\n",
       " 'key': 6,\n",
       " 'loudness': -7.012,\n",
       " 'mode': 0,\n",
       " 'speechiness': 0.326,\n",
       " 'acousticness': 0.758,\n",
       " 'instrumentalness': 0,\n",
       " 'liveness': 0.246,\n",
       " 'valence': 0.496,\n",
       " 'tempo': 86.743,\n",
       " 'type': 'audio_features',\n",
       " 'id': '2HSmyk2qMN8WQjuGhaQgCk',\n",
       " 'uri': 'spotify:track:2HSmyk2qMN8WQjuGhaQgCk',\n",
       " 'track_href': 'https://api.spotify.com/v1/tracks/2HSmyk2qMN8WQjuGhaQgCk',\n",
       " 'analysis_url': 'https://api.spotify.com/v1/audio-analysis/2HSmyk2qMN8WQjuGhaQgCk',\n",
       " 'duration_ms': 336511,\n",
       " 'time_signature': 4}"
      ]
     },
     "execution_count": 27,
     "metadata": {},
     "output_type": "execute_result"
    }
   ],
   "source": [
    "features['audio_features'][0]"
   ]
  },
  {
   "cell_type": "code",
   "execution_count": 28,
   "id": "4a93affc",
   "metadata": {},
   "outputs": [
    {
     "data": {
      "text/html": [
       "<div>\n",
       "<style scoped>\n",
       "    .dataframe tbody tr th:only-of-type {\n",
       "        vertical-align: middle;\n",
       "    }\n",
       "\n",
       "    .dataframe tbody tr th {\n",
       "        vertical-align: top;\n",
       "    }\n",
       "\n",
       "    .dataframe thead th {\n",
       "        text-align: right;\n",
       "    }\n",
       "</style>\n",
       "<table border=\"1\" class=\"dataframe\">\n",
       "  <thead>\n",
       "    <tr style=\"text-align: right;\">\n",
       "      <th></th>\n",
       "      <th>danceability</th>\n",
       "      <th>energy</th>\n",
       "      <th>key</th>\n",
       "      <th>loudness</th>\n",
       "      <th>mode</th>\n",
       "      <th>speechiness</th>\n",
       "      <th>acousticness</th>\n",
       "      <th>instrumentalness</th>\n",
       "      <th>liveness</th>\n",
       "      <th>valence</th>\n",
       "      <th>tempo</th>\n",
       "      <th>type</th>\n",
       "      <th>id</th>\n",
       "      <th>uri</th>\n",
       "      <th>track_href</th>\n",
       "      <th>analysis_url</th>\n",
       "      <th>duration_ms</th>\n",
       "      <th>time_signature</th>\n",
       "    </tr>\n",
       "  </thead>\n",
       "  <tbody>\n",
       "    <tr>\n",
       "      <th>0</th>\n",
       "      <td>0.423</td>\n",
       "      <td>0.667</td>\n",
       "      <td>6</td>\n",
       "      <td>-7.012</td>\n",
       "      <td>0</td>\n",
       "      <td>0.326</td>\n",
       "      <td>0.758</td>\n",
       "      <td>0.000000</td>\n",
       "      <td>0.246</td>\n",
       "      <td>0.496</td>\n",
       "      <td>86.743</td>\n",
       "      <td>audio_features</td>\n",
       "      <td>2HSmyk2qMN8WQjuGhaQgCk</td>\n",
       "      <td>spotify:track:2HSmyk2qMN8WQjuGhaQgCk</td>\n",
       "      <td>https://api.spotify.com/v1/tracks/2HSmyk2qMN8W...</td>\n",
       "      <td>https://api.spotify.com/v1/audio-analysis/2HSm...</td>\n",
       "      <td>336511</td>\n",
       "      <td>4</td>\n",
       "    </tr>\n",
       "    <tr>\n",
       "      <th>1</th>\n",
       "      <td>0.701</td>\n",
       "      <td>0.741</td>\n",
       "      <td>2</td>\n",
       "      <td>-6.157</td>\n",
       "      <td>1</td>\n",
       "      <td>0.313</td>\n",
       "      <td>0.112</td>\n",
       "      <td>0.000000</td>\n",
       "      <td>0.699</td>\n",
       "      <td>0.588</td>\n",
       "      <td>140.177</td>\n",
       "      <td>audio_features</td>\n",
       "      <td>6jy9yJfgCsMHdu2Oz4BGKX</td>\n",
       "      <td>spotify:track:6jy9yJfgCsMHdu2Oz4BGKX</td>\n",
       "      <td>https://api.spotify.com/v1/tracks/6jy9yJfgCsMH...</td>\n",
       "      <td>https://api.spotify.com/v1/audio-analysis/6jy9...</td>\n",
       "      <td>178623</td>\n",
       "      <td>4</td>\n",
       "    </tr>\n",
       "    <tr>\n",
       "      <th>2</th>\n",
       "      <td>0.767</td>\n",
       "      <td>0.438</td>\n",
       "      <td>7</td>\n",
       "      <td>-8.726</td>\n",
       "      <td>0</td>\n",
       "      <td>0.290</td>\n",
       "      <td>0.181</td>\n",
       "      <td>0.000000</td>\n",
       "      <td>0.142</td>\n",
       "      <td>0.381</td>\n",
       "      <td>86.975</td>\n",
       "      <td>audio_features</td>\n",
       "      <td>37Nqx7iavZpotJSDXZWbJ3</td>\n",
       "      <td>spotify:track:37Nqx7iavZpotJSDXZWbJ3</td>\n",
       "      <td>https://api.spotify.com/v1/tracks/37Nqx7iavZpo...</td>\n",
       "      <td>https://api.spotify.com/v1/audio-analysis/37Nq...</td>\n",
       "      <td>221980</td>\n",
       "      <td>4</td>\n",
       "    </tr>\n",
       "    <tr>\n",
       "      <th>3</th>\n",
       "      <td>0.686</td>\n",
       "      <td>0.385</td>\n",
       "      <td>7</td>\n",
       "      <td>-8.350</td>\n",
       "      <td>0</td>\n",
       "      <td>0.297</td>\n",
       "      <td>0.614</td>\n",
       "      <td>0.000000</td>\n",
       "      <td>0.131</td>\n",
       "      <td>0.147</td>\n",
       "      <td>143.070</td>\n",
       "      <td>audio_features</td>\n",
       "      <td>61S79KIVA4I9FXbnsylEHT</td>\n",
       "      <td>spotify:track:61S79KIVA4I9FXbnsylEHT</td>\n",
       "      <td>https://api.spotify.com/v1/tracks/61S79KIVA4I9...</td>\n",
       "      <td>https://api.spotify.com/v1/audio-analysis/61S7...</td>\n",
       "      <td>296568</td>\n",
       "      <td>4</td>\n",
       "    </tr>\n",
       "    <tr>\n",
       "      <th>4</th>\n",
       "      <td>0.730</td>\n",
       "      <td>0.576</td>\n",
       "      <td>2</td>\n",
       "      <td>-5.442</td>\n",
       "      <td>1</td>\n",
       "      <td>0.287</td>\n",
       "      <td>0.354</td>\n",
       "      <td>0.000036</td>\n",
       "      <td>0.150</td>\n",
       "      <td>0.155</td>\n",
       "      <td>92.131</td>\n",
       "      <td>audio_features</td>\n",
       "      <td>4VCbgIdr8ptegWeJpqLVHH</td>\n",
       "      <td>spotify:track:4VCbgIdr8ptegWeJpqLVHH</td>\n",
       "      <td>https://api.spotify.com/v1/tracks/4VCbgIdr8pte...</td>\n",
       "      <td>https://api.spotify.com/v1/audio-analysis/4VCb...</td>\n",
       "      <td>228461</td>\n",
       "      <td>4</td>\n",
       "    </tr>\n",
       "  </tbody>\n",
       "</table>\n",
       "</div>"
      ],
      "text/plain": [
       "   danceability  energy  key  loudness  mode  speechiness  acousticness  \\\n",
       "0         0.423   0.667    6    -7.012     0        0.326         0.758   \n",
       "1         0.701   0.741    2    -6.157     1        0.313         0.112   \n",
       "2         0.767   0.438    7    -8.726     0        0.290         0.181   \n",
       "3         0.686   0.385    7    -8.350     0        0.297         0.614   \n",
       "4         0.730   0.576    2    -5.442     1        0.287         0.354   \n",
       "\n",
       "   instrumentalness  liveness  valence    tempo            type  \\\n",
       "0          0.000000     0.246    0.496   86.743  audio_features   \n",
       "1          0.000000     0.699    0.588  140.177  audio_features   \n",
       "2          0.000000     0.142    0.381   86.975  audio_features   \n",
       "3          0.000000     0.131    0.147  143.070  audio_features   \n",
       "4          0.000036     0.150    0.155   92.131  audio_features   \n",
       "\n",
       "                       id                                   uri  \\\n",
       "0  2HSmyk2qMN8WQjuGhaQgCk  spotify:track:2HSmyk2qMN8WQjuGhaQgCk   \n",
       "1  6jy9yJfgCsMHdu2Oz4BGKX  spotify:track:6jy9yJfgCsMHdu2Oz4BGKX   \n",
       "2  37Nqx7iavZpotJSDXZWbJ3  spotify:track:37Nqx7iavZpotJSDXZWbJ3   \n",
       "3  61S79KIVA4I9FXbnsylEHT  spotify:track:61S79KIVA4I9FXbnsylEHT   \n",
       "4  4VCbgIdr8ptegWeJpqLVHH  spotify:track:4VCbgIdr8ptegWeJpqLVHH   \n",
       "\n",
       "                                          track_href  \\\n",
       "0  https://api.spotify.com/v1/tracks/2HSmyk2qMN8W...   \n",
       "1  https://api.spotify.com/v1/tracks/6jy9yJfgCsMH...   \n",
       "2  https://api.spotify.com/v1/tracks/37Nqx7iavZpo...   \n",
       "3  https://api.spotify.com/v1/tracks/61S79KIVA4I9...   \n",
       "4  https://api.spotify.com/v1/tracks/4VCbgIdr8pte...   \n",
       "\n",
       "                                        analysis_url  duration_ms  \\\n",
       "0  https://api.spotify.com/v1/audio-analysis/2HSm...       336511   \n",
       "1  https://api.spotify.com/v1/audio-analysis/6jy9...       178623   \n",
       "2  https://api.spotify.com/v1/audio-analysis/37Nq...       221980   \n",
       "3  https://api.spotify.com/v1/audio-analysis/61S7...       296568   \n",
       "4  https://api.spotify.com/v1/audio-analysis/4VCb...       228461   \n",
       "\n",
       "   time_signature  \n",
       "0               4  \n",
       "1               4  \n",
       "2               4  \n",
       "3               4  \n",
       "4               4  "
      ]
     },
     "execution_count": 28,
     "metadata": {},
     "output_type": "execute_result"
    }
   ],
   "source": [
    "drake_features_df = pd.DataFrame(features['audio_features'])\n",
    "drake_features_df.head()"
   ]
  },
  {
   "cell_type": "markdown",
   "id": "9ca712ad",
   "metadata": {},
   "source": [
    "This portion is where I pulled the data for David Kushners album."
   ]
  },
  {
   "cell_type": "code",
   "execution_count": 30,
   "id": "64f05cd7",
   "metadata": {},
   "outputs": [],
   "source": [
    "kushner_album = '5bXx1ncSvWPtNAuecQgsHf'"
   ]
  },
  {
   "cell_type": "code",
   "execution_count": 31,
   "id": "863dec75",
   "metadata": {},
   "outputs": [],
   "source": [
    "kushner_url = 'https://api.spotify.com/v1/albums/{}/tracks'.format(kushner_album)"
   ]
  },
  {
   "cell_type": "code",
   "execution_count": 32,
   "id": "80d54685",
   "metadata": {},
   "outputs": [],
   "source": [
    "response2 = requests.get(url = kushner_url, headers = session_headers)"
   ]
  },
  {
   "cell_type": "code",
   "execution_count": 33,
   "id": "18d128a9",
   "metadata": {},
   "outputs": [
    {
     "data": {
      "text/plain": [
       "200"
      ]
     },
     "execution_count": 33,
     "metadata": {},
     "output_type": "execute_result"
    }
   ],
   "source": [
    "response2.status_code"
   ]
  },
  {
   "cell_type": "code",
   "execution_count": 34,
   "id": "d7df0268",
   "metadata": {},
   "outputs": [
    {
     "data": {
      "text/plain": [
       "[{'external_urls': {'spotify': 'https://open.spotify.com/artist/33NVpKoXjItPwUJTMZIOiY'},\n",
       "  'href': 'https://api.spotify.com/v1/artists/33NVpKoXjItPwUJTMZIOiY',\n",
       "  'id': '33NVpKoXjItPwUJTMZIOiY',\n",
       "  'name': 'David Kushner',\n",
       "  'type': 'artist',\n",
       "  'uri': 'spotify:artist:33NVpKoXjItPwUJTMZIOiY'}]"
      ]
     },
     "execution_count": 34,
     "metadata": {},
     "output_type": "execute_result"
    }
   ],
   "source": [
    "kushner_data = json.loads(response2.text)\n",
    "kushner_data['items'][0]['artists']"
   ]
  },
  {
   "cell_type": "code",
   "execution_count": 36,
   "id": "920f8f2f",
   "metadata": {},
   "outputs": [
    {
     "data": {
      "text/html": [
       "<div>\n",
       "<style scoped>\n",
       "    .dataframe tbody tr th:only-of-type {\n",
       "        vertical-align: middle;\n",
       "    }\n",
       "\n",
       "    .dataframe tbody tr th {\n",
       "        vertical-align: top;\n",
       "    }\n",
       "\n",
       "    .dataframe thead th {\n",
       "        text-align: right;\n",
       "    }\n",
       "</style>\n",
       "<table border=\"1\" class=\"dataframe\">\n",
       "  <thead>\n",
       "    <tr style=\"text-align: right;\">\n",
       "      <th></th>\n",
       "      <th>artists</th>\n",
       "      <th>available_markets</th>\n",
       "      <th>disc_number</th>\n",
       "      <th>duration_ms</th>\n",
       "      <th>explicit</th>\n",
       "      <th>external_urls</th>\n",
       "      <th>href</th>\n",
       "      <th>id</th>\n",
       "      <th>is_local</th>\n",
       "      <th>name</th>\n",
       "      <th>preview_url</th>\n",
       "      <th>track_number</th>\n",
       "      <th>type</th>\n",
       "      <th>uri</th>\n",
       "    </tr>\n",
       "  </thead>\n",
       "  <tbody>\n",
       "    <tr>\n",
       "      <th>0</th>\n",
       "      <td>[{'external_urls': {'spotify': 'https://open.s...</td>\n",
       "      <td>[AR, AU, AT, BE, BO, BR, BG, CA, CL, CO, CR, C...</td>\n",
       "      <td>1</td>\n",
       "      <td>174186</td>\n",
       "      <td>False</td>\n",
       "      <td>{'spotify': 'https://open.spotify.com/track/4r...</td>\n",
       "      <td>https://api.spotify.com/v1/tracks/4r4yF6BGAm4o...</td>\n",
       "      <td>4r4yF6BGAm4oy4MnOYjSjI</td>\n",
       "      <td>False</td>\n",
       "      <td>Cigarettes</td>\n",
       "      <td>None</td>\n",
       "      <td>1</td>\n",
       "      <td>track</td>\n",
       "      <td>spotify:track:4r4yF6BGAm4oy4MnOYjSjI</td>\n",
       "    </tr>\n",
       "    <tr>\n",
       "      <th>1</th>\n",
       "      <td>[{'external_urls': {'spotify': 'https://open.s...</td>\n",
       "      <td>[AR, AU, AT, BE, BO, BR, BG, CA, CL, CO, CR, C...</td>\n",
       "      <td>1</td>\n",
       "      <td>179173</td>\n",
       "      <td>False</td>\n",
       "      <td>{'spotify': 'https://open.spotify.com/track/40...</td>\n",
       "      <td>https://api.spotify.com/v1/tracks/40dfo65kBJa1...</td>\n",
       "      <td>40dfo65kBJa1UgzkD652Gl</td>\n",
       "      <td>False</td>\n",
       "      <td>Burn</td>\n",
       "      <td>None</td>\n",
       "      <td>2</td>\n",
       "      <td>track</td>\n",
       "      <td>spotify:track:40dfo65kBJa1UgzkD652Gl</td>\n",
       "    </tr>\n",
       "    <tr>\n",
       "      <th>2</th>\n",
       "      <td>[{'external_urls': {'spotify': 'https://open.s...</td>\n",
       "      <td>[AR, AU, AT, BE, BO, BR, BG, CA, CL, CO, CR, C...</td>\n",
       "      <td>1</td>\n",
       "      <td>172680</td>\n",
       "      <td>False</td>\n",
       "      <td>{'spotify': 'https://open.spotify.com/track/4H...</td>\n",
       "      <td>https://api.spotify.com/v1/tracks/4HnVzg7n6aIP...</td>\n",
       "      <td>4HnVzg7n6aIPV7TCGRMR6k</td>\n",
       "      <td>False</td>\n",
       "      <td>Cannon Beach</td>\n",
       "      <td>None</td>\n",
       "      <td>3</td>\n",
       "      <td>track</td>\n",
       "      <td>spotify:track:4HnVzg7n6aIPV7TCGRMR6k</td>\n",
       "    </tr>\n",
       "    <tr>\n",
       "      <th>3</th>\n",
       "      <td>[{'external_urls': {'spotify': 'https://open.s...</td>\n",
       "      <td>[AR, AU, AT, BE, BO, BR, BG, CA, CL, CO, CR, C...</td>\n",
       "      <td>1</td>\n",
       "      <td>187293</td>\n",
       "      <td>False</td>\n",
       "      <td>{'spotify': 'https://open.spotify.com/track/0c...</td>\n",
       "      <td>https://api.spotify.com/v1/tracks/0c8K5IUrmVli...</td>\n",
       "      <td>0c8K5IUrmVlieC0Fc0d8tV</td>\n",
       "      <td>False</td>\n",
       "      <td>Mr. Forgettable</td>\n",
       "      <td>None</td>\n",
       "      <td>4</td>\n",
       "      <td>track</td>\n",
       "      <td>spotify:track:0c8K5IUrmVlieC0Fc0d8tV</td>\n",
       "    </tr>\n",
       "    <tr>\n",
       "      <th>4</th>\n",
       "      <td>[{'external_urls': {'spotify': 'https://open.s...</td>\n",
       "      <td>[AR, AU, AT, BE, BO, BR, BG, CA, CL, CO, CR, C...</td>\n",
       "      <td>1</td>\n",
       "      <td>164186</td>\n",
       "      <td>False</td>\n",
       "      <td>{'spotify': 'https://open.spotify.com/track/6e...</td>\n",
       "      <td>https://api.spotify.com/v1/tracks/6e0Gfl49FN9m...</td>\n",
       "      <td>6e0Gfl49FN9m2c8QaB9vFr</td>\n",
       "      <td>False</td>\n",
       "      <td>Look Back &amp; Laugh</td>\n",
       "      <td>None</td>\n",
       "      <td>5</td>\n",
       "      <td>track</td>\n",
       "      <td>spotify:track:6e0Gfl49FN9m2c8QaB9vFr</td>\n",
       "    </tr>\n",
       "  </tbody>\n",
       "</table>\n",
       "</div>"
      ],
      "text/plain": [
       "                                             artists  \\\n",
       "0  [{'external_urls': {'spotify': 'https://open.s...   \n",
       "1  [{'external_urls': {'spotify': 'https://open.s...   \n",
       "2  [{'external_urls': {'spotify': 'https://open.s...   \n",
       "3  [{'external_urls': {'spotify': 'https://open.s...   \n",
       "4  [{'external_urls': {'spotify': 'https://open.s...   \n",
       "\n",
       "                                   available_markets  disc_number  \\\n",
       "0  [AR, AU, AT, BE, BO, BR, BG, CA, CL, CO, CR, C...            1   \n",
       "1  [AR, AU, AT, BE, BO, BR, BG, CA, CL, CO, CR, C...            1   \n",
       "2  [AR, AU, AT, BE, BO, BR, BG, CA, CL, CO, CR, C...            1   \n",
       "3  [AR, AU, AT, BE, BO, BR, BG, CA, CL, CO, CR, C...            1   \n",
       "4  [AR, AU, AT, BE, BO, BR, BG, CA, CL, CO, CR, C...            1   \n",
       "\n",
       "   duration_ms  explicit                                      external_urls  \\\n",
       "0       174186     False  {'spotify': 'https://open.spotify.com/track/4r...   \n",
       "1       179173     False  {'spotify': 'https://open.spotify.com/track/40...   \n",
       "2       172680     False  {'spotify': 'https://open.spotify.com/track/4H...   \n",
       "3       187293     False  {'spotify': 'https://open.spotify.com/track/0c...   \n",
       "4       164186     False  {'spotify': 'https://open.spotify.com/track/6e...   \n",
       "\n",
       "                                                href                      id  \\\n",
       "0  https://api.spotify.com/v1/tracks/4r4yF6BGAm4o...  4r4yF6BGAm4oy4MnOYjSjI   \n",
       "1  https://api.spotify.com/v1/tracks/40dfo65kBJa1...  40dfo65kBJa1UgzkD652Gl   \n",
       "2  https://api.spotify.com/v1/tracks/4HnVzg7n6aIP...  4HnVzg7n6aIPV7TCGRMR6k   \n",
       "3  https://api.spotify.com/v1/tracks/0c8K5IUrmVli...  0c8K5IUrmVlieC0Fc0d8tV   \n",
       "4  https://api.spotify.com/v1/tracks/6e0Gfl49FN9m...  6e0Gfl49FN9m2c8QaB9vFr   \n",
       "\n",
       "   is_local               name preview_url  track_number   type  \\\n",
       "0     False         Cigarettes        None             1  track   \n",
       "1     False               Burn        None             2  track   \n",
       "2     False       Cannon Beach        None             3  track   \n",
       "3     False    Mr. Forgettable        None             4  track   \n",
       "4     False  Look Back & Laugh        None             5  track   \n",
       "\n",
       "                                    uri  \n",
       "0  spotify:track:4r4yF6BGAm4oy4MnOYjSjI  \n",
       "1  spotify:track:40dfo65kBJa1UgzkD652Gl  \n",
       "2  spotify:track:4HnVzg7n6aIPV7TCGRMR6k  \n",
       "3  spotify:track:0c8K5IUrmVlieC0Fc0d8tV  \n",
       "4  spotify:track:6e0Gfl49FN9m2c8QaB9vFr  "
      ]
     },
     "execution_count": 36,
     "metadata": {},
     "output_type": "execute_result"
    }
   ],
   "source": [
    "kushner_df = pd.DataFrame(kushner_data['items'])\n",
    "kushner_df.head()"
   ]
  },
  {
   "cell_type": "code",
   "execution_count": 37,
   "id": "c42d13b0",
   "metadata": {},
   "outputs": [
    {
     "data": {
      "text/plain": [
       "'4r4yF6BGAm4oy4MnOYjSjI,40dfo65kBJa1UgzkD652Gl,4HnVzg7n6aIPV7TCGRMR6k,0c8K5IUrmVlieC0Fc0d8tV,6e0Gfl49FN9m2c8QaB9vFr,5iu3rl4feYeRgR1DW0ydNU,2fkdhQW8R8QqE93iRFPYsl'"
      ]
     },
     "execution_count": 37,
     "metadata": {},
     "output_type": "execute_result"
    }
   ],
   "source": [
    "','.join(list(kushner_df['id']))"
   ]
  },
  {
   "cell_type": "code",
   "execution_count": 38,
   "id": "38c58e88",
   "metadata": {},
   "outputs": [
    {
     "data": {
      "text/plain": [
       "'https://api.spotify.com/v1/audio-features?ids=4r4yF6BGAm4oy4MnOYjSjI,40dfo65kBJa1UgzkD652Gl,4HnVzg7n6aIPV7TCGRMR6k,0c8K5IUrmVlieC0Fc0d8tV,6e0Gfl49FN9m2c8QaB9vFr,5iu3rl4feYeRgR1DW0ydNU,2fkdhQW8R8QqE93iRFPYsl'"
      ]
     },
     "execution_count": 38,
     "metadata": {},
     "output_type": "execute_result"
    }
   ],
   "source": [
    "kushner_url = 'https://api.spotify.com/v1/audio-features?ids={}'.format(','.join(list(kushner_df['id'])))\n",
    "kushner_url"
   ]
  },
  {
   "cell_type": "code",
   "execution_count": 39,
   "id": "521e7a93",
   "metadata": {},
   "outputs": [],
   "source": [
    "features_response2 = requests.get(url = kushner_url, headers = session_headers)"
   ]
  },
  {
   "cell_type": "code",
   "execution_count": 40,
   "id": "c081af2c",
   "metadata": {},
   "outputs": [
    {
     "data": {
      "text/plain": [
       "200"
      ]
     },
     "execution_count": 40,
     "metadata": {},
     "output_type": "execute_result"
    }
   ],
   "source": [
    "features_response2.status_code"
   ]
  },
  {
   "cell_type": "code",
   "execution_count": 41,
   "id": "3083d8fb",
   "metadata": {},
   "outputs": [],
   "source": [
    "kushner_features = features_response2.json()"
   ]
  },
  {
   "cell_type": "code",
   "execution_count": 42,
   "id": "cd0b24b9",
   "metadata": {},
   "outputs": [
    {
     "data": {
      "text/plain": [
       "dict_keys(['audio_features'])"
      ]
     },
     "execution_count": 42,
     "metadata": {},
     "output_type": "execute_result"
    }
   ],
   "source": [
    "kushner_features.keys()"
   ]
  },
  {
   "cell_type": "code",
   "execution_count": 43,
   "id": "b8b787ae",
   "metadata": {},
   "outputs": [
    {
     "data": {
      "text/plain": [
       "{'danceability': 0.536,\n",
       " 'energy': 0.367,\n",
       " 'key': 1,\n",
       " 'loudness': -9.435,\n",
       " 'mode': 1,\n",
       " 'speechiness': 0.0296,\n",
       " 'acousticness': 0.699,\n",
       " 'instrumentalness': 0.000159,\n",
       " 'liveness': 0.131,\n",
       " 'valence': 0.0492,\n",
       " 'tempo': 118.004,\n",
       " 'type': 'audio_features',\n",
       " 'id': '4r4yF6BGAm4oy4MnOYjSjI',\n",
       " 'uri': 'spotify:track:4r4yF6BGAm4oy4MnOYjSjI',\n",
       " 'track_href': 'https://api.spotify.com/v1/tracks/4r4yF6BGAm4oy4MnOYjSjI',\n",
       " 'analysis_url': 'https://api.spotify.com/v1/audio-analysis/4r4yF6BGAm4oy4MnOYjSjI',\n",
       " 'duration_ms': 174187,\n",
       " 'time_signature': 4}"
      ]
     },
     "execution_count": 43,
     "metadata": {},
     "output_type": "execute_result"
    }
   ],
   "source": [
    "kushner_features['audio_features'][0]"
   ]
  },
  {
   "cell_type": "code",
   "execution_count": 114,
   "id": "7208c1ca",
   "metadata": {
    "scrolled": true
   },
   "outputs": [
    {
     "data": {
      "text/html": [
       "<div>\n",
       "<style scoped>\n",
       "    .dataframe tbody tr th:only-of-type {\n",
       "        vertical-align: middle;\n",
       "    }\n",
       "\n",
       "    .dataframe tbody tr th {\n",
       "        vertical-align: top;\n",
       "    }\n",
       "\n",
       "    .dataframe thead th {\n",
       "        text-align: right;\n",
       "    }\n",
       "</style>\n",
       "<table border=\"1\" class=\"dataframe\">\n",
       "  <thead>\n",
       "    <tr style=\"text-align: right;\">\n",
       "      <th></th>\n",
       "      <th>danceability</th>\n",
       "      <th>energy</th>\n",
       "      <th>key</th>\n",
       "      <th>loudness</th>\n",
       "      <th>mode</th>\n",
       "      <th>speechiness</th>\n",
       "      <th>acousticness</th>\n",
       "      <th>instrumentalness</th>\n",
       "      <th>liveness</th>\n",
       "      <th>valence</th>\n",
       "      <th>tempo</th>\n",
       "      <th>type</th>\n",
       "      <th>id</th>\n",
       "      <th>uri</th>\n",
       "      <th>track_href</th>\n",
       "      <th>analysis_url</th>\n",
       "      <th>duration_ms</th>\n",
       "      <th>time_signature</th>\n",
       "    </tr>\n",
       "  </thead>\n",
       "  <tbody>\n",
       "    <tr>\n",
       "      <th>0</th>\n",
       "      <td>0.536</td>\n",
       "      <td>0.367</td>\n",
       "      <td>1</td>\n",
       "      <td>-9.435</td>\n",
       "      <td>1</td>\n",
       "      <td>0.0296</td>\n",
       "      <td>0.699</td>\n",
       "      <td>0.000159</td>\n",
       "      <td>0.131</td>\n",
       "      <td>0.0492</td>\n",
       "      <td>118.004</td>\n",
       "      <td>audio_features</td>\n",
       "      <td>4r4yF6BGAm4oy4MnOYjSjI</td>\n",
       "      <td>spotify:track:4r4yF6BGAm4oy4MnOYjSjI</td>\n",
       "      <td>https://api.spotify.com/v1/tracks/4r4yF6BGAm4o...</td>\n",
       "      <td>https://api.spotify.com/v1/audio-analysis/4r4y...</td>\n",
       "      <td>174187</td>\n",
       "      <td>4</td>\n",
       "    </tr>\n",
       "    <tr>\n",
       "      <th>1</th>\n",
       "      <td>0.574</td>\n",
       "      <td>0.408</td>\n",
       "      <td>0</td>\n",
       "      <td>-9.733</td>\n",
       "      <td>1</td>\n",
       "      <td>0.0359</td>\n",
       "      <td>0.799</td>\n",
       "      <td>0.002950</td>\n",
       "      <td>0.150</td>\n",
       "      <td>0.1340</td>\n",
       "      <td>126.127</td>\n",
       "      <td>audio_features</td>\n",
       "      <td>40dfo65kBJa1UgzkD652Gl</td>\n",
       "      <td>spotify:track:40dfo65kBJa1UgzkD652Gl</td>\n",
       "      <td>https://api.spotify.com/v1/tracks/40dfo65kBJa1...</td>\n",
       "      <td>https://api.spotify.com/v1/audio-analysis/40df...</td>\n",
       "      <td>179173</td>\n",
       "      <td>4</td>\n",
       "    </tr>\n",
       "    <tr>\n",
       "      <th>2</th>\n",
       "      <td>0.557</td>\n",
       "      <td>0.607</td>\n",
       "      <td>11</td>\n",
       "      <td>-6.569</td>\n",
       "      <td>1</td>\n",
       "      <td>0.0366</td>\n",
       "      <td>0.771</td>\n",
       "      <td>0.000002</td>\n",
       "      <td>0.138</td>\n",
       "      <td>0.6190</td>\n",
       "      <td>76.497</td>\n",
       "      <td>audio_features</td>\n",
       "      <td>4HnVzg7n6aIPV7TCGRMR6k</td>\n",
       "      <td>spotify:track:4HnVzg7n6aIPV7TCGRMR6k</td>\n",
       "      <td>https://api.spotify.com/v1/tracks/4HnVzg7n6aIP...</td>\n",
       "      <td>https://api.spotify.com/v1/audio-analysis/4HnV...</td>\n",
       "      <td>172680</td>\n",
       "      <td>4</td>\n",
       "    </tr>\n",
       "    <tr>\n",
       "      <th>3</th>\n",
       "      <td>0.564</td>\n",
       "      <td>0.412</td>\n",
       "      <td>8</td>\n",
       "      <td>-9.230</td>\n",
       "      <td>0</td>\n",
       "      <td>0.0274</td>\n",
       "      <td>0.554</td>\n",
       "      <td>0.000000</td>\n",
       "      <td>0.151</td>\n",
       "      <td>0.2900</td>\n",
       "      <td>144.689</td>\n",
       "      <td>audio_features</td>\n",
       "      <td>0c8K5IUrmVlieC0Fc0d8tV</td>\n",
       "      <td>spotify:track:0c8K5IUrmVlieC0Fc0d8tV</td>\n",
       "      <td>https://api.spotify.com/v1/tracks/0c8K5IUrmVli...</td>\n",
       "      <td>https://api.spotify.com/v1/audio-analysis/0c8K...</td>\n",
       "      <td>187293</td>\n",
       "      <td>4</td>\n",
       "    </tr>\n",
       "    <tr>\n",
       "      <th>4</th>\n",
       "      <td>0.546</td>\n",
       "      <td>0.332</td>\n",
       "      <td>2</td>\n",
       "      <td>-10.334</td>\n",
       "      <td>1</td>\n",
       "      <td>0.0582</td>\n",
       "      <td>0.611</td>\n",
       "      <td>0.000385</td>\n",
       "      <td>0.123</td>\n",
       "      <td>0.2110</td>\n",
       "      <td>74.938</td>\n",
       "      <td>audio_features</td>\n",
       "      <td>6e0Gfl49FN9m2c8QaB9vFr</td>\n",
       "      <td>spotify:track:6e0Gfl49FN9m2c8QaB9vFr</td>\n",
       "      <td>https://api.spotify.com/v1/tracks/6e0Gfl49FN9m...</td>\n",
       "      <td>https://api.spotify.com/v1/audio-analysis/6e0G...</td>\n",
       "      <td>164187</td>\n",
       "      <td>4</td>\n",
       "    </tr>\n",
       "    <tr>\n",
       "      <th>5</th>\n",
       "      <td>0.631</td>\n",
       "      <td>0.348</td>\n",
       "      <td>10</td>\n",
       "      <td>-10.285</td>\n",
       "      <td>1</td>\n",
       "      <td>0.0343</td>\n",
       "      <td>0.926</td>\n",
       "      <td>0.000089</td>\n",
       "      <td>0.295</td>\n",
       "      <td>0.3200</td>\n",
       "      <td>110.019</td>\n",
       "      <td>audio_features</td>\n",
       "      <td>5iu3rl4feYeRgR1DW0ydNU</td>\n",
       "      <td>spotify:track:5iu3rl4feYeRgR1DW0ydNU</td>\n",
       "      <td>https://api.spotify.com/v1/tracks/5iu3rl4feYeR...</td>\n",
       "      <td>https://api.spotify.com/v1/audio-analysis/5iu3...</td>\n",
       "      <td>232992</td>\n",
       "      <td>4</td>\n",
       "    </tr>\n",
       "    <tr>\n",
       "      <th>6</th>\n",
       "      <td>0.538</td>\n",
       "      <td>0.562</td>\n",
       "      <td>11</td>\n",
       "      <td>-8.828</td>\n",
       "      <td>1</td>\n",
       "      <td>0.1250</td>\n",
       "      <td>0.895</td>\n",
       "      <td>0.000281</td>\n",
       "      <td>0.177</td>\n",
       "      <td>0.3260</td>\n",
       "      <td>125.088</td>\n",
       "      <td>audio_features</td>\n",
       "      <td>2fkdhQW8R8QqE93iRFPYsl</td>\n",
       "      <td>spotify:track:2fkdhQW8R8QqE93iRFPYsl</td>\n",
       "      <td>https://api.spotify.com/v1/tracks/2fkdhQW8R8Qq...</td>\n",
       "      <td>https://api.spotify.com/v1/audio-analysis/2fkd...</td>\n",
       "      <td>182533</td>\n",
       "      <td>4</td>\n",
       "    </tr>\n",
       "  </tbody>\n",
       "</table>\n",
       "</div>"
      ],
      "text/plain": [
       "   danceability  energy  key  loudness  mode  speechiness  acousticness  \\\n",
       "0         0.536   0.367    1    -9.435     1       0.0296         0.699   \n",
       "1         0.574   0.408    0    -9.733     1       0.0359         0.799   \n",
       "2         0.557   0.607   11    -6.569     1       0.0366         0.771   \n",
       "3         0.564   0.412    8    -9.230     0       0.0274         0.554   \n",
       "4         0.546   0.332    2   -10.334     1       0.0582         0.611   \n",
       "5         0.631   0.348   10   -10.285     1       0.0343         0.926   \n",
       "6         0.538   0.562   11    -8.828     1       0.1250         0.895   \n",
       "\n",
       "   instrumentalness  liveness  valence    tempo            type  \\\n",
       "0          0.000159     0.131   0.0492  118.004  audio_features   \n",
       "1          0.002950     0.150   0.1340  126.127  audio_features   \n",
       "2          0.000002     0.138   0.6190   76.497  audio_features   \n",
       "3          0.000000     0.151   0.2900  144.689  audio_features   \n",
       "4          0.000385     0.123   0.2110   74.938  audio_features   \n",
       "5          0.000089     0.295   0.3200  110.019  audio_features   \n",
       "6          0.000281     0.177   0.3260  125.088  audio_features   \n",
       "\n",
       "                       id                                   uri  \\\n",
       "0  4r4yF6BGAm4oy4MnOYjSjI  spotify:track:4r4yF6BGAm4oy4MnOYjSjI   \n",
       "1  40dfo65kBJa1UgzkD652Gl  spotify:track:40dfo65kBJa1UgzkD652Gl   \n",
       "2  4HnVzg7n6aIPV7TCGRMR6k  spotify:track:4HnVzg7n6aIPV7TCGRMR6k   \n",
       "3  0c8K5IUrmVlieC0Fc0d8tV  spotify:track:0c8K5IUrmVlieC0Fc0d8tV   \n",
       "4  6e0Gfl49FN9m2c8QaB9vFr  spotify:track:6e0Gfl49FN9m2c8QaB9vFr   \n",
       "5  5iu3rl4feYeRgR1DW0ydNU  spotify:track:5iu3rl4feYeRgR1DW0ydNU   \n",
       "6  2fkdhQW8R8QqE93iRFPYsl  spotify:track:2fkdhQW8R8QqE93iRFPYsl   \n",
       "\n",
       "                                          track_href  \\\n",
       "0  https://api.spotify.com/v1/tracks/4r4yF6BGAm4o...   \n",
       "1  https://api.spotify.com/v1/tracks/40dfo65kBJa1...   \n",
       "2  https://api.spotify.com/v1/tracks/4HnVzg7n6aIP...   \n",
       "3  https://api.spotify.com/v1/tracks/0c8K5IUrmVli...   \n",
       "4  https://api.spotify.com/v1/tracks/6e0Gfl49FN9m...   \n",
       "5  https://api.spotify.com/v1/tracks/5iu3rl4feYeR...   \n",
       "6  https://api.spotify.com/v1/tracks/2fkdhQW8R8Qq...   \n",
       "\n",
       "                                        analysis_url  duration_ms  \\\n",
       "0  https://api.spotify.com/v1/audio-analysis/4r4y...       174187   \n",
       "1  https://api.spotify.com/v1/audio-analysis/40df...       179173   \n",
       "2  https://api.spotify.com/v1/audio-analysis/4HnV...       172680   \n",
       "3  https://api.spotify.com/v1/audio-analysis/0c8K...       187293   \n",
       "4  https://api.spotify.com/v1/audio-analysis/6e0G...       164187   \n",
       "5  https://api.spotify.com/v1/audio-analysis/5iu3...       232992   \n",
       "6  https://api.spotify.com/v1/audio-analysis/2fkd...       182533   \n",
       "\n",
       "   time_signature  \n",
       "0               4  \n",
       "1               4  \n",
       "2               4  \n",
       "3               4  \n",
       "4               4  \n",
       "5               4  \n",
       "6               4  "
      ]
     },
     "execution_count": 114,
     "metadata": {},
     "output_type": "execute_result"
    }
   ],
   "source": [
    "kushner_features_df = pd.DataFrame(kushner_features['audio_features'])\n",
    "kushner_features_df"
   ]
  },
  {
   "cell_type": "markdown",
   "id": "3e738705",
   "metadata": {},
   "source": [
    "After pulling the data and audio features for both albums I decided to put together graphs to get a better understanding of the energy and tempo features for each album. As well as to track whether or not the albums have any main similarities from a more visual aspect.\n",
    "\n",
    "This first graph is only comparing the energy feature for both albums. It's showing that the Drake has a larger and higher range of energy in his songs than David Kushner does in his album. "
   ]
  },
  {
   "cell_type": "code",
   "execution_count": 45,
   "id": "258cefe1",
   "metadata": {},
   "outputs": [
    {
     "data": {
      "image/png": "[encoded data removed]",
      "text/plain": [
       "<Figure size 640x480 with 2 Axes>"
      ]
     },
     "metadata": {},
     "output_type": "display_data"
    }
   ],
   "source": [
    "fig1, ax1 = plt.subplots(1, 2)\n",
    "ax1[0].hist(drake_features_df['energy'])\n",
    "ax1[1].hist(kushner_features_df['energy'])\n",
    "\n",
    "plt.show()"
   ]
  },
  {
   "cell_type": "markdown",
   "id": "268b0a0c",
   "metadata": {},
   "source": [
    "This next graph is a scatter plot that shows the crossover between the energy and tempo audio features between both albums. Drakes album has a mixture of low energy and low tempo or medium energy and high tempo. As for the David Kushner album he only has a couple songs with high energy and medium tempo. The majority of his songs have low energy and high tempo. There are no major crossovers I see on this graph."
   ]
  },
  {
   "cell_type": "code",
   "execution_count": 116,
   "id": "b7116887",
   "metadata": {},
   "outputs": [
    {
     "data": {
      "image/png": "[encoded data removed]",
      "text/plain": [
       "<Figure size 640x480 with 1 Axes>"
      ]
     },
     "metadata": {},
     "output_type": "display_data"
    }
   ],
   "source": [
    "fig2, ax2 = plt.subplots()\n",
    "ax2.scatter(x = drake_features_df['energy'],\n",
    "            y = drake_features_df['tempo'],\n",
    "            label = 'Drake Album',\n",
    "           color = 'orange',\n",
    "           marker = '*')\n",
    "ax2.scatter(x = kushner_features_df['energy'], \n",
    "            y = kushner_features_df['tempo'], \n",
    "            label = 'David Kushner Album',\n",
    "           color = 'purple',\n",
    "           marker = 'd')\n",
    "\n",
    "ax2.set_xlabel('Energy')\n",
    "ax2.set_ylabel('Tempo')\n",
    "ax2.legend()\n",
    "ax2.set_title('Relationship between\\nEnergy and Tempo for Two Music Albums')\n",
    "\n",
    "plt.show()"
   ]
  },
  {
   "cell_type": "code",
   "execution_count": 118,
   "id": "f0dc9d8f",
   "metadata": {},
   "outputs": [
    {
     "data": {
      "text/plain": [
       "0    118.004\n",
       "1    126.127\n",
       "2     76.497\n",
       "3    144.689\n",
       "4     74.938\n",
       "5    110.019\n",
       "6    125.088\n",
       "Name: tempo, dtype: float64"
      ]
     },
     "execution_count": 118,
     "metadata": {},
     "output_type": "execute_result"
    }
   ],
   "source": [
    "kushner_features_df['tempo']"
   ]
  },
  {
   "cell_type": "markdown",
   "id": "68150abc",
   "metadata": {},
   "source": [
    "This last graph shows the minimum and maximum tempo values in each album. It also provides the median values, this indicates what the average tempo is for each album. The dots represent each individual song and where they sit at on the chart depending on how much tempo is in the song."
   ]
  },
  {
   "cell_type": "code",
   "execution_count": 108,
   "id": "b87eb586",
   "metadata": {},
   "outputs": [
    {
     "data": {
      "image/png": "[encoded data removed]",
      "text/plain": [
       "<Figure size 640x480 with 1 Axes>"
      ]
     },
     "metadata": {},
     "output_type": "display_data"
    }
   ],
   "source": [
    "drake_tempo = drake_features_df['tempo']\n",
    "kushner_tempo = kushner_features_df['tempo']\n",
    "\n",
    "drake_xs = [1]*len(drake_tempo)\n",
    "kushner_xs = [2]*len(kushner_tempo)\n",
    "\n",
    "drake_x_jitter = np.random.uniform(-0.10, .10, len(drake_xs))\n",
    "kushner_x_jitter = np.random.uniform(-.10, .10, len(kushner_xs))\n",
    "\n",
    "\n",
    "fig3, ax3 = plt.subplots()\n",
    "ax3.boxplot(drake_tempo, positions = [1])\n",
    "ax3.boxplot(kushner_tempo, positions = [2])\n",
    "ax3.scatter(drake_xs + drake_x_jitter, drake_tempo, alpha = .5)\n",
    "ax3.scatter(kushner_xs + kushner_x_jitter, kushner_tempo, alpha = .5)\n",
    "\n",
    "\n",
    "\n",
    "plt.show()"
   ]
  },
  {
   "cell_type": "code",
   "execution_count": 110,
   "id": "0ed4c440",
   "metadata": {},
   "outputs": [
    {
     "data": {
      "text/plain": [
       "TtestResult(statistic=0.680839990507197, pvalue=0.5022306024361134, df=25.0)"
      ]
     },
     "execution_count": 110,
     "metadata": {},
     "output_type": "execute_result"
    }
   ],
   "source": [
    "result1 = stats.ttest_ind(drake_tempo, kushner_tempo)\n",
    "result1"
   ]
  },
  {
   "cell_type": "code",
   "execution_count": 112,
   "id": "1ee82648",
   "metadata": {},
   "outputs": [
    {
     "data": {
      "text/plain": [
       "0.680839990507197"
      ]
     },
     "execution_count": 112,
     "metadata": {},
     "output_type": "execute_result"
    }
   ],
   "source": [
    "result1.statistic"
   ]
  },
  {
   "cell_type": "code",
   "execution_count": 113,
   "id": "d80ea78c",
   "metadata": {},
   "outputs": [
    {
     "data": {
      "text/plain": [
       "0.5022306024361134"
      ]
     },
     "execution_count": 113,
     "metadata": {},
     "output_type": "execute_result"
    }
   ],
   "source": [
    "result1.pvalue"
   ]
  },
  {
   "cell_type": "code",
   "execution_count": 117,
   "id": "fdc87700",
   "metadata": {},
   "outputs": [
    {
     "data": {
      "text/plain": [
       "0.502"
      ]
     },
     "execution_count": 117,
     "metadata": {},
     "output_type": "execute_result"
    }
   ],
   "source": [
    "round(result1.pvalue, 3)"
   ]
  },
  {
   "cell_type": "markdown",
   "id": "f81d7a49",
   "metadata": {},
   "source": [
    "Taking a look at the ttest means reviewing the overall pvalue and whether or not it is below 0.05; this indicates if the variables have a good relationship or not. After reviewing the graphs and looking at the ttest I have a better understanding that both of these albums have no correlation to one another. \n",
    "On the other hand I did only look at two out of the eleven audio features. If I were to continue this study I would consider looking at different audio features to see if there are any more noticeable similarities between these albums. Given how distinct each album's musical genre is, I'm going to assume that there won't be any major parallels between these albums."
   ]
  }
 ],
 "metadata": {
  "kernelspec": {
   "display_name": "Python 3 (ipykernel)",
   "language": "python",
   "name": "python3"
  },
  "language_info": {
   "codemirror_mode": {
    "name": "ipython",
    "version": 3
   },
   "file_extension": ".py",
   "mimetype": "text/x-python",
   "name": "python",
   "nbconvert_exporter": "python",
   "pygments_lexer": "ipython3",
   "version": "3.11.4"
  }
 },
 "nbformat": 4,
 "nbformat_minor": 5
}
